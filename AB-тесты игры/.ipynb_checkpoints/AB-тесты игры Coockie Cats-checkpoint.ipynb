{
 "cells": [
  {
   "cell_type": "markdown",
   "id": "b838cd79",
   "metadata": {},
   "source": [
    "# A/B-тестирование удержания в игре Cookie Cats\n",
    "___\n",
    "**Описание проекта:**\n",
    "\n",
    "[Cookie Cats](https://play.google.com/store/apps/details?id=dk.tactile.cookiecats&hl=en) - популярная мобильная игра-головоломка, разработанная компанией Tactile Entertainment. Это классическая головоломка в стиле \"match-3\", в которой игрок должен соединить фишки одного цвета, чтобы очистить игровое поле и выиграть уровень.\n",
    "\n",
    "По мере прохождения игры игроки будут сталкиваться с препятствиями, которые вынуждают их ждать некоторое время, прежде чем они смогут продвинуться вперед или совершить покупку в приложении. В этом проекте мы проанализируем результаты A/B-теста, в ходе которого paywall в Cookie Cats были перенесен с 30-го на 40-й уровень. В частности, мы проанализируем влияние на удержание игроков.\n",
    "___\n",
    "**Исходные данные:**\n",
    "\n",
    "- `userid` - id игрока\n",
    "- `version` - версия игры\n",
    "- `sum_gamerounds` - количество пройденных уровней игроком\n",
    "- `retention_1` - вернулся ли игрок спустя 1 день после установки\n",
    "- `retention_7` - вернулся ли игрок спустя 7 дней после установки"
   ]
  },
  {
   "cell_type": "markdown",
   "id": "acc13712",
   "metadata": {},
   "source": [
    "### Импорт библиотек"
   ]
  },
  {
   "cell_type": "code",
   "execution_count": 227,
   "id": "b954e1b2",
   "metadata": {},
   "outputs": [],
   "source": [
    "%matplotlib inline\n",
    "\n",
    "import numpy as np\n",
    "import pandas as pd \n",
    "import matplotlib.pyplot as plt\n",
    "import ydata_profiling\n",
    "from scipy import stats\n",
    "\n",
    "import warnings\n",
    "warnings.filterwarnings('ignore')"
   ]
  },
  {
   "cell_type": "markdown",
   "id": "b531af90",
   "metadata": {},
   "source": [
    "### EDA"
   ]
  },
  {
   "cell_type": "code",
   "execution_count": 228,
   "id": "832ee96e",
   "metadata": {},
   "outputs": [],
   "source": [
    "df = pd.read_csv('cookie_cats.csv')"
   ]
  },
  {
   "cell_type": "code",
   "execution_count": 229,
   "id": "5174ec2d",
   "metadata": {},
   "outputs": [
    {
     "data": {
      "text/html": [
       "<div>\n",
       "<style scoped>\n",
       "    .dataframe tbody tr th:only-of-type {\n",
       "        vertical-align: middle;\n",
       "    }\n",
       "\n",
       "    .dataframe tbody tr th {\n",
       "        vertical-align: top;\n",
       "    }\n",
       "\n",
       "    .dataframe thead th {\n",
       "        text-align: right;\n",
       "    }\n",
       "</style>\n",
       "<table border=\"1\" class=\"dataframe\">\n",
       "  <thead>\n",
       "    <tr style=\"text-align: right;\">\n",
       "      <th></th>\n",
       "      <th>userid</th>\n",
       "      <th>version</th>\n",
       "      <th>sum_gamerounds</th>\n",
       "      <th>retention_1</th>\n",
       "      <th>retention_7</th>\n",
       "    </tr>\n",
       "  </thead>\n",
       "  <tbody>\n",
       "    <tr>\n",
       "      <th>0</th>\n",
       "      <td>116</td>\n",
       "      <td>gate_30</td>\n",
       "      <td>3</td>\n",
       "      <td>False</td>\n",
       "      <td>False</td>\n",
       "    </tr>\n",
       "    <tr>\n",
       "      <th>1</th>\n",
       "      <td>337</td>\n",
       "      <td>gate_30</td>\n",
       "      <td>38</td>\n",
       "      <td>True</td>\n",
       "      <td>False</td>\n",
       "    </tr>\n",
       "    <tr>\n",
       "      <th>2</th>\n",
       "      <td>377</td>\n",
       "      <td>gate_40</td>\n",
       "      <td>165</td>\n",
       "      <td>True</td>\n",
       "      <td>False</td>\n",
       "    </tr>\n",
       "    <tr>\n",
       "      <th>3</th>\n",
       "      <td>483</td>\n",
       "      <td>gate_40</td>\n",
       "      <td>1</td>\n",
       "      <td>False</td>\n",
       "      <td>False</td>\n",
       "    </tr>\n",
       "    <tr>\n",
       "      <th>4</th>\n",
       "      <td>488</td>\n",
       "      <td>gate_40</td>\n",
       "      <td>179</td>\n",
       "      <td>True</td>\n",
       "      <td>True</td>\n",
       "    </tr>\n",
       "  </tbody>\n",
       "</table>\n",
       "</div>"
      ],
      "text/plain": [
       "   userid  version  sum_gamerounds  retention_1  retention_7\n",
       "0     116  gate_30               3        False        False\n",
       "1     337  gate_30              38         True        False\n",
       "2     377  gate_40             165         True        False\n",
       "3     483  gate_40               1        False        False\n",
       "4     488  gate_40             179         True         True"
      ]
     },
     "execution_count": 229,
     "metadata": {},
     "output_type": "execute_result"
    }
   ],
   "source": [
    "df.head()"
   ]
  },
  {
   "cell_type": "code",
   "execution_count": 230,
   "id": "32f884d0",
   "metadata": {},
   "outputs": [
    {
     "name": "stdout",
     "output_type": "stream",
     "text": [
      "<class 'pandas.core.frame.DataFrame'>\n",
      "RangeIndex: 90189 entries, 0 to 90188\n",
      "Data columns (total 5 columns):\n",
      " #   Column          Non-Null Count  Dtype \n",
      "---  ------          --------------  ----- \n",
      " 0   userid          90189 non-null  int64 \n",
      " 1   version         90189 non-null  object\n",
      " 2   sum_gamerounds  90189 non-null  int64 \n",
      " 3   retention_1     90189 non-null  bool  \n",
      " 4   retention_7     90189 non-null  bool  \n",
      "dtypes: bool(2), int64(2), object(1)\n",
      "memory usage: 2.2+ MB\n"
     ]
    }
   ],
   "source": [
    "df.info()"
   ]
  },
  {
   "cell_type": "code",
   "execution_count": 231,
   "id": "c534718d",
   "metadata": {},
   "outputs": [
    {
     "data": {
      "application/vnd.jupyter.widget-view+json": {
       "model_id": "b81c367f94404769b344c1c23e5843fc",
       "version_major": 2,
       "version_minor": 0
      },
      "text/plain": [
       "Summarize dataset:   0%|          | 0/5 [00:00<?, ?it/s]"
      ]
     },
     "metadata": {},
     "output_type": "display_data"
    },
    {
     "data": {
      "application/vnd.jupyter.widget-view+json": {
       "model_id": "ddfa35a9850c4d41bc2a95ec3d3a3a31",
       "version_major": 2,
       "version_minor": 0
      },
      "text/plain": [
       "Generate report structure:   0%|          | 0/1 [00:00<?, ?it/s]"
      ]
     },
     "metadata": {},
     "output_type": "display_data"
    },
    {
     "data": {
      "application/vnd.jupyter.widget-view+json": {
       "model_id": "",
       "version_major": 2,
       "version_minor": 0
      },
      "text/plain": [
       "Render widgets:   0%|          | 0/1 [00:00<?, ?it/s]"
      ]
     },
     "metadata": {},
     "output_type": "display_data"
    },
    {
     "data": {
      "application/vnd.jupyter.widget-view+json": {
       "model_id": "98d763a3885a446899de261d905ef924",
       "version_major": 2,
       "version_minor": 0
      },
      "text/plain": [
       "VBox(children=(Tab(children=(Tab(children=(GridBox(children=(VBox(children=(GridspecLayout(children=(HTML(valu…"
      ]
     },
     "metadata": {},
     "output_type": "display_data"
    }
   ],
   "source": [
    "ydata_profiling.ProfileReport(df, explorative=True).to_widgets()"
   ]
  },
  {
   "cell_type": "markdown",
   "id": "0e866060",
   "metadata": {},
   "source": [
    "Построим боксплот для `sum_gamerounds` по версиям"
   ]
  },
  {
   "cell_type": "code",
   "execution_count": 232,
   "id": "43a29061",
   "metadata": {},
   "outputs": [
    {
     "data": {
      "text/plain": [
       "<Figure size 800x600 with 0 Axes>"
      ]
     },
     "metadata": {},
     "output_type": "display_data"
    },
    {
     "data": {
      "image/png": "[encoded data removed]",
      "text/plain": [
       "<Figure size 900x600 with 1 Axes>"
      ]
     },
     "metadata": {},
     "output_type": "display_data"
    }
   ],
   "source": [
    "plt.figure(figsize=(8, 6))\n",
    "df.boxplot(column='sum_gamerounds', by='version', figsize=(9, 6))\n",
    "\n",
    "plt.title('Box Plot of Sum Gamerounds by Version', fontsize=14)  \n",
    "plt.xlabel('Version', fontsize=12) \n",
    "plt.ylabel('Sum Gamerounds', fontsize=12) \n",
    "\n",
    "plt.grid(True, linestyle='--', alpha=0.7)\n",
    "\n",
    "plt.show();"
   ]
  },
  {
   "cell_type": "markdown",
   "id": "fce6120d",
   "metadata": {},
   "source": [
    "В версии `gate_30` имеется аномалия\n",
    "___\n",
    "Рассмотрим проценты ретеншенов"
   ]
  },
  {
   "cell_type": "code",
   "execution_count": 233,
   "id": "5c2e3c5f",
   "metadata": {},
   "outputs": [
    {
     "data": {
      "text/plain": [
       "False    0.55\n",
       "True     0.45\n",
       "Name: retention_1, dtype: float64"
      ]
     },
     "execution_count": 233,
     "metadata": {},
     "output_type": "execute_result"
    }
   ],
   "source": [
    "round(df['retention_1'].value_counts(normalize=True), 2)"
   ]
  },
  {
   "cell_type": "code",
   "execution_count": 234,
   "id": "9244c217",
   "metadata": {},
   "outputs": [
    {
     "data": {
      "text/plain": [
       "False    0.81\n",
       "True     0.19\n",
       "Name: retention_7, dtype: float64"
      ]
     },
     "execution_count": 234,
     "metadata": {},
     "output_type": "execute_result"
    }
   ],
   "source": [
    "round(df['retention_7'].value_counts(normalize=True), 2)"
   ]
  },
  {
   "cell_type": "markdown",
   "id": "c5b96c78",
   "metadata": {},
   "source": [
    "Построим диаграмму по ретеншенам 1-го и 7-го дней"
   ]
  },
  {
   "cell_type": "code",
   "execution_count": 235,
   "id": "aed33ad9",
   "metadata": {},
   "outputs": [
    {
     "data": {
      "image/png": "[encoded data removed]",
      "text/plain": [
       "<Figure size 640x480 with 1 Axes>"
      ]
     },
     "metadata": {},
     "output_type": "display_data"
    }
   ],
   "source": [
    "ret_d1 = round(df['retention_1'].value_counts(normalize=True), 2)\n",
    "ret_d7 = round(df['retention_7'].value_counts(normalize=True), 2)\n",
    "\n",
    "labels = ['Retention 1D', 'Retention 7D']\n",
    "\n",
    "# Построение графика\n",
    "fig, ax = plt.subplots()\n",
    "\n",
    "# Позиции столбцов на оси X\n",
    "x = range(len(labels))\n",
    "\n",
    "# Построение столбцов для True и False\n",
    "bar1 = ax.bar(x, [r[0] for r in [ret_d1, ret_d7]], width=0.4, label='False', color='red')\n",
    "bar2 = ax.bar(x, [r[1] for r in [ret_d1, ret_d7]], width=0.4, bottom=[r[0] for r in [ret_d1, ret_d7]], label='True', color='green')\n",
    "\n",
    "# Добавление числовых значений с помощью bar_label\n",
    "ax.bar_label(bar1, fmt='%.2f', label_type='center', color='white', fontweight='bold')\n",
    "ax.bar_label(bar2, fmt='%.2f', label_type='center', color='black', fontweight='bold')\n",
    "\n",
    "ax.set_ylabel('Доля игроков')\n",
    "ax.set_title('Ретеншены 1-го и 7-го дней')\n",
    "ax.set_xticks(x)\n",
    "ax.set_xticklabels(labels)\n",
    "ax.legend()\n",
    "\n",
    "plt.tight_layout()\n",
    "plt.show()"
   ]
  },
  {
   "cell_type": "markdown",
   "id": "4da4d6ee",
   "metadata": {},
   "source": [
    "- Датасет содержит информацию о **90189** игроках и 5 столбцов. Пропуски и дубликаты отсутствуют\n",
    "- `userid` имеет числовой формат. Нужно будет поменять на string\n",
    "- Версии **30** и **40** имеют почти равное количество юзеров\n",
    "- Медианное значение `sum_gamerounds` - 16, а среднее - 51. Также имеется аномальное значение - 49854 (скорее всего, это тестовый аккаунт от разрабов), которое может влиять на среднюю.\n",
    "- Ретеншн 1-го дня 45%, 7-го - 19% - очень хорошие показатели."
   ]
  },
  {
   "cell_type": "markdown",
   "id": "3db77acf",
   "metadata": {},
   "source": [
    "Аномальное значение (49854) может исказить анализ и повлиять на выводы, поэтому стоит удалить его."
   ]
  },
  {
   "cell_type": "code",
   "execution_count": 236,
   "id": "b57713e0",
   "metadata": {},
   "outputs": [],
   "source": [
    "df = df[df['sum_gamerounds'] != 49854]"
   ]
  },
  {
   "cell_type": "code",
   "execution_count": 237,
   "id": "28ddb754",
   "metadata": {},
   "outputs": [
    {
     "data": {
      "text/plain": [
       "90188"
      ]
     },
     "execution_count": 237,
     "metadata": {},
     "output_type": "execute_result"
    }
   ],
   "source": [
    "df.shape[0]"
   ]
  },
  {
   "cell_type": "markdown",
   "id": "3f57f297",
   "metadata": {},
   "source": [
    "### Сравнение версий"
   ]
  },
  {
   "cell_type": "markdown",
   "id": "a34ffcbb",
   "metadata": {},
   "source": [
    "Сгруппируем данные по версиям и построим график"
   ]
  },
  {
   "cell_type": "code",
   "execution_count": 238,
   "id": "73d754de",
   "metadata": {},
   "outputs": [],
   "source": [
    "grouped_data = df.groupby('version').agg({\n",
    "    'userid': 'count',               # Количество пользователей\n",
    "    'sum_gamerounds': 'mean',         # Среднее количество игровых раундов\n",
    "    'retention_1': 'mean',            # Средний процент удержания на 1-й день\n",
    "    'retention_7': 'mean'             # Средний процент удержания на 7-й день\n",
    "}).rename(columns={\n",
    "    'userid': 'user_count',\n",
    "    'sum_gamerounds': 'mean_gamerounds'})"
   ]
  },
  {
   "cell_type": "code",
   "execution_count": 239,
   "id": "85f63c4c",
   "metadata": {},
   "outputs": [
    {
     "data": {
      "text/html": [
       "<div>\n",
       "<style scoped>\n",
       "    .dataframe tbody tr th:only-of-type {\n",
       "        vertical-align: middle;\n",
       "    }\n",
       "\n",
       "    .dataframe tbody tr th {\n",
       "        vertical-align: top;\n",
       "    }\n",
       "\n",
       "    .dataframe thead th {\n",
       "        text-align: right;\n",
       "    }\n",
       "</style>\n",
       "<table border=\"1\" class=\"dataframe\">\n",
       "  <thead>\n",
       "    <tr style=\"text-align: right;\">\n",
       "      <th></th>\n",
       "      <th>user_count</th>\n",
       "      <th>mean_gamerounds</th>\n",
       "      <th>retention_1</th>\n",
       "      <th>retention_7</th>\n",
       "    </tr>\n",
       "    <tr>\n",
       "      <th>version</th>\n",
       "      <th></th>\n",
       "      <th></th>\n",
       "      <th></th>\n",
       "      <th></th>\n",
       "    </tr>\n",
       "  </thead>\n",
       "  <tbody>\n",
       "    <tr>\n",
       "      <th>gate_30</th>\n",
       "      <td>44699</td>\n",
       "      <td>51.342111</td>\n",
       "      <td>0.448198</td>\n",
       "      <td>0.190183</td>\n",
       "    </tr>\n",
       "    <tr>\n",
       "      <th>gate_40</th>\n",
       "      <td>45489</td>\n",
       "      <td>51.298776</td>\n",
       "      <td>0.442283</td>\n",
       "      <td>0.182000</td>\n",
       "    </tr>\n",
       "  </tbody>\n",
       "</table>\n",
       "</div>"
      ],
      "text/plain": [
       "         user_count  mean_gamerounds  retention_1  retention_7\n",
       "version                                                       \n",
       "gate_30       44699        51.342111     0.448198     0.190183\n",
       "gate_40       45489        51.298776     0.442283     0.182000"
      ]
     },
     "execution_count": 239,
     "metadata": {},
     "output_type": "execute_result"
    }
   ],
   "source": [
    "grouped_data"
   ]
  },
  {
   "cell_type": "code",
   "execution_count": 240,
   "id": "84b63ec9",
   "metadata": {},
   "outputs": [
    {
     "data": {
      "image/png": "[encoded data removed]",
      "text/plain": [
       "<Figure size 640x480 with 1 Axes>"
      ]
     },
     "metadata": {},
     "output_type": "display_data"
    }
   ],
   "source": [
    "retention_1 = grouped_data['retention_1']\n",
    "retention_7 = grouped_data['retention_7']\n",
    "\n",
    "fig, ax = plt.subplots()\n",
    "\n",
    "bar_width = 0.35\n",
    "index = range(len(grouped_data))\n",
    "\n",
    "bar1 = ax.bar(index, retention_1, bar_width, label='Retention 1D', color='b')\n",
    "bar2 = ax.bar([i + bar_width for i in index], retention_7, bar_width, label='Retention 7D', color='g')\n",
    "\n",
    "ax.bar_label(bar1, fmt='%.3f', label_type='center', color='white', fontweight='bold')\n",
    "ax.bar_label(bar2, fmt='%.3f', label_type='center', color='black', fontweight='bold')\n",
    "\n",
    "ax.set_xlabel('Version')\n",
    "ax.set_ylabel('Retention Rate')\n",
    "ax.set_xticks([i + bar_width / 2 for i in index])\n",
    "ax.set_xticklabels(grouped_data.index)\n",
    "ax.legend(bbox_to_anchor=(1.4, 1))\n",
    "\n",
    "plt.show()"
   ]
  },
  {
   "cell_type": "markdown",
   "id": "647c418f",
   "metadata": {},
   "source": [
    "Посмотрели на динамику ретеншена по каждой версии. Теперь сравним версии по каждому ретеншену"
   ]
  },
  {
   "cell_type": "code",
   "execution_count": 241,
   "id": "8cca58ab",
   "metadata": {},
   "outputs": [],
   "source": [
    "grouped_data_t = grouped_data.T[2:4]"
   ]
  },
  {
   "cell_type": "code",
   "execution_count": 242,
   "id": "05ee26fd",
   "metadata": {},
   "outputs": [
    {
     "data": {
      "image/png": "[encoded data removed]",
      "text/plain": [
       "<Figure size 640x480 with 1 Axes>"
      ]
     },
     "metadata": {},
     "output_type": "display_data"
    }
   ],
   "source": [
    "gate_30 = grouped_data_t['gate_30']\n",
    "gate_40 = grouped_data_t['gate_40']\n",
    "\n",
    "fig, ax = plt.subplots()\n",
    "\n",
    "bar_width = 0.35\n",
    "index = range(len(grouped_data_t))\n",
    "\n",
    "bar1 = ax.bar(index, gate_30, bar_width, label='gate_30', color='b')\n",
    "bar2 = ax.bar([i + bar_width for i in index], gate_40, bar_width, label='gate_40', color='g')\n",
    "\n",
    "ax.bar_label(bar1, fmt='%.3f', label_type='center', color='white', fontweight='bold')\n",
    "ax.bar_label(bar2, fmt='%.3f', label_type='center', color='black', fontweight='bold')\n",
    "\n",
    "ax.set_xlabel('Retention Nd')\n",
    "ax.set_ylabel('Retention Rate')\n",
    "ax.set_xticks([i + bar_width / 2 for i in index])\n",
    "ax.set_xticklabels(grouped_data_t.index)\n",
    "ax.legend(bbox_to_anchor=(0.9, 0.9))\n",
    "\n",
    "plt.show()"
   ]
  },
  {
   "cell_type": "markdown",
   "id": "02b5faf6",
   "metadata": {},
   "source": [
    "Оба ретеншена выше у версии `gate_30`"
   ]
  },
  {
   "cell_type": "markdown",
   "id": "ef5f967f",
   "metadata": {},
   "source": [
    "### A/B тест"
   ]
  },
  {
   "cell_type": "markdown",
   "id": "9e1dc3d9",
   "metadata": {},
   "source": [
    "H₀ - Отсутствуют статистически значимые различия между версиями\n",
    "\n",
    "H₁ - Различия между версиями имеются\n",
    "___\n",
    "Проведем три теста: по количеству раундов, по ретеншену 1-го и 7-го дней.\n",
    "\n",
    "Напишем функцию с помощью которой узнаем нормальность распределения и p-value"
   ]
  },
  {
   "cell_type": "code",
   "execution_count": 243,
   "id": "cd6935e6",
   "metadata": {},
   "outputs": [],
   "source": [
    "def ab_test(df, target, alpha = 0.05):\n",
    "    \n",
    "    group1_data = df.loc[df['version'] == 'gate_30', target]\n",
    "    group2_data = df.loc[df['version'] == 'gate_40', target]\n",
    "    \n",
    "    # Проверка нормальности распределения\n",
    "    stat_30, p_30 = stats.shapiro(group1_data)\n",
    "    stat_40, p_40 = stats.shapiro(group2_data)\n",
    "    \n",
    "    # Выбор теста в зависимости от результатов проверки нормальности\n",
    "    if p_30 > alpha and p_40 > alpha:\n",
    "        # Если данные в обеих группах нормально распределены, используем t-тест\n",
    "        test_name = \"t-test\"\n",
    "        test_stat, p_value = stats.ttest_ind(group1_data, group2_data)\n",
    "    else:\n",
    "        # Если данные не соответствуют нормальному распределению, используем U-тест Манна-Уитни\n",
    "        test_name = \"Mann-Whitney U test\"\n",
    "        test_stat, p_value = stats.mannwhitneyu(group1_data, group2_data, alternative='two-sided')\n",
    "        \n",
    "    if p_value > alpha:\n",
    "        print('Мы не можем отвергнуть нулевую гипотезу H₀: различия между версиями статистически не значимы.')\n",
    "    else:\n",
    "        print('Мы отвергаем нулевую гипотезу H₀ и принимаем альтернативную гипотезу H₁: различия между версиями статистически значимы.')\n",
    "                         \n",
    "    print(f'{test_name}:')\n",
    "    print(f'Test Statistic = {test_stat: .1f}, p-value = {p_value: .4f}')"
   ]
  },
  {
   "cell_type": "markdown",
   "id": "2edd3262",
   "metadata": {},
   "source": [
    "#### Количество сыгранных раундов"
   ]
  },
  {
   "cell_type": "code",
   "execution_count": 244,
   "id": "b3564fce",
   "metadata": {},
   "outputs": [
    {
     "name": "stdout",
     "output_type": "stream",
     "text": [
      "Мы не можем отвергнуть нулевую гипотезу H₀: различия между версиями статистически не значимы.\n",
      "Mann-Whitney U test:\n",
      "Test Statistic =  1024285761.5, p-value =  0.0509\n"
     ]
    },
    {
     "name": "stderr",
     "output_type": "stream",
     "text": [
      "C:\\Users\\user\\anaconda3\\lib\\site-packages\\scipy\\stats\\_morestats.py:1800: UserWarning: p-value may not be accurate for N > 5000.\n",
      "  warnings.warn(\"p-value may not be accurate for N > 5000.\")\n"
     ]
    }
   ],
   "source": [
    "ab_test(df, 'sum_gamerounds')"
   ]
  },
  {
   "cell_type": "markdown",
   "id": "5d7cae30",
   "metadata": {},
   "source": [
    "#### Retention 1D"
   ]
  },
  {
   "cell_type": "code",
   "execution_count": 245,
   "id": "a16caca7",
   "metadata": {},
   "outputs": [
    {
     "name": "stdout",
     "output_type": "stream",
     "text": [
      "Мы не можем отвергнуть нулевую гипотезу H₀: различия между версиями статистически не значимы.\n",
      "Mann-Whitney U test:\n",
      "Test Statistic =  1022670128.0, p-value =  0.0739\n"
     ]
    }
   ],
   "source": [
    "ab_test(df, 'retention_1')"
   ]
  },
  {
   "cell_type": "markdown",
   "id": "93f056fa",
   "metadata": {},
   "source": [
    "#### Retention 7D"
   ]
  },
  {
   "cell_type": "code",
   "execution_count": 246,
   "id": "6b4dd9d1",
   "metadata": {},
   "outputs": [
    {
     "name": "stdout",
     "output_type": "stream",
     "text": [
      "Мы отвергаем нулевую гипотезу H₀ и принимаем альтернативную гипотезу H₁: различия между версиями статистически значимы.\n",
      "Mann-Whitney U test:\n",
      "Test Statistic =  1024975889.5, p-value =  0.0016\n"
     ]
    }
   ],
   "source": [
    "ab_test(df, 'retention_7')"
   ]
  },
  {
   "cell_type": "markdown",
   "id": "05dd0111",
   "metadata": {},
   "source": [
    "### Вывод"
   ]
  },
  {
   "cell_type": "markdown",
   "id": "3d182b31",
   "metadata": {},
   "source": [
    "В ходе проведения A/B тестирования были проанализированы три метрики: `sum_gamerounds`, `retention_1` и `retention_7`. Для каждой метрики был проведен U-тест Манна-Уитни, который не требует нормальности распределения данных (тест Шапиро показал, что в данных отсутствует нормальность распределения).\n",
    "\n",
    "Различия между версиями \"gate_30\" и \"gate_40\" по сумме сыгранных раундов (`sum_gamerounds`) и краткосрочного удержания (`retention_1`) статистически не значимы. Однако для 7-дневного удержания A/B-тест показывает статистически значимую разницу между версиями (p-value = **0,0016**): версия \"gate_30\" имеет более высокое удержание, чем версия \"gate_40\"."
   ]
  }
 ],
 "metadata": {
  "kernelspec": {
   "display_name": "Python 3 (ipykernel)",
   "language": "python",
   "name": "python3"
  },
  "language_info": {
   "codemirror_mode": {
    "name": "ipython",
    "version": 3
   },
   "file_extension": ".py",
   "mimetype": "text/x-python",
   "name": "python",
   "nbconvert_exporter": "python",
   "pygments_lexer": "ipython3",
   "version": "3.9.13"
  },
  "toc": {
   "base_numbering": 1,
   "nav_menu": {},
   "number_sections": true,
   "sideBar": true,
   "skip_h1_title": true,
   "title_cell": "Table of Contents",
   "title_sidebar": "Contents",
   "toc_cell": false,
   "toc_position": {
    "height": "calc(100% - 180px)",
    "left": "10px",
    "top": "150px",
    "width": "426.667px"
   },
   "toc_section_display": true,
   "toc_window_display": true
  },
  "vp": {
   "vp_config_version": "1.0.0",
   "vp_menu_width": 273,
   "vp_note_display": false,
   "vp_note_width": 0,
   "vp_position": {
    "width": 278
   },
   "vp_section_display": false,
   "vp_signature": "VisualPython"
  }
 },
 "nbformat": 4,
 "nbformat_minor": 5
}
