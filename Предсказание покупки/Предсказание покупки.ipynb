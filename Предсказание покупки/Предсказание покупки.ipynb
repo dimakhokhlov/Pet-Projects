{
 "cells": [
  {
   "cell_type": "markdown",
   "id": "73eec6ff",
   "metadata": {},
   "source": [
    "## Загрузка данных"
   ]
  },
  {
   "cell_type": "code",
   "execution_count": 7,
   "id": "953db2c4",
   "metadata": {},
   "outputs": [
    {
     "data": {
      "text/html": [
       "        <script type=\"text/javascript\">\n",
       "        window.PlotlyConfig = {MathJaxConfig: 'local'};\n",
       "        if (window.MathJax && window.MathJax.Hub && window.MathJax.Hub.Config) {window.MathJax.Hub.Config({SVG: {font: \"STIX-Web\"}});}\n",
       "        if (typeof require !== 'undefined') {\n",
       "        require.undef(\"plotly\");\n",
       "        requirejs.config({\n",
       "            paths: {\n",
       "                'plotly': ['https://cdn.plot.ly/plotly-2.35.2.min']\n",
       "            }\n",
       "        });\n",
       "        require(['plotly'], function(Plotly) {\n",
       "            window._Plotly = Plotly;\n",
       "        });\n",
       "        }\n",
       "        </script>\n",
       "        "
      ]
     },
     "metadata": {},
     "output_type": "display_data"
    },
    {
     "data": {
      "text/html": [
       "<style>.container { width:80% !important; }</style>"
      ],
      "text/plain": [
       "<IPython.core.display.HTML object>"
      ]
     },
     "metadata": {},
     "output_type": "display_data"
    }
   ],
   "source": [
    "import pandas as pd\n",
    "import numpy as np\n",
    "import ydata_profiling\n",
    "\n",
    "import matplotlib.pyplot as plt\n",
    "import seaborn as sns\n",
    "import cufflinks as cf\n",
    "import plotly.express as px\n",
    "import plotly.graph_objs as go\n",
    "import plotly.offline as py\n",
    "from plotly.offline import iplot\n",
    "from plotly.subplots import make_subplots\n",
    "import plotly.figure_factory as ff\n",
    "\n",
    "import phik\n",
    "from sklearn.preprocessing import OneHotEncoder, StandardScaler, LabelEncoder\n",
    "from sklearn.compose import ColumnTransformer\n",
    "\n",
    "from catboost import CatBoostClassifier\n",
    "from xgboost import XGBClassifier\n",
    "from sklearn.ensemble import RandomForestClassifier\n",
    "from sklearn.linear_model import LogisticRegression\n",
    "from sklearn.model_selection import train_test_split, GridSearchCV\n",
    "from sklearn.metrics import accuracy_score, precision_score, recall_score, roc_auc_score\n",
    "from sklearn.pipeline import Pipeline\n",
    "\n",
    "from datetime import datetime\n",
    "from IPython.core.display import display, HTML\n",
    "\n",
    "pd.set_option('display.max_columns', None)\n",
    "\n",
    "cf.go_offline()\n",
    "cf.set_config_file(offline=False, world_readable=True)\n",
    "\n",
    "import warnings\n",
    "warnings.filterwarnings(action='ignore')\n",
    "\n",
    "display(HTML(\"<style>.container { width:80% !important; }</style>\"))"
   ]
  },
  {
   "cell_type": "code",
   "execution_count": 8,
   "id": "5bcac645",
   "metadata": {},
   "outputs": [],
   "source": [
    "path_apparel = r'C:\\Users\\user\\OneDrive\\Документы\\GitHub\\Pet-Projects\\Предсказание покупки\\Data\\apparel-purchases.csv'\n",
    "path_gifts = r'C:\\Users\\user\\OneDrive\\Документы\\GitHub\\Pet-Projects\\Предсказание покупки\\Data\\gifts-purchases.csv'\n",
    "path_marketplace = r'C:\\Users\\user\\OneDrive\\Документы\\GitHub\\Pet-Projects\\Предсказание покупки\\Data\\marketplace-purchases.csv'"
   ]
  },
  {
   "cell_type": "code",
   "execution_count": 9,
   "id": "194a1a0e",
   "metadata": {},
   "outputs": [],
   "source": [
    "df_apparel = pd.read_csv(path_apparel)\n",
    "df_gifts = pd.read_csv(path_gifts)\n",
    "df_marketplace = pd.read_csv(path_marketplace)"
   ]
  },
  {
   "cell_type": "markdown",
   "id": "8b8777d8",
   "metadata": {},
   "source": [
    "Изучим данные каждого датасета:"
   ]
  },
  {
   "cell_type": "markdown",
   "id": "85fb2def",
   "metadata": {},
   "source": [
    "### `df_apparel`"
   ]
  },
  {
   "cell_type": "code",
   "execution_count": 28,
   "id": "137c83b7",
   "metadata": {},
   "outputs": [
    {
     "data": {
      "application/vnd.jupyter.widget-view+json": {
       "model_id": "dbcfcc74b63944e6852e69da413eb1ba",
       "version_major": 2,
       "version_minor": 0
      },
      "text/plain": [
       "Summarize dataset:   0%|          | 0/5 [00:00<?, ?it/s]"
      ]
     },
     "metadata": {},
     "output_type": "display_data"
    },
    {
     "data": {
      "application/vnd.jupyter.widget-view+json": {
       "model_id": "70ff8e65a02c4f9fb333e9da8beda30f",
       "version_major": 2,
       "version_minor": 0
      },
      "text/plain": [
       "Generate report structure:   0%|          | 0/1 [00:00<?, ?it/s]"
      ]
     },
     "metadata": {},
     "output_type": "display_data"
    },
    {
     "data": {
      "application/vnd.jupyter.widget-view+json": {
       "model_id": "",
       "version_major": 2,
       "version_minor": 0
      },
      "text/plain": [
       "Render widgets:   0%|          | 0/1 [00:00<?, ?it/s]"
      ]
     },
     "metadata": {},
     "output_type": "display_data"
    },
    {
     "data": {
      "application/vnd.jupyter.widget-view+json": {
       "model_id": "013f18f8c4c149c79f24e308562d7be3",
       "version_major": 2,
       "version_minor": 0
      },
      "text/plain": [
       "VBox(children=(Tab(children=(Tab(children=(GridBox(children=(VBox(children=(GridspecLayout(children=(HTML(valu…"
      ]
     },
     "metadata": {},
     "output_type": "display_data"
    }
   ],
   "source": [
    "#ydata_profiling.ProfileReport(df_apparel, explorative=True).to_widgets()"
   ]
  },
  {
   "cell_type": "code",
   "execution_count": 23,
   "id": "d880644f",
   "metadata": {},
   "outputs": [],
   "source": [
    "def print_dataset_info(df, dataset_name):\n",
    "    print(f\"Информация о датасете {dataset_name}:\")\n",
    "    print(df.info())\n",
    "    print(\"\\nПервые 5 строк датасета:\")\n",
    "    display(df.head())\n",
    "    print(\"\\nКоличество пропусков:\")\n",
    "    display(df.isna().sum().sum())\n",
    "    print(\"\\nКоличество дубликатов:\")\n",
    "    display(df.duplicated().sum())"
   ]
  },
  {
   "cell_type": "code",
   "execution_count": 24,
   "id": "bf7f14a9",
   "metadata": {},
   "outputs": [
    {
     "name": "stdout",
     "output_type": "stream",
     "text": [
      "Информация о датасете df_apparel:\n",
      "<class 'pandas.core.frame.DataFrame'>\n",
      "RangeIndex: 133104 entries, 0 to 133103\n",
      "Data columns (total 6 columns):\n",
      " #   Column          Non-Null Count   Dtype  \n",
      "---  ------          --------------   -----  \n",
      " 0   client_id       133104 non-null  int64  \n",
      " 1   quantity        133104 non-null  int64  \n",
      " 2   price           133104 non-null  float64\n",
      " 3   date            133104 non-null  object \n",
      " 4   message_id      133104 non-null  object \n",
      " 5   recommended_by  133104 non-null  object \n",
      "dtypes: float64(1), int64(2), object(3)\n",
      "memory usage: 6.1+ MB\n",
      "None\n",
      "\n",
      "Первые 5 строк датасета:\n"
     ]
    },
    {
     "data": {
      "text/html": [
       "<div>\n",
       "<style scoped>\n",
       "    .dataframe tbody tr th:only-of-type {\n",
       "        vertical-align: middle;\n",
       "    }\n",
       "\n",
       "    .dataframe tbody tr th {\n",
       "        vertical-align: top;\n",
       "    }\n",
       "\n",
       "    .dataframe thead th {\n",
       "        text-align: right;\n",
       "    }\n",
       "</style>\n",
       "<table border=\"1\" class=\"dataframe\">\n",
       "  <thead>\n",
       "    <tr style=\"text-align: right;\">\n",
       "      <th></th>\n",
       "      <th>client_id</th>\n",
       "      <th>quantity</th>\n",
       "      <th>price</th>\n",
       "      <th>date</th>\n",
       "      <th>message_id</th>\n",
       "      <th>recommended_by</th>\n",
       "    </tr>\n",
       "  </thead>\n",
       "  <tbody>\n",
       "    <tr>\n",
       "      <th>0</th>\n",
       "      <td>1515915625468068833</td>\n",
       "      <td>1</td>\n",
       "      <td>3499.0</td>\n",
       "      <td>2023-09-08</td>\n",
       "      <td>1515915625468068833-13781-64fad81bece56</td>\n",
       "      <td>bulk_message</td>\n",
       "    </tr>\n",
       "    <tr>\n",
       "      <th>1</th>\n",
       "      <td>1515915625468068833</td>\n",
       "      <td>1</td>\n",
       "      <td>3499.0</td>\n",
       "      <td>2023-09-08</td>\n",
       "      <td>1515915625468068833-13781-64fad81bece56</td>\n",
       "      <td>bulk_message</td>\n",
       "    </tr>\n",
       "    <tr>\n",
       "      <th>2</th>\n",
       "      <td>1515915625468068833</td>\n",
       "      <td>1</td>\n",
       "      <td>3499.0</td>\n",
       "      <td>2023-09-08</td>\n",
       "      <td>1515915625468068833-13781-64fad81bece56</td>\n",
       "      <td>bulk_message</td>\n",
       "    </tr>\n",
       "    <tr>\n",
       "      <th>3</th>\n",
       "      <td>1515915625468068833</td>\n",
       "      <td>1</td>\n",
       "      <td>2450.0</td>\n",
       "      <td>2023-09-08</td>\n",
       "      <td>1515915625468068833-13781-64fad81bece56</td>\n",
       "      <td>bulk_message</td>\n",
       "    </tr>\n",
       "    <tr>\n",
       "      <th>4</th>\n",
       "      <td>1515915625468068833</td>\n",
       "      <td>1</td>\n",
       "      <td>2450.0</td>\n",
       "      <td>2023-09-08</td>\n",
       "      <td>1515915625468068833-13781-64fad81bece56</td>\n",
       "      <td>bulk_message</td>\n",
       "    </tr>\n",
       "  </tbody>\n",
       "</table>\n",
       "</div>"
      ],
      "text/plain": [
       "             client_id  quantity   price        date  \\\n",
       "0  1515915625468068833         1  3499.0  2023-09-08   \n",
       "1  1515915625468068833         1  3499.0  2023-09-08   \n",
       "2  1515915625468068833         1  3499.0  2023-09-08   \n",
       "3  1515915625468068833         1  2450.0  2023-09-08   \n",
       "4  1515915625468068833         1  2450.0  2023-09-08   \n",
       "\n",
       "                                message_id recommended_by  \n",
       "0  1515915625468068833-13781-64fad81bece56   bulk_message  \n",
       "1  1515915625468068833-13781-64fad81bece56   bulk_message  \n",
       "2  1515915625468068833-13781-64fad81bece56   bulk_message  \n",
       "3  1515915625468068833-13781-64fad81bece56   bulk_message  \n",
       "4  1515915625468068833-13781-64fad81bece56   bulk_message  "
      ]
     },
     "metadata": {},
     "output_type": "display_data"
    },
    {
     "name": "stdout",
     "output_type": "stream",
     "text": [
      "\n",
      "Количество пропусков:\n"
     ]
    },
    {
     "data": {
      "text/plain": [
       "0"
      ]
     },
     "metadata": {},
     "output_type": "display_data"
    },
    {
     "name": "stdout",
     "output_type": "stream",
     "text": [
      "\n",
      "Количество дубликатов:\n"
     ]
    },
    {
     "data": {
      "text/plain": [
       "59250"
      ]
     },
     "metadata": {},
     "output_type": "display_data"
    }
   ],
   "source": [
    "print_dataset_info(df_apparel, 'df_apparel')"
   ]
  },
  {
   "cell_type": "markdown",
   "id": "7bebe18b",
   "metadata": {},
   "source": [
    "Посмотрим количество уникальных сообщений у каждого клиента"
   ]
  },
  {
   "cell_type": "code",
   "execution_count": 27,
   "id": "750ec066",
   "metadata": {},
   "outputs": [
    {
     "data": {
      "text/plain": [
       "client_id\n",
       "1515915625468061170    3\n",
       "1515915625468061994    2\n",
       "1515915625468063775    2\n",
       "1515915625468064438    4\n",
       "1515915625468065092    2\n",
       "                      ..\n",
       "1515915625982037551    2\n",
       "1515915625982466851    3\n",
       "1515915625983450961    2\n",
       "1515915625983782421    2\n",
       "1515915625984308128    2\n",
       "Name: message_id, Length: 2497, dtype: int64"
      ]
     },
     "execution_count": 27,
     "metadata": {},
     "output_type": "execute_result"
    }
   ],
   "source": [
    "client_message_counts = df_apparel.groupby('client_id')['message_id'].nunique()\n",
    "\n",
    "client_message_counts[client_message_counts > 1]"
   ]
  },
  {
   "cell_type": "code",
   "execution_count": null,
   "id": "ebe70a46",
   "metadata": {},
   "outputs": [],
   "source": []
  },
  {
   "cell_type": "code",
   "execution_count": 30,
   "id": "7478f622",
   "metadata": {},
   "outputs": [
    {
     "data": {
      "text/html": [
       "<div>\n",
       "<style scoped>\n",
       "    .dataframe tbody tr th:only-of-type {\n",
       "        vertical-align: middle;\n",
       "    }\n",
       "\n",
       "    .dataframe tbody tr th {\n",
       "        vertical-align: top;\n",
       "    }\n",
       "\n",
       "    .dataframe thead th {\n",
       "        text-align: right;\n",
       "    }\n",
       "</style>\n",
       "<table border=\"1\" class=\"dataframe\">\n",
       "  <thead>\n",
       "    <tr style=\"text-align: right;\">\n",
       "      <th></th>\n",
       "      <th>client_id</th>\n",
       "      <th>quantity</th>\n",
       "      <th>price</th>\n",
       "      <th>date</th>\n",
       "      <th>message_id</th>\n",
       "      <th>recommended_by</th>\n",
       "    </tr>\n",
       "  </thead>\n",
       "  <tbody>\n",
       "    <tr>\n",
       "      <th>1</th>\n",
       "      <td>1515915625468068833</td>\n",
       "      <td>1</td>\n",
       "      <td>3499.0</td>\n",
       "      <td>2023-09-08</td>\n",
       "      <td>1515915625468068833-13781-64fad81bece56</td>\n",
       "      <td>bulk_message</td>\n",
       "    </tr>\n",
       "    <tr>\n",
       "      <th>2</th>\n",
       "      <td>1515915625468068833</td>\n",
       "      <td>1</td>\n",
       "      <td>3499.0</td>\n",
       "      <td>2023-09-08</td>\n",
       "      <td>1515915625468068833-13781-64fad81bece56</td>\n",
       "      <td>bulk_message</td>\n",
       "    </tr>\n",
       "    <tr>\n",
       "      <th>4</th>\n",
       "      <td>1515915625468068833</td>\n",
       "      <td>1</td>\n",
       "      <td>2450.0</td>\n",
       "      <td>2023-09-08</td>\n",
       "      <td>1515915625468068833-13781-64fad81bece56</td>\n",
       "      <td>bulk_message</td>\n",
       "    </tr>\n",
       "    <tr>\n",
       "      <th>5</th>\n",
       "      <td>1515915625468068833</td>\n",
       "      <td>1</td>\n",
       "      <td>2450.0</td>\n",
       "      <td>2023-09-08</td>\n",
       "      <td>1515915625468068833-13781-64fad81bece56</td>\n",
       "      <td>bulk_message</td>\n",
       "    </tr>\n",
       "    <tr>\n",
       "      <th>10</th>\n",
       "      <td>1515915625468079941</td>\n",
       "      <td>1</td>\n",
       "      <td>1499.0</td>\n",
       "      <td>2023-09-01</td>\n",
       "      <td>1515915625468079941-13718-64e899a67a51d</td>\n",
       "      <td>bulk_message</td>\n",
       "    </tr>\n",
       "    <tr>\n",
       "      <th>...</th>\n",
       "      <td>...</td>\n",
       "      <td>...</td>\n",
       "      <td>...</td>\n",
       "      <td>...</td>\n",
       "      <td>...</td>\n",
       "      <td>...</td>\n",
       "    </tr>\n",
       "    <tr>\n",
       "      <th>133083</th>\n",
       "      <td>1515915625909099325</td>\n",
       "      <td>1</td>\n",
       "      <td>1499.0</td>\n",
       "      <td>2022-12-30</td>\n",
       "      <td>1515915625806806683-9110-63ae8d4faa490</td>\n",
       "      <td>bulk_message</td>\n",
       "    </tr>\n",
       "    <tr>\n",
       "      <th>133088</th>\n",
       "      <td>1515915625909141235</td>\n",
       "      <td>1</td>\n",
       "      <td>399.0</td>\n",
       "      <td>2022-12-30</td>\n",
       "      <td>1515915625817034221-9110-63ae8df9aae33</td>\n",
       "      <td>bulk_message</td>\n",
       "    </tr>\n",
       "    <tr>\n",
       "      <th>133090</th>\n",
       "      <td>1515915625909141235</td>\n",
       "      <td>1</td>\n",
       "      <td>399.0</td>\n",
       "      <td>2022-12-30</td>\n",
       "      <td>1515915625817034221-9110-63ae8df9aae33</td>\n",
       "      <td>bulk_message</td>\n",
       "    </tr>\n",
       "    <tr>\n",
       "      <th>133100</th>\n",
       "      <td>1515915625909375164</td>\n",
       "      <td>1</td>\n",
       "      <td>2399.0</td>\n",
       "      <td>2022-12-31</td>\n",
       "      <td>1515915625490956133-9110-63ae8ee3e5e7f</td>\n",
       "      <td>bulk_message</td>\n",
       "    </tr>\n",
       "    <tr>\n",
       "      <th>133102</th>\n",
       "      <td>1515915625909375164</td>\n",
       "      <td>1</td>\n",
       "      <td>1699.0</td>\n",
       "      <td>2022-12-31</td>\n",
       "      <td>1515915625490956133-9110-63ae8ee3e5e7f</td>\n",
       "      <td>bulk_message</td>\n",
       "    </tr>\n",
       "  </tbody>\n",
       "</table>\n",
       "<p>59250 rows × 6 columns</p>\n",
       "</div>"
      ],
      "text/plain": [
       "                  client_id  quantity   price        date  \\\n",
       "1       1515915625468068833         1  3499.0  2023-09-08   \n",
       "2       1515915625468068833         1  3499.0  2023-09-08   \n",
       "4       1515915625468068833         1  2450.0  2023-09-08   \n",
       "5       1515915625468068833         1  2450.0  2023-09-08   \n",
       "10      1515915625468079941         1  1499.0  2023-09-01   \n",
       "...                     ...       ...     ...         ...   \n",
       "133083  1515915625909099325         1  1499.0  2022-12-30   \n",
       "133088  1515915625909141235         1   399.0  2022-12-30   \n",
       "133090  1515915625909141235         1   399.0  2022-12-30   \n",
       "133100  1515915625909375164         1  2399.0  2022-12-31   \n",
       "133102  1515915625909375164         1  1699.0  2022-12-31   \n",
       "\n",
       "                                     message_id recommended_by  \n",
       "1       1515915625468068833-13781-64fad81bece56   bulk_message  \n",
       "2       1515915625468068833-13781-64fad81bece56   bulk_message  \n",
       "4       1515915625468068833-13781-64fad81bece56   bulk_message  \n",
       "5       1515915625468068833-13781-64fad81bece56   bulk_message  \n",
       "10      1515915625468079941-13718-64e899a67a51d   bulk_message  \n",
       "...                                         ...            ...  \n",
       "133083   1515915625806806683-9110-63ae8d4faa490   bulk_message  \n",
       "133088   1515915625817034221-9110-63ae8df9aae33   bulk_message  \n",
       "133090   1515915625817034221-9110-63ae8df9aae33   bulk_message  \n",
       "133100   1515915625490956133-9110-63ae8ee3e5e7f   bulk_message  \n",
       "133102   1515915625490956133-9110-63ae8ee3e5e7f   bulk_message  \n",
       "\n",
       "[59250 rows x 6 columns]"
      ]
     },
     "execution_count": 30,
     "metadata": {},
     "output_type": "execute_result"
    }
   ],
   "source": [
    "df_apparel[df_apparel.duplicated()]"
   ]
  },
  {
   "cell_type": "markdown",
   "id": "402e4cab",
   "metadata": {},
   "source": [
    "Одному клиенту могут быть присвоены разные идентификаторы сообщений"
   ]
  },
  {
   "cell_type": "markdown",
   "id": "dbabfe01",
   "metadata": {},
   "source": [
    "- Датасет содержит 133104 строки и 6 столбцов\n",
    "- Пропуски отсутствуют\n",
    "- Имеется 59250 дубликатов\n",
    "- Признак `recommended_by` имеет только одно значение для всех строк"
   ]
  },
  {
   "cell_type": "markdown",
   "id": "355594b7",
   "metadata": {},
   "source": [
    "### `df_gifts`"
   ]
  },
  {
   "cell_type": "code",
   "execution_count": 95,
   "id": "e8f20445",
   "metadata": {},
   "outputs": [
    {
     "data": {
      "application/vnd.jupyter.widget-view+json": {
       "model_id": "9946e123468b4e4cb2a9f2bf0372687d",
       "version_major": 2,
       "version_minor": 0
      },
      "text/plain": [
       "Summarize dataset:   0%|          | 0/5 [00:00<?, ?it/s]"
      ]
     },
     "metadata": {},
     "output_type": "display_data"
    },
    {
     "data": {
      "application/vnd.jupyter.widget-view+json": {
       "model_id": "8d6dd8c1cbe44e9983d1870803c0a10d",
       "version_major": 2,
       "version_minor": 0
      },
      "text/plain": [
       "Generate report structure:   0%|          | 0/1 [00:00<?, ?it/s]"
      ]
     },
     "metadata": {},
     "output_type": "display_data"
    },
    {
     "data": {
      "application/vnd.jupyter.widget-view+json": {
       "model_id": "",
       "version_major": 2,
       "version_minor": 0
      },
      "text/plain": [
       "Render widgets:   0%|          | 0/1 [00:00<?, ?it/s]"
      ]
     },
     "metadata": {},
     "output_type": "display_data"
    },
    {
     "data": {
      "application/vnd.jupyter.widget-view+json": {
       "model_id": "dd97fc1efff047ad8e6ebf9507a01773",
       "version_major": 2,
       "version_minor": 0
      },
      "text/plain": [
       "VBox(children=(Tab(children=(Tab(children=(GridBox(children=(VBox(children=(GridspecLayout(children=(HTML(valu…"
      ]
     },
     "metadata": {},
     "output_type": "display_data"
    }
   ],
   "source": [
    "ydata_profiling.ProfileReport(df_gifts, explorative=True).to_widgets()"
   ]
  },
  {
   "cell_type": "markdown",
   "id": "5bf6a710",
   "metadata": {},
   "source": [
    "- Датасет содержит 811 строк и 6 столбцов\n",
    "- Пропуски отсутствуют\n",
    "- Имеется ~4% дубликатов\n",
    "- Признак `recommended_by`имеет только одно значение для всех строк"
   ]
  },
  {
   "cell_type": "markdown",
   "id": "aa7386f9",
   "metadata": {},
   "source": [
    "### `df_marketplace`"
   ]
  },
  {
   "cell_type": "code",
   "execution_count": 96,
   "id": "ca402365",
   "metadata": {},
   "outputs": [
    {
     "data": {
      "application/vnd.jupyter.widget-view+json": {
       "model_id": "2ef6c26480a44e20abf505fbba967b71",
       "version_major": 2,
       "version_minor": 0
      },
      "text/plain": [
       "Summarize dataset:   0%|          | 0/5 [00:00<?, ?it/s]"
      ]
     },
     "metadata": {},
     "output_type": "display_data"
    },
    {
     "data": {
      "application/vnd.jupyter.widget-view+json": {
       "model_id": "b5106bbb09f746cea5261fd7bf4a4a69",
       "version_major": 2,
       "version_minor": 0
      },
      "text/plain": [
       "Generate report structure:   0%|          | 0/1 [00:00<?, ?it/s]"
      ]
     },
     "metadata": {},
     "output_type": "display_data"
    },
    {
     "data": {
      "application/vnd.jupyter.widget-view+json": {
       "model_id": "",
       "version_major": 2,
       "version_minor": 0
      },
      "text/plain": [
       "Render widgets:   0%|          | 0/1 [00:00<?, ?it/s]"
      ]
     },
     "metadata": {},
     "output_type": "display_data"
    },
    {
     "data": {
      "application/vnd.jupyter.widget-view+json": {
       "model_id": "3c60f891b6184feab5b47ef82e77a4bb",
       "version_major": 2,
       "version_minor": 0
      },
      "text/plain": [
       "VBox(children=(Tab(children=(Tab(children=(GridBox(children=(VBox(children=(GridspecLayout(children=(HTML(valu…"
      ]
     },
     "metadata": {},
     "output_type": "display_data"
    }
   ],
   "source": [
    "ydata_profiling.ProfileReport(df_marketplace, explorative=True).to_widgets()"
   ]
  },
  {
   "cell_type": "markdown",
   "id": "e739cfd1",
   "metadata": {},
   "source": [
    "- Датасет содержит 48182 строк и 6 столбцов\n",
    "- Пропуски отсутствуют\n",
    "- Имеется ~3% дубликатов\n",
    "- Имеется два временных признака"
   ]
  },
  {
   "cell_type": "markdown",
   "id": "bee6e415",
   "metadata": {},
   "source": [
    "Структура у датасетов очень похожая, поэтому принято решение объединить их в один датасет"
   ]
  },
  {
   "cell_type": "markdown",
   "id": "65d320ed",
   "metadata": {},
   "source": [
    "### Объединенный датасет"
   ]
  },
  {
   "cell_type": "markdown",
   "id": "fa45924a",
   "metadata": {},
   "source": [
    "Объединим датасеты и добавим столбец `source` для понимания источника данных"
   ]
  },
  {
   "cell_type": "code",
   "execution_count": 97,
   "id": "d4df953e",
   "metadata": {},
   "outputs": [],
   "source": [
    "df_apparel['source'] = 'apparel'\n",
    "df_gifts['source'] = 'gifts'\n",
    "df_marketplace['source'] = 'marketplace'\n",
    "\n",
    "# Объединяем данные по строкам\n",
    "df = pd.concat([df_apparel, df_gifts, df_marketplace])"
   ]
  },
  {
   "cell_type": "code",
   "execution_count": 98,
   "id": "4063d4a9",
   "metadata": {},
   "outputs": [
    {
     "data": {
      "application/vnd.jupyter.widget-view+json": {
       "model_id": "8c387f5ab9c044cc902e28773c432fbe",
       "version_major": 2,
       "version_minor": 0
      },
      "text/plain": [
       "Summarize dataset:   0%|          | 0/5 [00:00<?, ?it/s]"
      ]
     },
     "metadata": {},
     "output_type": "display_data"
    },
    {
     "name": "stderr",
     "output_type": "stream",
     "text": [
      "C:\\Users\\user\\anaconda3\\lib\\site-packages\\ydata_profiling\\model\\pandas\\correlations_pandas.py:84: FutureWarning:\n",
      "\n",
      "reindexing with a non-unique Index is deprecated and will raise in a future version.\n",
      "\n",
      "C:\\Users\\user\\anaconda3\\lib\\site-packages\\ydata_profiling\\model\\correlations.py:66: UserWarning:\n",
      "\n",
      "There was an attempt to calculate the auto correlation, but this failed.\n",
      "To hide this warning, disable the calculation\n",
      "(using `df.profile_report(correlations={\"auto\": {\"calculate\": False}})`\n",
      "If this is problematic for your use case, please report this as an issue:\n",
      "https://github.com/ydataai/ydata-profiling/issues\n",
      "(include the error message: 'cannot reindex on an axis with duplicate labels')\n",
      "\n"
     ]
    },
    {
     "data": {
      "application/vnd.jupyter.widget-view+json": {
       "model_id": "7500b502a15f41cb8f9978c6330e2d7c",
       "version_major": 2,
       "version_minor": 0
      },
      "text/plain": [
       "Generate report structure:   0%|          | 0/1 [00:00<?, ?it/s]"
      ]
     },
     "metadata": {},
     "output_type": "display_data"
    },
    {
     "data": {
      "application/vnd.jupyter.widget-view+json": {
       "model_id": "",
       "version_major": 2,
       "version_minor": 0
      },
      "text/plain": [
       "Render widgets:   0%|          | 0/1 [00:00<?, ?it/s]"
      ]
     },
     "metadata": {},
     "output_type": "display_data"
    },
    {
     "data": {
      "application/vnd.jupyter.widget-view+json": {
       "model_id": "a5eee2ee933f40e890c814538c4b8453",
       "version_major": 2,
       "version_minor": 0
      },
      "text/plain": [
       "VBox(children=(Tab(children=(Tab(children=(GridBox(children=(VBox(children=(GridspecLayout(children=(HTML(valu…"
      ]
     },
     "metadata": {},
     "output_type": "display_data"
    }
   ],
   "source": [
    "ydata_profiling.ProfileReport(df, explorative=True).to_widgets()"
   ]
  },
  {
   "cell_type": "markdown",
   "id": "f0d93af8",
   "metadata": {},
   "source": [
    "Признак `client_id` имеет числовой тип, хотя он обозначает конкретного клиента. Преобразуем его"
   ]
  },
  {
   "cell_type": "code",
   "execution_count": 99,
   "id": "3820aa4c",
   "metadata": {},
   "outputs": [],
   "source": [
    "df['client_id'] = df['client_id'].astype(str)"
   ]
  },
  {
   "cell_type": "markdown",
   "id": "d537e668",
   "metadata": {},
   "source": [
    "Дата в столбце `date`имеет разный формат. Приведем к единому формату"
   ]
  },
  {
   "cell_type": "code",
   "execution_count": 100,
   "id": "4160fd3f",
   "metadata": {},
   "outputs": [],
   "source": [
    "df['date'] = pd.to_datetime(df['date']).dt.date"
   ]
  },
  {
   "cell_type": "markdown",
   "id": "9bab1d6f",
   "metadata": {},
   "source": [
    "Посмотрим, могут ли исходные датасеты иметь одинаковые `client_id`"
   ]
  },
  {
   "cell_type": "code",
   "execution_count": 101,
   "id": "560f422e",
   "metadata": {},
   "outputs": [
    {
     "data": {
      "text/plain": [
       "Series([], Name: source, dtype: int64)"
      ]
     },
     "execution_count": 101,
     "metadata": {},
     "output_type": "execute_result"
    }
   ],
   "source": [
    "client_source_counts = df.groupby('client_id')['source'].nunique()\n",
    "\n",
    "clients_with_multiple_source = client_source_counts[client_source_counts > 1]\n",
    "\n",
    "clients_with_multiple_source"
   ]
  },
  {
   "cell_type": "markdown",
   "id": "526a8958",
   "metadata": {},
   "source": [
    "Пересечений client_id между датасетами нет."
   ]
  },
  {
   "cell_type": "markdown",
   "id": "f2f6c2bf",
   "metadata": {},
   "source": [
    "Имеются признаки, которые навряд ли помогут нам в предсказании будущей покупки. По моему мнению, таковыми являются:\n",
    "- `message_id` - это идентификатор сообщения, который навряд ли связан с историей покупок клиента\n",
    "- `recommended_by` - в каждой строке одинаковые значения\n",
    "- `created_at` - дублирует признак `date`"
   ]
  },
  {
   "cell_type": "code",
   "execution_count": 102,
   "id": "d1c00b27",
   "metadata": {},
   "outputs": [],
   "source": [
    "df.drop(['message_id', 'recommended_by', 'created_at'], axis=1, inplace=True)"
   ]
  },
  {
   "cell_type": "code",
   "execution_count": 103,
   "id": "af6b44b0",
   "metadata": {},
   "outputs": [
    {
     "data": {
      "text/html": [
       "<div>\n",
       "<style scoped>\n",
       "    .dataframe tbody tr th:only-of-type {\n",
       "        vertical-align: middle;\n",
       "    }\n",
       "\n",
       "    .dataframe tbody tr th {\n",
       "        vertical-align: top;\n",
       "    }\n",
       "\n",
       "    .dataframe thead th {\n",
       "        text-align: right;\n",
       "    }\n",
       "</style>\n",
       "<table border=\"1\" class=\"dataframe\">\n",
       "  <thead>\n",
       "    <tr style=\"text-align: right;\">\n",
       "      <th></th>\n",
       "      <th>client_id</th>\n",
       "      <th>quantity</th>\n",
       "      <th>price</th>\n",
       "      <th>date</th>\n",
       "      <th>source</th>\n",
       "    </tr>\n",
       "  </thead>\n",
       "  <tbody>\n",
       "    <tr>\n",
       "      <th>0</th>\n",
       "      <td>1515915625468068833</td>\n",
       "      <td>1</td>\n",
       "      <td>3499.0</td>\n",
       "      <td>2023-09-08</td>\n",
       "      <td>apparel</td>\n",
       "    </tr>\n",
       "    <tr>\n",
       "      <th>1</th>\n",
       "      <td>1515915625468068833</td>\n",
       "      <td>1</td>\n",
       "      <td>3499.0</td>\n",
       "      <td>2023-09-08</td>\n",
       "      <td>apparel</td>\n",
       "    </tr>\n",
       "    <tr>\n",
       "      <th>2</th>\n",
       "      <td>1515915625468068833</td>\n",
       "      <td>1</td>\n",
       "      <td>3499.0</td>\n",
       "      <td>2023-09-08</td>\n",
       "      <td>apparel</td>\n",
       "    </tr>\n",
       "    <tr>\n",
       "      <th>3</th>\n",
       "      <td>1515915625468068833</td>\n",
       "      <td>1</td>\n",
       "      <td>2450.0</td>\n",
       "      <td>2023-09-08</td>\n",
       "      <td>apparel</td>\n",
       "    </tr>\n",
       "    <tr>\n",
       "      <th>4</th>\n",
       "      <td>1515915625468068833</td>\n",
       "      <td>1</td>\n",
       "      <td>2450.0</td>\n",
       "      <td>2023-09-08</td>\n",
       "      <td>apparel</td>\n",
       "    </tr>\n",
       "  </tbody>\n",
       "</table>\n",
       "</div>"
      ],
      "text/plain": [
       "             client_id  quantity   price        date   source\n",
       "0  1515915625468068833         1  3499.0  2023-09-08  apparel\n",
       "1  1515915625468068833         1  3499.0  2023-09-08  apparel\n",
       "2  1515915625468068833         1  3499.0  2023-09-08  apparel\n",
       "3  1515915625468068833         1  2450.0  2023-09-08  apparel\n",
       "4  1515915625468068833         1  2450.0  2023-09-08  apparel"
      ]
     },
     "execution_count": 103,
     "metadata": {},
     "output_type": "execute_result"
    }
   ],
   "source": [
    "df.head()"
   ]
  },
  {
   "cell_type": "markdown",
   "id": "95a758ac",
   "metadata": {},
   "source": [
    "## Фиче-инженеринг"
   ]
  },
  {
   "cell_type": "markdown",
   "id": "22567225",
   "metadata": {},
   "source": [
    "Узнаем суммарное значение покупки каждой позиции"
   ]
  },
  {
   "cell_type": "code",
   "execution_count": 104,
   "id": "01903b4f",
   "metadata": {},
   "outputs": [],
   "source": [
    "df['total_price'] = df['quantity'] * df['price']"
   ]
  },
  {
   "cell_type": "markdown",
   "id": "b1675154",
   "metadata": {},
   "source": [
    "Упорядочим датасет по `client_id` и `date`"
   ]
  },
  {
   "cell_type": "code",
   "execution_count": 105,
   "id": "1a7dce64",
   "metadata": {},
   "outputs": [],
   "source": [
    "df = df.sort_values(['client_id', 'date'],  ascending=[True, False])"
   ]
  },
  {
   "cell_type": "markdown",
   "id": "679ed7bb",
   "metadata": {},
   "source": [
    "Определим крайнюю дату датасета"
   ]
  },
  {
   "cell_type": "code",
   "execution_count": 106,
   "id": "80887926",
   "metadata": {},
   "outputs": [
    {
     "data": {
      "text/plain": [
       "datetime.date(2023, 10, 26)"
      ]
     },
     "execution_count": 106,
     "metadata": {},
     "output_type": "execute_result"
    }
   ],
   "source": [
    "last_date = df['date'].max()\n",
    "\n",
    "last_date"
   ]
  },
  {
   "cell_type": "markdown",
   "id": "86bb8589",
   "metadata": {},
   "source": [
    "Определим дату начала среза"
   ]
  },
  {
   "cell_type": "code",
   "execution_count": 107,
   "id": "4e29c094",
   "metadata": {},
   "outputs": [
    {
     "data": {
      "text/plain": [
       "datetime.date(2023, 9, 26)"
      ]
     },
     "execution_count": 107,
     "metadata": {},
     "output_type": "execute_result"
    }
   ],
   "source": [
    "start_date = last_date - pd.Timedelta(days=30)\n",
    "\n",
    "start_date"
   ]
  },
  {
   "cell_type": "markdown",
   "id": "49ca9cd2",
   "metadata": {},
   "source": [
    "Отберем строки, которые попадают в срез"
   ]
  },
  {
   "cell_type": "code",
   "execution_count": 108,
   "id": "c3446237",
   "metadata": {},
   "outputs": [
    {
     "data": {
      "text/html": [
       "<div>\n",
       "<style scoped>\n",
       "    .dataframe tbody tr th:only-of-type {\n",
       "        vertical-align: middle;\n",
       "    }\n",
       "\n",
       "    .dataframe tbody tr th {\n",
       "        vertical-align: top;\n",
       "    }\n",
       "\n",
       "    .dataframe thead th {\n",
       "        text-align: right;\n",
       "    }\n",
       "</style>\n",
       "<table border=\"1\" class=\"dataframe\">\n",
       "  <thead>\n",
       "    <tr style=\"text-align: right;\">\n",
       "      <th></th>\n",
       "      <th>client_id</th>\n",
       "      <th>quantity</th>\n",
       "      <th>price</th>\n",
       "      <th>date</th>\n",
       "      <th>source</th>\n",
       "      <th>total_price</th>\n",
       "    </tr>\n",
       "  </thead>\n",
       "  <tbody>\n",
       "    <tr>\n",
       "      <th>1827</th>\n",
       "      <td>1515915625440981562</td>\n",
       "      <td>1</td>\n",
       "      <td>25798.0</td>\n",
       "      <td>2023-10-01</td>\n",
       "      <td>marketplace</td>\n",
       "      <td>25798.0</td>\n",
       "    </tr>\n",
       "    <tr>\n",
       "      <th>1828</th>\n",
       "      <td>1515915625440995965</td>\n",
       "      <td>1</td>\n",
       "      <td>14998.0</td>\n",
       "      <td>2023-10-11</td>\n",
       "      <td>marketplace</td>\n",
       "      <td>14998.0</td>\n",
       "    </tr>\n",
       "    <tr>\n",
       "      <th>863</th>\n",
       "      <td>1515915625440996406</td>\n",
       "      <td>1</td>\n",
       "      <td>6118.0</td>\n",
       "      <td>2023-09-28</td>\n",
       "      <td>marketplace</td>\n",
       "      <td>6118.0</td>\n",
       "    </tr>\n",
       "    <tr>\n",
       "      <th>1829</th>\n",
       "      <td>1515915625441001906</td>\n",
       "      <td>1</td>\n",
       "      <td>2.0</td>\n",
       "      <td>2023-10-03</td>\n",
       "      <td>marketplace</td>\n",
       "      <td>2.0</td>\n",
       "    </tr>\n",
       "    <tr>\n",
       "      <th>866</th>\n",
       "      <td>1515915625441007350</td>\n",
       "      <td>1</td>\n",
       "      <td>7998.0</td>\n",
       "      <td>2023-09-29</td>\n",
       "      <td>marketplace</td>\n",
       "      <td>7998.0</td>\n",
       "    </tr>\n",
       "  </tbody>\n",
       "</table>\n",
       "</div>"
      ],
      "text/plain": [
       "                client_id  quantity    price        date       source  \\\n",
       "1827  1515915625440981562         1  25798.0  2023-10-01  marketplace   \n",
       "1828  1515915625440995965         1  14998.0  2023-10-11  marketplace   \n",
       "863   1515915625440996406         1   6118.0  2023-09-28  marketplace   \n",
       "1829  1515915625441001906         1      2.0  2023-10-03  marketplace   \n",
       "866   1515915625441007350         1   7998.0  2023-09-29  marketplace   \n",
       "\n",
       "      total_price  \n",
       "1827      25798.0  \n",
       "1828      14998.0  \n",
       "863        6118.0  \n",
       "1829          2.0  \n",
       "866        7998.0  "
      ]
     },
     "execution_count": 108,
     "metadata": {},
     "output_type": "execute_result"
    }
   ],
   "source": [
    "last_30_days = df[df['date'] >= start_date]\n",
    "\n",
    "last_30_days.head()"
   ]
  },
  {
   "cell_type": "markdown",
   "id": "9f54b8a4",
   "metadata": {},
   "source": [
    "Составим список клиентов, которые совершали покупку в последние 30 дней"
   ]
  },
  {
   "cell_type": "code",
   "execution_count": 109,
   "id": "3f69fae4",
   "metadata": {},
   "outputs": [
    {
     "data": {
      "text/plain": [
       "['1515915625440981562',\n",
       " '1515915625440995965',\n",
       " '1515915625440996406',\n",
       " '1515915625441001906',\n",
       " '1515915625441007350']"
      ]
     },
     "execution_count": 109,
     "metadata": {},
     "output_type": "execute_result"
    }
   ],
   "source": [
    "client_list = last_30_days['client_id'].unique().tolist()\n",
    "\n",
    "client_list[:5]"
   ]
  },
  {
   "cell_type": "markdown",
   "id": "ee1a83af",
   "metadata": {},
   "source": [
    "Сгруппируем датасет **df** по признаку `client_id`, чтобы узнать кто сколько всего купил"
   ]
  },
  {
   "cell_type": "code",
   "execution_count": 110,
   "id": "06317e7a",
   "metadata": {},
   "outputs": [
    {
     "data": {
      "text/html": [
       "<div>\n",
       "<style scoped>\n",
       "    .dataframe tbody tr th:only-of-type {\n",
       "        vertical-align: middle;\n",
       "    }\n",
       "\n",
       "    .dataframe tbody tr th {\n",
       "        vertical-align: top;\n",
       "    }\n",
       "\n",
       "    .dataframe thead th {\n",
       "        text-align: right;\n",
       "    }\n",
       "</style>\n",
       "<table border=\"1\" class=\"dataframe\">\n",
       "  <thead>\n",
       "    <tr style=\"text-align: right;\">\n",
       "      <th></th>\n",
       "      <th>client_id</th>\n",
       "      <th>quantity</th>\n",
       "      <th>price</th>\n",
       "    </tr>\n",
       "  </thead>\n",
       "  <tbody>\n",
       "    <tr>\n",
       "      <th>0</th>\n",
       "      <td>1515915625440099873</td>\n",
       "      <td>2</td>\n",
       "      <td>33216.0</td>\n",
       "    </tr>\n",
       "    <tr>\n",
       "      <th>1</th>\n",
       "      <td>1515915625440939402</td>\n",
       "      <td>1</td>\n",
       "      <td>75998.0</td>\n",
       "    </tr>\n",
       "    <tr>\n",
       "      <th>2</th>\n",
       "      <td>1515915625440944408</td>\n",
       "      <td>3</td>\n",
       "      <td>81178.0</td>\n",
       "    </tr>\n",
       "    <tr>\n",
       "      <th>3</th>\n",
       "      <td>1515915625440947454</td>\n",
       "      <td>4</td>\n",
       "      <td>4486.0</td>\n",
       "    </tr>\n",
       "    <tr>\n",
       "      <th>4</th>\n",
       "      <td>1515915625440952940</td>\n",
       "      <td>1</td>\n",
       "      <td>479.0</td>\n",
       "    </tr>\n",
       "  </tbody>\n",
       "</table>\n",
       "</div>"
      ],
      "text/plain": [
       "             client_id  quantity    price\n",
       "0  1515915625440099873         2  33216.0\n",
       "1  1515915625440939402         1  75998.0\n",
       "2  1515915625440944408         3  81178.0\n",
       "3  1515915625440947454         4   4486.0\n",
       "4  1515915625440952940         1    479.0"
      ]
     },
     "execution_count": 110,
     "metadata": {},
     "output_type": "execute_result"
    }
   ],
   "source": [
    "# сгруппируем данные по столбцу client_id и посчитаем сумму quantity и сумму price\n",
    "df_client = df.groupby('client_id').agg({'quantity': 'sum', 'price': 'sum'}).reset_index()\n",
    "\n",
    "df_client.head()"
   ]
  },
  {
   "cell_type": "code",
   "execution_count": 111,
   "id": "15b663b5",
   "metadata": {},
   "outputs": [
    {
     "data": {
      "text/plain": [
       "(47004, 3)"
      ]
     },
     "execution_count": 111,
     "metadata": {},
     "output_type": "execute_result"
    }
   ],
   "source": [
    "df_client.shape"
   ]
  },
  {
   "cell_type": "markdown",
   "id": "b5acc7ed",
   "metadata": {},
   "source": [
    "Вновь создадим признак `source`"
   ]
  },
  {
   "cell_type": "code",
   "execution_count": 112,
   "id": "8918ff39",
   "metadata": {},
   "outputs": [],
   "source": [
    "# Удаляем дубликаты из df\n",
    "df_unique = df.drop_duplicates()\n",
    "\n",
    "# Группируем df_unique по client_id и source и выбираем первое значение\n",
    "df_unique_grouped = df_unique.groupby(['client_id', 'source']).first().reset_index()\n",
    "\n",
    "# Объединяем df_client с df_unique_grouped по client_id, оставив только столбцы client_id и source из df_unique_grouped\n",
    "df_client = pd.merge(df_client, df_unique_grouped[['client_id', 'source']], on='client_id', how='left')"
   ]
  },
  {
   "cell_type": "code",
   "execution_count": 113,
   "id": "ad59ecc5",
   "metadata": {},
   "outputs": [
    {
     "data": {
      "text/html": [
       "<div>\n",
       "<style scoped>\n",
       "    .dataframe tbody tr th:only-of-type {\n",
       "        vertical-align: middle;\n",
       "    }\n",
       "\n",
       "    .dataframe tbody tr th {\n",
       "        vertical-align: top;\n",
       "    }\n",
       "\n",
       "    .dataframe thead th {\n",
       "        text-align: right;\n",
       "    }\n",
       "</style>\n",
       "<table border=\"1\" class=\"dataframe\">\n",
       "  <thead>\n",
       "    <tr style=\"text-align: right;\">\n",
       "      <th></th>\n",
       "      <th>client_id</th>\n",
       "      <th>quantity</th>\n",
       "      <th>price</th>\n",
       "      <th>source</th>\n",
       "    </tr>\n",
       "  </thead>\n",
       "  <tbody>\n",
       "    <tr>\n",
       "      <th>0</th>\n",
       "      <td>1515915625440099873</td>\n",
       "      <td>2</td>\n",
       "      <td>33216.0</td>\n",
       "      <td>marketplace</td>\n",
       "    </tr>\n",
       "    <tr>\n",
       "      <th>1</th>\n",
       "      <td>1515915625440939402</td>\n",
       "      <td>1</td>\n",
       "      <td>75998.0</td>\n",
       "      <td>marketplace</td>\n",
       "    </tr>\n",
       "    <tr>\n",
       "      <th>2</th>\n",
       "      <td>1515915625440944408</td>\n",
       "      <td>3</td>\n",
       "      <td>81178.0</td>\n",
       "      <td>marketplace</td>\n",
       "    </tr>\n",
       "    <tr>\n",
       "      <th>3</th>\n",
       "      <td>1515915625440947454</td>\n",
       "      <td>4</td>\n",
       "      <td>4486.0</td>\n",
       "      <td>marketplace</td>\n",
       "    </tr>\n",
       "    <tr>\n",
       "      <th>4</th>\n",
       "      <td>1515915625440952940</td>\n",
       "      <td>1</td>\n",
       "      <td>479.0</td>\n",
       "      <td>marketplace</td>\n",
       "    </tr>\n",
       "    <tr>\n",
       "      <th>...</th>\n",
       "      <td>...</td>\n",
       "      <td>...</td>\n",
       "      <td>...</td>\n",
       "      <td>...</td>\n",
       "    </tr>\n",
       "    <tr>\n",
       "      <th>46999</th>\n",
       "      <td>1515915626005014483</td>\n",
       "      <td>1</td>\n",
       "      <td>7534.0</td>\n",
       "      <td>gifts</td>\n",
       "    </tr>\n",
       "    <tr>\n",
       "      <th>47000</th>\n",
       "      <td>1515915626010039507</td>\n",
       "      <td>2</td>\n",
       "      <td>26039.0</td>\n",
       "      <td>gifts</td>\n",
       "    </tr>\n",
       "    <tr>\n",
       "      <th>47001</th>\n",
       "      <td>1515915626011484905</td>\n",
       "      <td>5</td>\n",
       "      <td>32913.0</td>\n",
       "      <td>gifts</td>\n",
       "    </tr>\n",
       "    <tr>\n",
       "      <th>47002</th>\n",
       "      <td>1515915626012131867</td>\n",
       "      <td>1</td>\n",
       "      <td>25834.0</td>\n",
       "      <td>gifts</td>\n",
       "    </tr>\n",
       "    <tr>\n",
       "      <th>47003</th>\n",
       "      <td>1515915626013602677</td>\n",
       "      <td>3</td>\n",
       "      <td>111535.0</td>\n",
       "      <td>gifts</td>\n",
       "    </tr>\n",
       "  </tbody>\n",
       "</table>\n",
       "<p>47004 rows × 4 columns</p>\n",
       "</div>"
      ],
      "text/plain": [
       "                 client_id  quantity     price       source\n",
       "0      1515915625440099873         2   33216.0  marketplace\n",
       "1      1515915625440939402         1   75998.0  marketplace\n",
       "2      1515915625440944408         3   81178.0  marketplace\n",
       "3      1515915625440947454         4    4486.0  marketplace\n",
       "4      1515915625440952940         1     479.0  marketplace\n",
       "...                    ...       ...       ...          ...\n",
       "46999  1515915626005014483         1    7534.0        gifts\n",
       "47000  1515915626010039507         2   26039.0        gifts\n",
       "47001  1515915626011484905         5   32913.0        gifts\n",
       "47002  1515915626012131867         1   25834.0        gifts\n",
       "47003  1515915626013602677         3  111535.0        gifts\n",
       "\n",
       "[47004 rows x 4 columns]"
      ]
     },
     "execution_count": 113,
     "metadata": {},
     "output_type": "execute_result"
    }
   ],
   "source": [
    "# Выводим результат\n",
    "df_client"
   ]
  },
  {
   "cell_type": "markdown",
   "id": "9a4a1f5e",
   "metadata": {},
   "source": [
    "### Минимальное количество дней между покупками"
   ]
  },
  {
   "cell_type": "markdown",
   "id": "cd602255",
   "metadata": {},
   "source": [
    "Определим минимальное количество дней между двумя последовательными транзакциями пользователя"
   ]
  },
  {
   "cell_type": "code",
   "execution_count": 114,
   "id": "8d8f6b3b",
   "metadata": {},
   "outputs": [],
   "source": [
    "df['date_diff'] = df.groupby('client_id')['date'].diff()"
   ]
  },
  {
   "cell_type": "code",
   "execution_count": 115,
   "id": "6590a938",
   "metadata": {},
   "outputs": [
    {
     "data": {
      "text/html": [
       "<div>\n",
       "<style scoped>\n",
       "    .dataframe tbody tr th:only-of-type {\n",
       "        vertical-align: middle;\n",
       "    }\n",
       "\n",
       "    .dataframe tbody tr th {\n",
       "        vertical-align: top;\n",
       "    }\n",
       "\n",
       "    .dataframe thead th {\n",
       "        text-align: right;\n",
       "    }\n",
       "</style>\n",
       "<table border=\"1\" class=\"dataframe\">\n",
       "  <thead>\n",
       "    <tr style=\"text-align: right;\">\n",
       "      <th></th>\n",
       "      <th>client_id</th>\n",
       "      <th>quantity</th>\n",
       "      <th>price</th>\n",
       "      <th>date</th>\n",
       "      <th>source</th>\n",
       "      <th>total_price</th>\n",
       "      <th>date_diff</th>\n",
       "    </tr>\n",
       "  </thead>\n",
       "  <tbody>\n",
       "    <tr>\n",
       "      <th>25171</th>\n",
       "      <td>1515915625440099873</td>\n",
       "      <td>1</td>\n",
       "      <td>1218.0</td>\n",
       "      <td>2023-08-09</td>\n",
       "      <td>marketplace</td>\n",
       "      <td>1218.0</td>\n",
       "      <td>NaT</td>\n",
       "    </tr>\n",
       "    <tr>\n",
       "      <th>2644</th>\n",
       "      <td>1515915625440099873</td>\n",
       "      <td>1</td>\n",
       "      <td>31998.0</td>\n",
       "      <td>2023-07-16</td>\n",
       "      <td>marketplace</td>\n",
       "      <td>31998.0</td>\n",
       "      <td>-24 days</td>\n",
       "    </tr>\n",
       "    <tr>\n",
       "      <th>2396</th>\n",
       "      <td>1515915625440939402</td>\n",
       "      <td>1</td>\n",
       "      <td>75998.0</td>\n",
       "      <td>2023-01-30</td>\n",
       "      <td>marketplace</td>\n",
       "      <td>75998.0</td>\n",
       "      <td>NaT</td>\n",
       "    </tr>\n",
       "    <tr>\n",
       "      <th>24292</th>\n",
       "      <td>1515915625440944408</td>\n",
       "      <td>1</td>\n",
       "      <td>73998.0</td>\n",
       "      <td>2023-06-21</td>\n",
       "      <td>marketplace</td>\n",
       "      <td>73998.0</td>\n",
       "      <td>NaT</td>\n",
       "    </tr>\n",
       "    <tr>\n",
       "      <th>0</th>\n",
       "      <td>1515915625440944408</td>\n",
       "      <td>1</td>\n",
       "      <td>6298.0</td>\n",
       "      <td>2023-05-02</td>\n",
       "      <td>marketplace</td>\n",
       "      <td>6298.0</td>\n",
       "      <td>-50 days</td>\n",
       "    </tr>\n",
       "    <tr>\n",
       "      <th>434</th>\n",
       "      <td>1515915625440944408</td>\n",
       "      <td>1</td>\n",
       "      <td>882.0</td>\n",
       "      <td>2023-03-01</td>\n",
       "      <td>marketplace</td>\n",
       "      <td>882.0</td>\n",
       "      <td>-62 days</td>\n",
       "    </tr>\n",
       "    <tr>\n",
       "      <th>16775</th>\n",
       "      <td>1515915625440947454</td>\n",
       "      <td>1</td>\n",
       "      <td>286.0</td>\n",
       "      <td>2022-12-24</td>\n",
       "      <td>marketplace</td>\n",
       "      <td>286.0</td>\n",
       "      <td>NaT</td>\n",
       "    </tr>\n",
       "    <tr>\n",
       "      <th>16776</th>\n",
       "      <td>1515915625440947454</td>\n",
       "      <td>1</td>\n",
       "      <td>3998.0</td>\n",
       "      <td>2022-12-24</td>\n",
       "      <td>marketplace</td>\n",
       "      <td>3998.0</td>\n",
       "      <td>0 days</td>\n",
       "    </tr>\n",
       "    <tr>\n",
       "      <th>4333</th>\n",
       "      <td>1515915625440947454</td>\n",
       "      <td>1</td>\n",
       "      <td>2.0</td>\n",
       "      <td>2022-11-06</td>\n",
       "      <td>marketplace</td>\n",
       "      <td>2.0</td>\n",
       "      <td>-48 days</td>\n",
       "    </tr>\n",
       "    <tr>\n",
       "      <th>4334</th>\n",
       "      <td>1515915625440947454</td>\n",
       "      <td>1</td>\n",
       "      <td>200.0</td>\n",
       "      <td>2022-11-06</td>\n",
       "      <td>marketplace</td>\n",
       "      <td>200.0</td>\n",
       "      <td>0 days</td>\n",
       "    </tr>\n",
       "  </tbody>\n",
       "</table>\n",
       "</div>"
      ],
      "text/plain": [
       "                 client_id  quantity    price        date       source  \\\n",
       "25171  1515915625440099873         1   1218.0  2023-08-09  marketplace   \n",
       "2644   1515915625440099873         1  31998.0  2023-07-16  marketplace   \n",
       "2396   1515915625440939402         1  75998.0  2023-01-30  marketplace   \n",
       "24292  1515915625440944408         1  73998.0  2023-06-21  marketplace   \n",
       "0      1515915625440944408         1   6298.0  2023-05-02  marketplace   \n",
       "434    1515915625440944408         1    882.0  2023-03-01  marketplace   \n",
       "16775  1515915625440947454         1    286.0  2022-12-24  marketplace   \n",
       "16776  1515915625440947454         1   3998.0  2022-12-24  marketplace   \n",
       "4333   1515915625440947454         1      2.0  2022-11-06  marketplace   \n",
       "4334   1515915625440947454         1    200.0  2022-11-06  marketplace   \n",
       "\n",
       "       total_price date_diff  \n",
       "25171       1218.0       NaT  \n",
       "2644       31998.0  -24 days  \n",
       "2396       75998.0       NaT  \n",
       "24292      73998.0       NaT  \n",
       "0           6298.0  -50 days  \n",
       "434          882.0  -62 days  \n",
       "16775        286.0       NaT  \n",
       "16776       3998.0    0 days  \n",
       "4333           2.0  -48 days  \n",
       "4334         200.0    0 days  "
      ]
     },
     "execution_count": 115,
     "metadata": {},
     "output_type": "execute_result"
    }
   ],
   "source": [
    "df.head(10)"
   ]
  },
  {
   "cell_type": "markdown",
   "id": "cdd60c09",
   "metadata": {},
   "source": [
    "Отбрасываем строки, где `date_diff` является *NaT* (означает, что это первая транзакция для клиента)"
   ]
  },
  {
   "cell_type": "code",
   "execution_count": 116,
   "id": "351c233d",
   "metadata": {},
   "outputs": [],
   "source": [
    "df = df[~df['date_diff'].isna()]"
   ]
  },
  {
   "cell_type": "code",
   "execution_count": 117,
   "id": "6cd5812e",
   "metadata": {},
   "outputs": [],
   "source": [
    "# преобразуем date_diff в дни\n",
    "df['date_diff'] = df['date_diff'].dt.days"
   ]
  },
  {
   "cell_type": "code",
   "execution_count": 118,
   "id": "77f3bf4d",
   "metadata": {},
   "outputs": [],
   "source": [
    "# переведем в положительные значения разницу дней между покупками\n",
    "df['date_diff'] = df['date_diff'].abs()"
   ]
  },
  {
   "cell_type": "code",
   "execution_count": 119,
   "id": "64a618fc",
   "metadata": {},
   "outputs": [],
   "source": [
    "# удалим значения 0, т.к. это разница между разными покупками в один и тот же день\n",
    "df = df[df['date_diff'] > 0]"
   ]
  },
  {
   "cell_type": "code",
   "execution_count": 120,
   "id": "7959e241",
   "metadata": {},
   "outputs": [
    {
     "data": {
      "text/html": [
       "<div>\n",
       "<style scoped>\n",
       "    .dataframe tbody tr th:only-of-type {\n",
       "        vertical-align: middle;\n",
       "    }\n",
       "\n",
       "    .dataframe tbody tr th {\n",
       "        vertical-align: top;\n",
       "    }\n",
       "\n",
       "    .dataframe thead th {\n",
       "        text-align: right;\n",
       "    }\n",
       "</style>\n",
       "<table border=\"1\" class=\"dataframe\">\n",
       "  <thead>\n",
       "    <tr style=\"text-align: right;\">\n",
       "      <th></th>\n",
       "      <th>client_id</th>\n",
       "      <th>quantity</th>\n",
       "      <th>price</th>\n",
       "      <th>date</th>\n",
       "      <th>source</th>\n",
       "      <th>total_price</th>\n",
       "      <th>date_diff</th>\n",
       "    </tr>\n",
       "  </thead>\n",
       "  <tbody>\n",
       "    <tr>\n",
       "      <th>2644</th>\n",
       "      <td>1515915625440099873</td>\n",
       "      <td>1</td>\n",
       "      <td>31998.0</td>\n",
       "      <td>2023-07-16</td>\n",
       "      <td>marketplace</td>\n",
       "      <td>31998.0</td>\n",
       "      <td>24</td>\n",
       "    </tr>\n",
       "    <tr>\n",
       "      <th>0</th>\n",
       "      <td>1515915625440944408</td>\n",
       "      <td>1</td>\n",
       "      <td>6298.0</td>\n",
       "      <td>2023-05-02</td>\n",
       "      <td>marketplace</td>\n",
       "      <td>6298.0</td>\n",
       "      <td>50</td>\n",
       "    </tr>\n",
       "    <tr>\n",
       "      <th>434</th>\n",
       "      <td>1515915625440944408</td>\n",
       "      <td>1</td>\n",
       "      <td>882.0</td>\n",
       "      <td>2023-03-01</td>\n",
       "      <td>marketplace</td>\n",
       "      <td>882.0</td>\n",
       "      <td>62</td>\n",
       "    </tr>\n",
       "    <tr>\n",
       "      <th>4333</th>\n",
       "      <td>1515915625440947454</td>\n",
       "      <td>1</td>\n",
       "      <td>2.0</td>\n",
       "      <td>2022-11-06</td>\n",
       "      <td>marketplace</td>\n",
       "      <td>2.0</td>\n",
       "      <td>48</td>\n",
       "    </tr>\n",
       "    <tr>\n",
       "      <th>4336</th>\n",
       "      <td>1515915625440966943</td>\n",
       "      <td>1</td>\n",
       "      <td>478.0</td>\n",
       "      <td>2022-11-26</td>\n",
       "      <td>marketplace</td>\n",
       "      <td>478.0</td>\n",
       "      <td>27</td>\n",
       "    </tr>\n",
       "  </tbody>\n",
       "</table>\n",
       "</div>"
      ],
      "text/plain": [
       "                client_id  quantity    price        date       source  \\\n",
       "2644  1515915625440099873         1  31998.0  2023-07-16  marketplace   \n",
       "0     1515915625440944408         1   6298.0  2023-05-02  marketplace   \n",
       "434   1515915625440944408         1    882.0  2023-03-01  marketplace   \n",
       "4333  1515915625440947454         1      2.0  2022-11-06  marketplace   \n",
       "4336  1515915625440966943         1    478.0  2022-11-26  marketplace   \n",
       "\n",
       "      total_price  date_diff  \n",
       "2644      31998.0         24  \n",
       "0          6298.0         50  \n",
       "434         882.0         62  \n",
       "4333          2.0         48  \n",
       "4336        478.0         27  "
      ]
     },
     "execution_count": 120,
     "metadata": {},
     "output_type": "execute_result"
    }
   ],
   "source": [
    "df.head()"
   ]
  },
  {
   "cell_type": "markdown",
   "id": "2dd46bbb",
   "metadata": {},
   "source": [
    "Создадим список с минимальным количеством дней между покупками"
   ]
  },
  {
   "cell_type": "code",
   "execution_count": 121,
   "id": "2ec96d18",
   "metadata": {},
   "outputs": [],
   "source": [
    "min_days_between_transactions = df.groupby('client_id')['date_diff'].min().reset_index()"
   ]
  },
  {
   "cell_type": "code",
   "execution_count": 122,
   "id": "ba1944ae",
   "metadata": {},
   "outputs": [
    {
     "data": {
      "text/html": [
       "<div>\n",
       "<style scoped>\n",
       "    .dataframe tbody tr th:only-of-type {\n",
       "        vertical-align: middle;\n",
       "    }\n",
       "\n",
       "    .dataframe tbody tr th {\n",
       "        vertical-align: top;\n",
       "    }\n",
       "\n",
       "    .dataframe thead th {\n",
       "        text-align: right;\n",
       "    }\n",
       "</style>\n",
       "<table border=\"1\" class=\"dataframe\">\n",
       "  <thead>\n",
       "    <tr style=\"text-align: right;\">\n",
       "      <th></th>\n",
       "      <th>client_id</th>\n",
       "      <th>date_diff</th>\n",
       "    </tr>\n",
       "  </thead>\n",
       "  <tbody>\n",
       "    <tr>\n",
       "      <th>0</th>\n",
       "      <td>1515915625440099873</td>\n",
       "      <td>24</td>\n",
       "    </tr>\n",
       "    <tr>\n",
       "      <th>1</th>\n",
       "      <td>1515915625440944408</td>\n",
       "      <td>50</td>\n",
       "    </tr>\n",
       "    <tr>\n",
       "      <th>2</th>\n",
       "      <td>1515915625440947454</td>\n",
       "      <td>48</td>\n",
       "    </tr>\n",
       "    <tr>\n",
       "      <th>3</th>\n",
       "      <td>1515915625440966943</td>\n",
       "      <td>27</td>\n",
       "    </tr>\n",
       "    <tr>\n",
       "      <th>4</th>\n",
       "      <td>1515915625440978763</td>\n",
       "      <td>110</td>\n",
       "    </tr>\n",
       "  </tbody>\n",
       "</table>\n",
       "</div>"
      ],
      "text/plain": [
       "             client_id  date_diff\n",
       "0  1515915625440099873         24\n",
       "1  1515915625440944408         50\n",
       "2  1515915625440947454         48\n",
       "3  1515915625440966943         27\n",
       "4  1515915625440978763        110"
      ]
     },
     "execution_count": 122,
     "metadata": {},
     "output_type": "execute_result"
    }
   ],
   "source": [
    "min_days_between_transactions.head()"
   ]
  },
  {
   "cell_type": "code",
   "execution_count": 123,
   "id": "adbe16fa",
   "metadata": {},
   "outputs": [],
   "source": [
    "df_client = df_client.merge(min_days_between_transactions, on='client_id', how='left')"
   ]
  },
  {
   "cell_type": "code",
   "execution_count": 124,
   "id": "02009e83",
   "metadata": {},
   "outputs": [],
   "source": [
    "df_client.rename(columns={'date_diff': 'min_date_diff'}, inplace=True)"
   ]
  },
  {
   "cell_type": "markdown",
   "id": "daf4627f",
   "metadata": {},
   "source": [
    "### Максимальное количество дней между покупками"
   ]
  },
  {
   "cell_type": "code",
   "execution_count": 125,
   "id": "f002e03c",
   "metadata": {},
   "outputs": [],
   "source": [
    "max_days_between_transactions = df.groupby('client_id')['date_diff'].max().reset_index()"
   ]
  },
  {
   "cell_type": "code",
   "execution_count": 126,
   "id": "c3220b3b",
   "metadata": {},
   "outputs": [
    {
     "data": {
      "text/html": [
       "<div>\n",
       "<style scoped>\n",
       "    .dataframe tbody tr th:only-of-type {\n",
       "        vertical-align: middle;\n",
       "    }\n",
       "\n",
       "    .dataframe tbody tr th {\n",
       "        vertical-align: top;\n",
       "    }\n",
       "\n",
       "    .dataframe thead th {\n",
       "        text-align: right;\n",
       "    }\n",
       "</style>\n",
       "<table border=\"1\" class=\"dataframe\">\n",
       "  <thead>\n",
       "    <tr style=\"text-align: right;\">\n",
       "      <th></th>\n",
       "      <th>client_id</th>\n",
       "      <th>date_diff</th>\n",
       "    </tr>\n",
       "  </thead>\n",
       "  <tbody>\n",
       "    <tr>\n",
       "      <th>0</th>\n",
       "      <td>1515915625440099873</td>\n",
       "      <td>24</td>\n",
       "    </tr>\n",
       "    <tr>\n",
       "      <th>1</th>\n",
       "      <td>1515915625440944408</td>\n",
       "      <td>62</td>\n",
       "    </tr>\n",
       "    <tr>\n",
       "      <th>2</th>\n",
       "      <td>1515915625440947454</td>\n",
       "      <td>48</td>\n",
       "    </tr>\n",
       "    <tr>\n",
       "      <th>3</th>\n",
       "      <td>1515915625440966943</td>\n",
       "      <td>27</td>\n",
       "    </tr>\n",
       "    <tr>\n",
       "      <th>4</th>\n",
       "      <td>1515915625440978763</td>\n",
       "      <td>110</td>\n",
       "    </tr>\n",
       "  </tbody>\n",
       "</table>\n",
       "</div>"
      ],
      "text/plain": [
       "             client_id  date_diff\n",
       "0  1515915625440099873         24\n",
       "1  1515915625440944408         62\n",
       "2  1515915625440947454         48\n",
       "3  1515915625440966943         27\n",
       "4  1515915625440978763        110"
      ]
     },
     "execution_count": 126,
     "metadata": {},
     "output_type": "execute_result"
    }
   ],
   "source": [
    "max_days_between_transactions.head()"
   ]
  },
  {
   "cell_type": "code",
   "execution_count": 127,
   "id": "84805d74",
   "metadata": {},
   "outputs": [],
   "source": [
    "df_client = df_client.merge(max_days_between_transactions, on='client_id', how='left')"
   ]
  },
  {
   "cell_type": "code",
   "execution_count": 128,
   "id": "a0319bb5",
   "metadata": {},
   "outputs": [],
   "source": [
    "df_client.rename(columns={'date_diff': 'max_date_diff'}, inplace=True)"
   ]
  },
  {
   "cell_type": "code",
   "execution_count": 129,
   "id": "14294c3e",
   "metadata": {},
   "outputs": [
    {
     "data": {
      "text/html": [
       "<div>\n",
       "<style scoped>\n",
       "    .dataframe tbody tr th:only-of-type {\n",
       "        vertical-align: middle;\n",
       "    }\n",
       "\n",
       "    .dataframe tbody tr th {\n",
       "        vertical-align: top;\n",
       "    }\n",
       "\n",
       "    .dataframe thead th {\n",
       "        text-align: right;\n",
       "    }\n",
       "</style>\n",
       "<table border=\"1\" class=\"dataframe\">\n",
       "  <thead>\n",
       "    <tr style=\"text-align: right;\">\n",
       "      <th></th>\n",
       "      <th>client_id</th>\n",
       "      <th>quantity</th>\n",
       "      <th>price</th>\n",
       "      <th>source</th>\n",
       "      <th>min_date_diff</th>\n",
       "      <th>max_date_diff</th>\n",
       "    </tr>\n",
       "  </thead>\n",
       "  <tbody>\n",
       "    <tr>\n",
       "      <th>0</th>\n",
       "      <td>1515915625440099873</td>\n",
       "      <td>2</td>\n",
       "      <td>33216.0</td>\n",
       "      <td>marketplace</td>\n",
       "      <td>24.0</td>\n",
       "      <td>24.0</td>\n",
       "    </tr>\n",
       "    <tr>\n",
       "      <th>1</th>\n",
       "      <td>1515915625440939402</td>\n",
       "      <td>1</td>\n",
       "      <td>75998.0</td>\n",
       "      <td>marketplace</td>\n",
       "      <td>NaN</td>\n",
       "      <td>NaN</td>\n",
       "    </tr>\n",
       "    <tr>\n",
       "      <th>2</th>\n",
       "      <td>1515915625440944408</td>\n",
       "      <td>3</td>\n",
       "      <td>81178.0</td>\n",
       "      <td>marketplace</td>\n",
       "      <td>50.0</td>\n",
       "      <td>62.0</td>\n",
       "    </tr>\n",
       "    <tr>\n",
       "      <th>3</th>\n",
       "      <td>1515915625440947454</td>\n",
       "      <td>4</td>\n",
       "      <td>4486.0</td>\n",
       "      <td>marketplace</td>\n",
       "      <td>48.0</td>\n",
       "      <td>48.0</td>\n",
       "    </tr>\n",
       "    <tr>\n",
       "      <th>4</th>\n",
       "      <td>1515915625440952940</td>\n",
       "      <td>1</td>\n",
       "      <td>479.0</td>\n",
       "      <td>marketplace</td>\n",
       "      <td>NaN</td>\n",
       "      <td>NaN</td>\n",
       "    </tr>\n",
       "  </tbody>\n",
       "</table>\n",
       "</div>"
      ],
      "text/plain": [
       "             client_id  quantity    price       source  min_date_diff  \\\n",
       "0  1515915625440099873         2  33216.0  marketplace           24.0   \n",
       "1  1515915625440939402         1  75998.0  marketplace            NaN   \n",
       "2  1515915625440944408         3  81178.0  marketplace           50.0   \n",
       "3  1515915625440947454         4   4486.0  marketplace           48.0   \n",
       "4  1515915625440952940         1    479.0  marketplace            NaN   \n",
       "\n",
       "   max_date_diff  \n",
       "0           24.0  \n",
       "1            NaN  \n",
       "2           62.0  \n",
       "3           48.0  \n",
       "4            NaN  "
      ]
     },
     "execution_count": 129,
     "metadata": {},
     "output_type": "execute_result"
    }
   ],
   "source": [
    "df_client.head()"
   ]
  },
  {
   "cell_type": "markdown",
   "id": "fb3a9949",
   "metadata": {},
   "source": [
    "### Среднее количество дней между покупками"
   ]
  },
  {
   "cell_type": "code",
   "execution_count": 130,
   "id": "0928cf88",
   "metadata": {},
   "outputs": [],
   "source": [
    "mean_days_between_transactions = df.groupby('client_id')['date_diff'].agg(['sum', 'count']).reset_index()"
   ]
  },
  {
   "cell_type": "code",
   "execution_count": 131,
   "id": "b1f7eb04",
   "metadata": {},
   "outputs": [],
   "source": [
    "mean_days_between_transactions['mean'] =  mean_days_between_transactions['sum'] / mean_days_between_transactions['count']"
   ]
  },
  {
   "cell_type": "code",
   "execution_count": 132,
   "id": "03800930",
   "metadata": {},
   "outputs": [],
   "source": [
    "df_client = df_client.merge(mean_days_between_transactions[['client_id', 'mean']], on='client_id', how='left')"
   ]
  },
  {
   "cell_type": "code",
   "execution_count": 133,
   "id": "e059ae43",
   "metadata": {},
   "outputs": [],
   "source": [
    "df_client.rename(columns={'mean': 'mean_date_diff'}, inplace=True)"
   ]
  },
  {
   "cell_type": "code",
   "execution_count": 134,
   "id": "c6fa06f4",
   "metadata": {},
   "outputs": [
    {
     "data": {
      "text/html": [
       "<div>\n",
       "<style scoped>\n",
       "    .dataframe tbody tr th:only-of-type {\n",
       "        vertical-align: middle;\n",
       "    }\n",
       "\n",
       "    .dataframe tbody tr th {\n",
       "        vertical-align: top;\n",
       "    }\n",
       "\n",
       "    .dataframe thead th {\n",
       "        text-align: right;\n",
       "    }\n",
       "</style>\n",
       "<table border=\"1\" class=\"dataframe\">\n",
       "  <thead>\n",
       "    <tr style=\"text-align: right;\">\n",
       "      <th></th>\n",
       "      <th>client_id</th>\n",
       "      <th>quantity</th>\n",
       "      <th>price</th>\n",
       "      <th>source</th>\n",
       "      <th>min_date_diff</th>\n",
       "      <th>max_date_diff</th>\n",
       "      <th>mean_date_diff</th>\n",
       "    </tr>\n",
       "  </thead>\n",
       "  <tbody>\n",
       "    <tr>\n",
       "      <th>0</th>\n",
       "      <td>1515915625440099873</td>\n",
       "      <td>2</td>\n",
       "      <td>33216.0</td>\n",
       "      <td>marketplace</td>\n",
       "      <td>24.0</td>\n",
       "      <td>24.0</td>\n",
       "      <td>24.0</td>\n",
       "    </tr>\n",
       "    <tr>\n",
       "      <th>1</th>\n",
       "      <td>1515915625440939402</td>\n",
       "      <td>1</td>\n",
       "      <td>75998.0</td>\n",
       "      <td>marketplace</td>\n",
       "      <td>NaN</td>\n",
       "      <td>NaN</td>\n",
       "      <td>NaN</td>\n",
       "    </tr>\n",
       "    <tr>\n",
       "      <th>2</th>\n",
       "      <td>1515915625440944408</td>\n",
       "      <td>3</td>\n",
       "      <td>81178.0</td>\n",
       "      <td>marketplace</td>\n",
       "      <td>50.0</td>\n",
       "      <td>62.0</td>\n",
       "      <td>56.0</td>\n",
       "    </tr>\n",
       "    <tr>\n",
       "      <th>3</th>\n",
       "      <td>1515915625440947454</td>\n",
       "      <td>4</td>\n",
       "      <td>4486.0</td>\n",
       "      <td>marketplace</td>\n",
       "      <td>48.0</td>\n",
       "      <td>48.0</td>\n",
       "      <td>48.0</td>\n",
       "    </tr>\n",
       "    <tr>\n",
       "      <th>4</th>\n",
       "      <td>1515915625440952940</td>\n",
       "      <td>1</td>\n",
       "      <td>479.0</td>\n",
       "      <td>marketplace</td>\n",
       "      <td>NaN</td>\n",
       "      <td>NaN</td>\n",
       "      <td>NaN</td>\n",
       "    </tr>\n",
       "    <tr>\n",
       "      <th>...</th>\n",
       "      <td>...</td>\n",
       "      <td>...</td>\n",
       "      <td>...</td>\n",
       "      <td>...</td>\n",
       "      <td>...</td>\n",
       "      <td>...</td>\n",
       "      <td>...</td>\n",
       "    </tr>\n",
       "    <tr>\n",
       "      <th>46999</th>\n",
       "      <td>1515915626005014483</td>\n",
       "      <td>1</td>\n",
       "      <td>7534.0</td>\n",
       "      <td>gifts</td>\n",
       "      <td>NaN</td>\n",
       "      <td>NaN</td>\n",
       "      <td>NaN</td>\n",
       "    </tr>\n",
       "    <tr>\n",
       "      <th>47000</th>\n",
       "      <td>1515915626010039507</td>\n",
       "      <td>2</td>\n",
       "      <td>26039.0</td>\n",
       "      <td>gifts</td>\n",
       "      <td>NaN</td>\n",
       "      <td>NaN</td>\n",
       "      <td>NaN</td>\n",
       "    </tr>\n",
       "    <tr>\n",
       "      <th>47001</th>\n",
       "      <td>1515915626011484905</td>\n",
       "      <td>5</td>\n",
       "      <td>32913.0</td>\n",
       "      <td>gifts</td>\n",
       "      <td>NaN</td>\n",
       "      <td>NaN</td>\n",
       "      <td>NaN</td>\n",
       "    </tr>\n",
       "    <tr>\n",
       "      <th>47002</th>\n",
       "      <td>1515915626012131867</td>\n",
       "      <td>1</td>\n",
       "      <td>25834.0</td>\n",
       "      <td>gifts</td>\n",
       "      <td>NaN</td>\n",
       "      <td>NaN</td>\n",
       "      <td>NaN</td>\n",
       "    </tr>\n",
       "    <tr>\n",
       "      <th>47003</th>\n",
       "      <td>1515915626013602677</td>\n",
       "      <td>3</td>\n",
       "      <td>111535.0</td>\n",
       "      <td>gifts</td>\n",
       "      <td>NaN</td>\n",
       "      <td>NaN</td>\n",
       "      <td>NaN</td>\n",
       "    </tr>\n",
       "  </tbody>\n",
       "</table>\n",
       "<p>47004 rows × 7 columns</p>\n",
       "</div>"
      ],
      "text/plain": [
       "                 client_id  quantity     price       source  min_date_diff  \\\n",
       "0      1515915625440099873         2   33216.0  marketplace           24.0   \n",
       "1      1515915625440939402         1   75998.0  marketplace            NaN   \n",
       "2      1515915625440944408         3   81178.0  marketplace           50.0   \n",
       "3      1515915625440947454         4    4486.0  marketplace           48.0   \n",
       "4      1515915625440952940         1     479.0  marketplace            NaN   \n",
       "...                    ...       ...       ...          ...            ...   \n",
       "46999  1515915626005014483         1    7534.0        gifts            NaN   \n",
       "47000  1515915626010039507         2   26039.0        gifts            NaN   \n",
       "47001  1515915626011484905         5   32913.0        gifts            NaN   \n",
       "47002  1515915626012131867         1   25834.0        gifts            NaN   \n",
       "47003  1515915626013602677         3  111535.0        gifts            NaN   \n",
       "\n",
       "       max_date_diff  mean_date_diff  \n",
       "0               24.0            24.0  \n",
       "1                NaN             NaN  \n",
       "2               62.0            56.0  \n",
       "3               48.0            48.0  \n",
       "4                NaN             NaN  \n",
       "...              ...             ...  \n",
       "46999            NaN             NaN  \n",
       "47000            NaN             NaN  \n",
       "47001            NaN             NaN  \n",
       "47002            NaN             NaN  \n",
       "47003            NaN             NaN  \n",
       "\n",
       "[47004 rows x 7 columns]"
      ]
     },
     "execution_count": 134,
     "metadata": {},
     "output_type": "execute_result"
    }
   ],
   "source": [
    "df_client"
   ]
  },
  {
   "cell_type": "markdown",
   "id": "b208fe75",
   "metadata": {},
   "source": [
    "Удалим строки с отсутствующими значениями в столбцах `min_date_diff`, `max_date_diff` и `mean_date_diff`"
   ]
  },
  {
   "cell_type": "code",
   "execution_count": 135,
   "id": "4ce0ed1d",
   "metadata": {},
   "outputs": [],
   "source": [
    "df_client = df_client.dropna()"
   ]
  },
  {
   "cell_type": "code",
   "execution_count": 136,
   "id": "6ecae2b4",
   "metadata": {},
   "outputs": [
    {
     "data": {
      "text/html": [
       "<div>\n",
       "<style scoped>\n",
       "    .dataframe tbody tr th:only-of-type {\n",
       "        vertical-align: middle;\n",
       "    }\n",
       "\n",
       "    .dataframe tbody tr th {\n",
       "        vertical-align: top;\n",
       "    }\n",
       "\n",
       "    .dataframe thead th {\n",
       "        text-align: right;\n",
       "    }\n",
       "</style>\n",
       "<table border=\"1\" class=\"dataframe\">\n",
       "  <thead>\n",
       "    <tr style=\"text-align: right;\">\n",
       "      <th></th>\n",
       "      <th>client_id</th>\n",
       "      <th>quantity</th>\n",
       "      <th>price</th>\n",
       "      <th>source</th>\n",
       "      <th>min_date_diff</th>\n",
       "      <th>max_date_diff</th>\n",
       "      <th>mean_date_diff</th>\n",
       "    </tr>\n",
       "  </thead>\n",
       "  <tbody>\n",
       "    <tr>\n",
       "      <th>0</th>\n",
       "      <td>1515915625440099873</td>\n",
       "      <td>2</td>\n",
       "      <td>33216.0</td>\n",
       "      <td>marketplace</td>\n",
       "      <td>24.0</td>\n",
       "      <td>24.0</td>\n",
       "      <td>24.0</td>\n",
       "    </tr>\n",
       "    <tr>\n",
       "      <th>2</th>\n",
       "      <td>1515915625440944408</td>\n",
       "      <td>3</td>\n",
       "      <td>81178.0</td>\n",
       "      <td>marketplace</td>\n",
       "      <td>50.0</td>\n",
       "      <td>62.0</td>\n",
       "      <td>56.0</td>\n",
       "    </tr>\n",
       "    <tr>\n",
       "      <th>3</th>\n",
       "      <td>1515915625440947454</td>\n",
       "      <td>4</td>\n",
       "      <td>4486.0</td>\n",
       "      <td>marketplace</td>\n",
       "      <td>48.0</td>\n",
       "      <td>48.0</td>\n",
       "      <td>48.0</td>\n",
       "    </tr>\n",
       "    <tr>\n",
       "      <th>10</th>\n",
       "      <td>1515915625440966943</td>\n",
       "      <td>2</td>\n",
       "      <td>18476.0</td>\n",
       "      <td>marketplace</td>\n",
       "      <td>27.0</td>\n",
       "      <td>27.0</td>\n",
       "      <td>27.0</td>\n",
       "    </tr>\n",
       "    <tr>\n",
       "      <th>13</th>\n",
       "      <td>1515915625440978763</td>\n",
       "      <td>5</td>\n",
       "      <td>134490.0</td>\n",
       "      <td>marketplace</td>\n",
       "      <td>110.0</td>\n",
       "      <td>110.0</td>\n",
       "      <td>110.0</td>\n",
       "    </tr>\n",
       "    <tr>\n",
       "      <th>...</th>\n",
       "      <td>...</td>\n",
       "      <td>...</td>\n",
       "      <td>...</td>\n",
       "      <td>...</td>\n",
       "      <td>...</td>\n",
       "      <td>...</td>\n",
       "      <td>...</td>\n",
       "    </tr>\n",
       "    <tr>\n",
       "      <th>46780</th>\n",
       "      <td>1515915625984308128</td>\n",
       "      <td>3</td>\n",
       "      <td>4597.0</td>\n",
       "      <td>apparel</td>\n",
       "      <td>43.0</td>\n",
       "      <td>43.0</td>\n",
       "      <td>43.0</td>\n",
       "    </tr>\n",
       "    <tr>\n",
       "      <th>46795</th>\n",
       "      <td>1515915625984937793</td>\n",
       "      <td>4</td>\n",
       "      <td>10596.0</td>\n",
       "      <td>apparel</td>\n",
       "      <td>1.0</td>\n",
       "      <td>1.0</td>\n",
       "      <td>1.0</td>\n",
       "    </tr>\n",
       "    <tr>\n",
       "      <th>46802</th>\n",
       "      <td>1515915625985115331</td>\n",
       "      <td>3</td>\n",
       "      <td>17266.0</td>\n",
       "      <td>gifts</td>\n",
       "      <td>10.0</td>\n",
       "      <td>10.0</td>\n",
       "      <td>10.0</td>\n",
       "    </tr>\n",
       "    <tr>\n",
       "      <th>46940</th>\n",
       "      <td>1515915625994223181</td>\n",
       "      <td>6</td>\n",
       "      <td>8609.0</td>\n",
       "      <td>apparel</td>\n",
       "      <td>1.0</td>\n",
       "      <td>1.0</td>\n",
       "      <td>1.0</td>\n",
       "    </tr>\n",
       "    <tr>\n",
       "      <th>46986</th>\n",
       "      <td>1515915625997391318</td>\n",
       "      <td>13</td>\n",
       "      <td>13442.0</td>\n",
       "      <td>apparel</td>\n",
       "      <td>1.0</td>\n",
       "      <td>1.0</td>\n",
       "      <td>1.0</td>\n",
       "    </tr>\n",
       "  </tbody>\n",
       "</table>\n",
       "<p>6500 rows × 7 columns</p>\n",
       "</div>"
      ],
      "text/plain": [
       "                 client_id  quantity     price       source  min_date_diff  \\\n",
       "0      1515915625440099873         2   33216.0  marketplace           24.0   \n",
       "2      1515915625440944408         3   81178.0  marketplace           50.0   \n",
       "3      1515915625440947454         4    4486.0  marketplace           48.0   \n",
       "10     1515915625440966943         2   18476.0  marketplace           27.0   \n",
       "13     1515915625440978763         5  134490.0  marketplace          110.0   \n",
       "...                    ...       ...       ...          ...            ...   \n",
       "46780  1515915625984308128         3    4597.0      apparel           43.0   \n",
       "46795  1515915625984937793         4   10596.0      apparel            1.0   \n",
       "46802  1515915625985115331         3   17266.0        gifts           10.0   \n",
       "46940  1515915625994223181         6    8609.0      apparel            1.0   \n",
       "46986  1515915625997391318        13   13442.0      apparel            1.0   \n",
       "\n",
       "       max_date_diff  mean_date_diff  \n",
       "0               24.0            24.0  \n",
       "2               62.0            56.0  \n",
       "3               48.0            48.0  \n",
       "10              27.0            27.0  \n",
       "13             110.0           110.0  \n",
       "...              ...             ...  \n",
       "46780           43.0            43.0  \n",
       "46795            1.0             1.0  \n",
       "46802           10.0            10.0  \n",
       "46940            1.0             1.0  \n",
       "46986            1.0             1.0  \n",
       "\n",
       "[6500 rows x 7 columns]"
      ]
     },
     "execution_count": 136,
     "metadata": {},
     "output_type": "execute_result"
    }
   ],
   "source": [
    "df_client"
   ]
  },
  {
   "cell_type": "markdown",
   "id": "d74e7d78",
   "metadata": {},
   "source": [
    "### RFM анализ"
   ]
  },
  {
   "cell_type": "markdown",
   "id": "a791828a",
   "metadata": {},
   "source": [
    "#### Recency"
   ]
  },
  {
   "cell_type": "code",
   "execution_count": 137,
   "id": "0b2624d6",
   "metadata": {},
   "outputs": [],
   "source": [
    "#Recency = df.groupby('client_id')['date'].max().reset_index()"
   ]
  },
  {
   "cell_type": "code",
   "execution_count": 138,
   "id": "41c49b74",
   "metadata": {},
   "outputs": [],
   "source": [
    "#Recency = last_date - Recency['date']"
   ]
  },
  {
   "cell_type": "code",
   "execution_count": 139,
   "id": "f3a4c56e",
   "metadata": {},
   "outputs": [],
   "source": [
    "recency = (last_date - df.groupby(\"client_id\").agg({\"date\":\"max\"})).reset_index()"
   ]
  },
  {
   "cell_type": "code",
   "execution_count": 140,
   "id": "098c1376",
   "metadata": {},
   "outputs": [],
   "source": [
    "recency['date'] = recency['date'].apply(lambda x: x.days)"
   ]
  },
  {
   "cell_type": "code",
   "execution_count": 141,
   "id": "2c06d300",
   "metadata": {},
   "outputs": [
    {
     "data": {
      "text/html": [
       "<div>\n",
       "<style scoped>\n",
       "    .dataframe tbody tr th:only-of-type {\n",
       "        vertical-align: middle;\n",
       "    }\n",
       "\n",
       "    .dataframe tbody tr th {\n",
       "        vertical-align: top;\n",
       "    }\n",
       "\n",
       "    .dataframe thead th {\n",
       "        text-align: right;\n",
       "    }\n",
       "</style>\n",
       "<table border=\"1\" class=\"dataframe\">\n",
       "  <thead>\n",
       "    <tr style=\"text-align: right;\">\n",
       "      <th></th>\n",
       "      <th>client_id</th>\n",
       "      <th>date</th>\n",
       "    </tr>\n",
       "  </thead>\n",
       "  <tbody>\n",
       "    <tr>\n",
       "      <th>0</th>\n",
       "      <td>1515915625440099873</td>\n",
       "      <td>102</td>\n",
       "    </tr>\n",
       "    <tr>\n",
       "      <th>1</th>\n",
       "      <td>1515915625440944408</td>\n",
       "      <td>177</td>\n",
       "    </tr>\n",
       "    <tr>\n",
       "      <th>2</th>\n",
       "      <td>1515915625440947454</td>\n",
       "      <td>354</td>\n",
       "    </tr>\n",
       "    <tr>\n",
       "      <th>3</th>\n",
       "      <td>1515915625440966943</td>\n",
       "      <td>334</td>\n",
       "    </tr>\n",
       "    <tr>\n",
       "      <th>4</th>\n",
       "      <td>1515915625440978763</td>\n",
       "      <td>307</td>\n",
       "    </tr>\n",
       "  </tbody>\n",
       "</table>\n",
       "</div>"
      ],
      "text/plain": [
       "             client_id  date\n",
       "0  1515915625440099873   102\n",
       "1  1515915625440944408   177\n",
       "2  1515915625440947454   354\n",
       "3  1515915625440966943   334\n",
       "4  1515915625440978763   307"
      ]
     },
     "execution_count": 141,
     "metadata": {},
     "output_type": "execute_result"
    }
   ],
   "source": [
    "recency.head()"
   ]
  },
  {
   "cell_type": "code",
   "execution_count": 142,
   "id": "849a041b",
   "metadata": {},
   "outputs": [],
   "source": [
    "df_client = df_client.merge(recency[['client_id', 'date']], on='client_id', how='left')"
   ]
  },
  {
   "cell_type": "code",
   "execution_count": 143,
   "id": "400d6f1c",
   "metadata": {},
   "outputs": [],
   "source": [
    "df_client.rename(columns={'date': 'recency'}, inplace=True)"
   ]
  },
  {
   "cell_type": "code",
   "execution_count": 144,
   "id": "ae6442a3",
   "metadata": {},
   "outputs": [
    {
     "data": {
      "text/html": [
       "<div>\n",
       "<style scoped>\n",
       "    .dataframe tbody tr th:only-of-type {\n",
       "        vertical-align: middle;\n",
       "    }\n",
       "\n",
       "    .dataframe tbody tr th {\n",
       "        vertical-align: top;\n",
       "    }\n",
       "\n",
       "    .dataframe thead th {\n",
       "        text-align: right;\n",
       "    }\n",
       "</style>\n",
       "<table border=\"1\" class=\"dataframe\">\n",
       "  <thead>\n",
       "    <tr style=\"text-align: right;\">\n",
       "      <th></th>\n",
       "      <th>client_id</th>\n",
       "      <th>quantity</th>\n",
       "      <th>price</th>\n",
       "      <th>source</th>\n",
       "      <th>min_date_diff</th>\n",
       "      <th>max_date_diff</th>\n",
       "      <th>mean_date_diff</th>\n",
       "      <th>recency</th>\n",
       "    </tr>\n",
       "  </thead>\n",
       "  <tbody>\n",
       "    <tr>\n",
       "      <th>0</th>\n",
       "      <td>1515915625440099873</td>\n",
       "      <td>2</td>\n",
       "      <td>33216.0</td>\n",
       "      <td>marketplace</td>\n",
       "      <td>24.0</td>\n",
       "      <td>24.0</td>\n",
       "      <td>24.0</td>\n",
       "      <td>102</td>\n",
       "    </tr>\n",
       "    <tr>\n",
       "      <th>1</th>\n",
       "      <td>1515915625440944408</td>\n",
       "      <td>3</td>\n",
       "      <td>81178.0</td>\n",
       "      <td>marketplace</td>\n",
       "      <td>50.0</td>\n",
       "      <td>62.0</td>\n",
       "      <td>56.0</td>\n",
       "      <td>177</td>\n",
       "    </tr>\n",
       "    <tr>\n",
       "      <th>2</th>\n",
       "      <td>1515915625440947454</td>\n",
       "      <td>4</td>\n",
       "      <td>4486.0</td>\n",
       "      <td>marketplace</td>\n",
       "      <td>48.0</td>\n",
       "      <td>48.0</td>\n",
       "      <td>48.0</td>\n",
       "      <td>354</td>\n",
       "    </tr>\n",
       "    <tr>\n",
       "      <th>3</th>\n",
       "      <td>1515915625440966943</td>\n",
       "      <td>2</td>\n",
       "      <td>18476.0</td>\n",
       "      <td>marketplace</td>\n",
       "      <td>27.0</td>\n",
       "      <td>27.0</td>\n",
       "      <td>27.0</td>\n",
       "      <td>334</td>\n",
       "    </tr>\n",
       "    <tr>\n",
       "      <th>4</th>\n",
       "      <td>1515915625440978763</td>\n",
       "      <td>5</td>\n",
       "      <td>134490.0</td>\n",
       "      <td>marketplace</td>\n",
       "      <td>110.0</td>\n",
       "      <td>110.0</td>\n",
       "      <td>110.0</td>\n",
       "      <td>307</td>\n",
       "    </tr>\n",
       "  </tbody>\n",
       "</table>\n",
       "</div>"
      ],
      "text/plain": [
       "             client_id  quantity     price       source  min_date_diff  \\\n",
       "0  1515915625440099873         2   33216.0  marketplace           24.0   \n",
       "1  1515915625440944408         3   81178.0  marketplace           50.0   \n",
       "2  1515915625440947454         4    4486.0  marketplace           48.0   \n",
       "3  1515915625440966943         2   18476.0  marketplace           27.0   \n",
       "4  1515915625440978763         5  134490.0  marketplace          110.0   \n",
       "\n",
       "   max_date_diff  mean_date_diff  recency  \n",
       "0           24.0            24.0      102  \n",
       "1           62.0            56.0      177  \n",
       "2           48.0            48.0      354  \n",
       "3           27.0            27.0      334  \n",
       "4          110.0           110.0      307  "
      ]
     },
     "execution_count": 144,
     "metadata": {},
     "output_type": "execute_result"
    }
   ],
   "source": [
    "df_client.head()"
   ]
  },
  {
   "cell_type": "markdown",
   "id": "b87504bd",
   "metadata": {},
   "source": [
    "#### Frequency"
   ]
  },
  {
   "cell_type": "code",
   "execution_count": 145,
   "id": "9da827f0",
   "metadata": {},
   "outputs": [],
   "source": [
    "frequency = df.groupby(\"client_id\").agg({\"date\":\"nunique\"}).reset_index()"
   ]
  },
  {
   "cell_type": "code",
   "execution_count": 146,
   "id": "91f1a9a1",
   "metadata": {},
   "outputs": [],
   "source": [
    "df_client = df_client.merge(frequency[['client_id', 'date']], on='client_id', how='left')"
   ]
  },
  {
   "cell_type": "code",
   "execution_count": 147,
   "id": "29badb73",
   "metadata": {},
   "outputs": [],
   "source": [
    "df_client.rename(columns={'date': 'frequency'}, inplace=True)"
   ]
  },
  {
   "cell_type": "code",
   "execution_count": 148,
   "id": "d823e2dd",
   "metadata": {},
   "outputs": [
    {
     "data": {
      "text/html": [
       "<div>\n",
       "<style scoped>\n",
       "    .dataframe tbody tr th:only-of-type {\n",
       "        vertical-align: middle;\n",
       "    }\n",
       "\n",
       "    .dataframe tbody tr th {\n",
       "        vertical-align: top;\n",
       "    }\n",
       "\n",
       "    .dataframe thead th {\n",
       "        text-align: right;\n",
       "    }\n",
       "</style>\n",
       "<table border=\"1\" class=\"dataframe\">\n",
       "  <thead>\n",
       "    <tr style=\"text-align: right;\">\n",
       "      <th></th>\n",
       "      <th>client_id</th>\n",
       "      <th>quantity</th>\n",
       "      <th>price</th>\n",
       "      <th>source</th>\n",
       "      <th>min_date_diff</th>\n",
       "      <th>max_date_diff</th>\n",
       "      <th>mean_date_diff</th>\n",
       "      <th>recency</th>\n",
       "      <th>frequency</th>\n",
       "    </tr>\n",
       "  </thead>\n",
       "  <tbody>\n",
       "    <tr>\n",
       "      <th>0</th>\n",
       "      <td>1515915625440099873</td>\n",
       "      <td>2</td>\n",
       "      <td>33216.0</td>\n",
       "      <td>marketplace</td>\n",
       "      <td>24.0</td>\n",
       "      <td>24.0</td>\n",
       "      <td>24.0</td>\n",
       "      <td>102</td>\n",
       "      <td>1</td>\n",
       "    </tr>\n",
       "    <tr>\n",
       "      <th>1</th>\n",
       "      <td>1515915625440944408</td>\n",
       "      <td>3</td>\n",
       "      <td>81178.0</td>\n",
       "      <td>marketplace</td>\n",
       "      <td>50.0</td>\n",
       "      <td>62.0</td>\n",
       "      <td>56.0</td>\n",
       "      <td>177</td>\n",
       "      <td>2</td>\n",
       "    </tr>\n",
       "    <tr>\n",
       "      <th>2</th>\n",
       "      <td>1515915625440947454</td>\n",
       "      <td>4</td>\n",
       "      <td>4486.0</td>\n",
       "      <td>marketplace</td>\n",
       "      <td>48.0</td>\n",
       "      <td>48.0</td>\n",
       "      <td>48.0</td>\n",
       "      <td>354</td>\n",
       "      <td>1</td>\n",
       "    </tr>\n",
       "    <tr>\n",
       "      <th>3</th>\n",
       "      <td>1515915625440966943</td>\n",
       "      <td>2</td>\n",
       "      <td>18476.0</td>\n",
       "      <td>marketplace</td>\n",
       "      <td>27.0</td>\n",
       "      <td>27.0</td>\n",
       "      <td>27.0</td>\n",
       "      <td>334</td>\n",
       "      <td>1</td>\n",
       "    </tr>\n",
       "    <tr>\n",
       "      <th>4</th>\n",
       "      <td>1515915625440978763</td>\n",
       "      <td>5</td>\n",
       "      <td>134490.0</td>\n",
       "      <td>marketplace</td>\n",
       "      <td>110.0</td>\n",
       "      <td>110.0</td>\n",
       "      <td>110.0</td>\n",
       "      <td>307</td>\n",
       "      <td>1</td>\n",
       "    </tr>\n",
       "  </tbody>\n",
       "</table>\n",
       "</div>"
      ],
      "text/plain": [
       "             client_id  quantity     price       source  min_date_diff  \\\n",
       "0  1515915625440099873         2   33216.0  marketplace           24.0   \n",
       "1  1515915625440944408         3   81178.0  marketplace           50.0   \n",
       "2  1515915625440947454         4    4486.0  marketplace           48.0   \n",
       "3  1515915625440966943         2   18476.0  marketplace           27.0   \n",
       "4  1515915625440978763         5  134490.0  marketplace          110.0   \n",
       "\n",
       "   max_date_diff  mean_date_diff  recency  frequency  \n",
       "0           24.0            24.0      102          1  \n",
       "1           62.0            56.0      177          2  \n",
       "2           48.0            48.0      354          1  \n",
       "3           27.0            27.0      334          1  \n",
       "4          110.0           110.0      307          1  "
      ]
     },
     "execution_count": 148,
     "metadata": {},
     "output_type": "execute_result"
    }
   ],
   "source": [
    "df_client.head()"
   ]
  },
  {
   "cell_type": "markdown",
   "id": "7bc08b3b",
   "metadata": {},
   "source": [
    "#### Monetary"
   ]
  },
  {
   "cell_type": "code",
   "execution_count": 149,
   "id": "63b3e700",
   "metadata": {},
   "outputs": [],
   "source": [
    "df_client['monetary'] = df_client['price']\n",
    "df_client.drop('price', axis=1, inplace=True)"
   ]
  },
  {
   "cell_type": "code",
   "execution_count": 150,
   "id": "02d2a0da",
   "metadata": {},
   "outputs": [
    {
     "data": {
      "text/html": [
       "<div>\n",
       "<style scoped>\n",
       "    .dataframe tbody tr th:only-of-type {\n",
       "        vertical-align: middle;\n",
       "    }\n",
       "\n",
       "    .dataframe tbody tr th {\n",
       "        vertical-align: top;\n",
       "    }\n",
       "\n",
       "    .dataframe thead th {\n",
       "        text-align: right;\n",
       "    }\n",
       "</style>\n",
       "<table border=\"1\" class=\"dataframe\">\n",
       "  <thead>\n",
       "    <tr style=\"text-align: right;\">\n",
       "      <th></th>\n",
       "      <th>client_id</th>\n",
       "      <th>quantity</th>\n",
       "      <th>source</th>\n",
       "      <th>min_date_diff</th>\n",
       "      <th>max_date_diff</th>\n",
       "      <th>mean_date_diff</th>\n",
       "      <th>recency</th>\n",
       "      <th>frequency</th>\n",
       "      <th>monetary</th>\n",
       "    </tr>\n",
       "  </thead>\n",
       "  <tbody>\n",
       "    <tr>\n",
       "      <th>0</th>\n",
       "      <td>1515915625440099873</td>\n",
       "      <td>2</td>\n",
       "      <td>marketplace</td>\n",
       "      <td>24.0</td>\n",
       "      <td>24.0</td>\n",
       "      <td>24.0</td>\n",
       "      <td>102</td>\n",
       "      <td>1</td>\n",
       "      <td>33216.0</td>\n",
       "    </tr>\n",
       "    <tr>\n",
       "      <th>1</th>\n",
       "      <td>1515915625440944408</td>\n",
       "      <td>3</td>\n",
       "      <td>marketplace</td>\n",
       "      <td>50.0</td>\n",
       "      <td>62.0</td>\n",
       "      <td>56.0</td>\n",
       "      <td>177</td>\n",
       "      <td>2</td>\n",
       "      <td>81178.0</td>\n",
       "    </tr>\n",
       "    <tr>\n",
       "      <th>2</th>\n",
       "      <td>1515915625440947454</td>\n",
       "      <td>4</td>\n",
       "      <td>marketplace</td>\n",
       "      <td>48.0</td>\n",
       "      <td>48.0</td>\n",
       "      <td>48.0</td>\n",
       "      <td>354</td>\n",
       "      <td>1</td>\n",
       "      <td>4486.0</td>\n",
       "    </tr>\n",
       "    <tr>\n",
       "      <th>3</th>\n",
       "      <td>1515915625440966943</td>\n",
       "      <td>2</td>\n",
       "      <td>marketplace</td>\n",
       "      <td>27.0</td>\n",
       "      <td>27.0</td>\n",
       "      <td>27.0</td>\n",
       "      <td>334</td>\n",
       "      <td>1</td>\n",
       "      <td>18476.0</td>\n",
       "    </tr>\n",
       "    <tr>\n",
       "      <th>4</th>\n",
       "      <td>1515915625440978763</td>\n",
       "      <td>5</td>\n",
       "      <td>marketplace</td>\n",
       "      <td>110.0</td>\n",
       "      <td>110.0</td>\n",
       "      <td>110.0</td>\n",
       "      <td>307</td>\n",
       "      <td>1</td>\n",
       "      <td>134490.0</td>\n",
       "    </tr>\n",
       "  </tbody>\n",
       "</table>\n",
       "</div>"
      ],
      "text/plain": [
       "             client_id  quantity       source  min_date_diff  max_date_diff  \\\n",
       "0  1515915625440099873         2  marketplace           24.0           24.0   \n",
       "1  1515915625440944408         3  marketplace           50.0           62.0   \n",
       "2  1515915625440947454         4  marketplace           48.0           48.0   \n",
       "3  1515915625440966943         2  marketplace           27.0           27.0   \n",
       "4  1515915625440978763         5  marketplace          110.0          110.0   \n",
       "\n",
       "   mean_date_diff  recency  frequency  monetary  \n",
       "0            24.0      102          1   33216.0  \n",
       "1            56.0      177          2   81178.0  \n",
       "2            48.0      354          1    4486.0  \n",
       "3            27.0      334          1   18476.0  \n",
       "4           110.0      307          1  134490.0  "
      ]
     },
     "execution_count": 150,
     "metadata": {},
     "output_type": "execute_result"
    }
   ],
   "source": [
    "df_client.head()"
   ]
  },
  {
   "cell_type": "markdown",
   "id": "136969be",
   "metadata": {},
   "source": [
    "#### Кластеризация данных с использованием алгоритма k-средних"
   ]
  },
  {
   "cell_type": "code",
   "execution_count": 151,
   "id": "432c78c6",
   "metadata": {},
   "outputs": [],
   "source": [
    "from sklearn.preprocessing import StandardScaler\n",
    "\n",
    "scaler = StandardScaler()\n",
    "scaled_data = scaler.fit_transform(df_client[['recency', 'frequency', 'monetary']])"
   ]
  },
  {
   "cell_type": "code",
   "execution_count": 152,
   "id": "54b5aeff",
   "metadata": {},
   "outputs": [
    {
     "name": "stderr",
     "output_type": "stream",
     "text": [
      "C:\\Users\\user\\anaconda3\\lib\\site-packages\\sklearn\\cluster\\_kmeans.py:1416: FutureWarning:\n",
      "\n",
      "The default value of `n_init` will change from 10 to 'auto' in 1.4. Set the value of `n_init` explicitly to suppress the warning\n",
      "\n"
     ]
    }
   ],
   "source": [
    "from sklearn.cluster import KMeans\n",
    "\n",
    "kmeans = KMeans(n_clusters=4, random_state=42) \n",
    "kmeans.fit(scaled_data)\n",
    "labels = kmeans.labels_"
   ]
  },
  {
   "cell_type": "code",
   "execution_count": 153,
   "id": "da2936a2",
   "metadata": {},
   "outputs": [],
   "source": [
    "df_client['cluster'] = labels"
   ]
  },
  {
   "cell_type": "code",
   "execution_count": 154,
   "id": "a3e0b290",
   "metadata": {},
   "outputs": [
    {
     "data": {
      "text/html": [
       "<div>\n",
       "<style scoped>\n",
       "    .dataframe tbody tr th:only-of-type {\n",
       "        vertical-align: middle;\n",
       "    }\n",
       "\n",
       "    .dataframe tbody tr th {\n",
       "        vertical-align: top;\n",
       "    }\n",
       "\n",
       "    .dataframe thead th {\n",
       "        text-align: right;\n",
       "    }\n",
       "</style>\n",
       "<table border=\"1\" class=\"dataframe\">\n",
       "  <thead>\n",
       "    <tr style=\"text-align: right;\">\n",
       "      <th></th>\n",
       "      <th>client_id</th>\n",
       "      <th>quantity</th>\n",
       "      <th>source</th>\n",
       "      <th>min_date_diff</th>\n",
       "      <th>max_date_diff</th>\n",
       "      <th>mean_date_diff</th>\n",
       "      <th>recency</th>\n",
       "      <th>frequency</th>\n",
       "      <th>monetary</th>\n",
       "      <th>cluster</th>\n",
       "    </tr>\n",
       "  </thead>\n",
       "  <tbody>\n",
       "    <tr>\n",
       "      <th>0</th>\n",
       "      <td>1515915625440099873</td>\n",
       "      <td>2</td>\n",
       "      <td>marketplace</td>\n",
       "      <td>24.0</td>\n",
       "      <td>24.0</td>\n",
       "      <td>24.0</td>\n",
       "      <td>102</td>\n",
       "      <td>1</td>\n",
       "      <td>33216.0</td>\n",
       "      <td>1</td>\n",
       "    </tr>\n",
       "    <tr>\n",
       "      <th>1</th>\n",
       "      <td>1515915625440944408</td>\n",
       "      <td>3</td>\n",
       "      <td>marketplace</td>\n",
       "      <td>50.0</td>\n",
       "      <td>62.0</td>\n",
       "      <td>56.0</td>\n",
       "      <td>177</td>\n",
       "      <td>2</td>\n",
       "      <td>81178.0</td>\n",
       "      <td>1</td>\n",
       "    </tr>\n",
       "    <tr>\n",
       "      <th>2</th>\n",
       "      <td>1515915625440947454</td>\n",
       "      <td>4</td>\n",
       "      <td>marketplace</td>\n",
       "      <td>48.0</td>\n",
       "      <td>48.0</td>\n",
       "      <td>48.0</td>\n",
       "      <td>354</td>\n",
       "      <td>1</td>\n",
       "      <td>4486.0</td>\n",
       "      <td>0</td>\n",
       "    </tr>\n",
       "    <tr>\n",
       "      <th>3</th>\n",
       "      <td>1515915625440966943</td>\n",
       "      <td>2</td>\n",
       "      <td>marketplace</td>\n",
       "      <td>27.0</td>\n",
       "      <td>27.0</td>\n",
       "      <td>27.0</td>\n",
       "      <td>334</td>\n",
       "      <td>1</td>\n",
       "      <td>18476.0</td>\n",
       "      <td>0</td>\n",
       "    </tr>\n",
       "    <tr>\n",
       "      <th>4</th>\n",
       "      <td>1515915625440978763</td>\n",
       "      <td>5</td>\n",
       "      <td>marketplace</td>\n",
       "      <td>110.0</td>\n",
       "      <td>110.0</td>\n",
       "      <td>110.0</td>\n",
       "      <td>307</td>\n",
       "      <td>1</td>\n",
       "      <td>134490.0</td>\n",
       "      <td>0</td>\n",
       "    </tr>\n",
       "  </tbody>\n",
       "</table>\n",
       "</div>"
      ],
      "text/plain": [
       "             client_id  quantity       source  min_date_diff  max_date_diff  \\\n",
       "0  1515915625440099873         2  marketplace           24.0           24.0   \n",
       "1  1515915625440944408         3  marketplace           50.0           62.0   \n",
       "2  1515915625440947454         4  marketplace           48.0           48.0   \n",
       "3  1515915625440966943         2  marketplace           27.0           27.0   \n",
       "4  1515915625440978763         5  marketplace          110.0          110.0   \n",
       "\n",
       "   mean_date_diff  recency  frequency  monetary  cluster  \n",
       "0            24.0      102          1   33216.0        1  \n",
       "1            56.0      177          2   81178.0        1  \n",
       "2            48.0      354          1    4486.0        0  \n",
       "3            27.0      334          1   18476.0        0  \n",
       "4           110.0      307          1  134490.0        0  "
      ]
     },
     "execution_count": 154,
     "metadata": {},
     "output_type": "execute_result"
    }
   ],
   "source": [
    "df_client.head()"
   ]
  },
  {
   "cell_type": "markdown",
   "id": "27739906",
   "metadata": {},
   "source": [
    "#### Обозначение таргета"
   ]
  },
  {
   "cell_type": "markdown",
   "id": "41108ea8",
   "metadata": {},
   "source": [
    "Поставим по умолчанию значение 0"
   ]
  },
  {
   "cell_type": "code",
   "execution_count": 156,
   "id": "866f27e1",
   "metadata": {},
   "outputs": [],
   "source": [
    "df_client['target'] = 0"
   ]
  },
  {
   "cell_type": "code",
   "execution_count": 157,
   "id": "06b42f7c",
   "metadata": {},
   "outputs": [],
   "source": [
    "# Устанавливаем значение 1 для клиентов, которые есть в списке client_list\n",
    "df_client.loc[df_client['client_id'].isin(client_list), 'target'] = 1"
   ]
  },
  {
   "cell_type": "code",
   "execution_count": 158,
   "id": "ef2404bb",
   "metadata": {},
   "outputs": [
    {
     "data": {
      "text/html": [
       "<div>\n",
       "<style scoped>\n",
       "    .dataframe tbody tr th:only-of-type {\n",
       "        vertical-align: middle;\n",
       "    }\n",
       "\n",
       "    .dataframe tbody tr th {\n",
       "        vertical-align: top;\n",
       "    }\n",
       "\n",
       "    .dataframe thead th {\n",
       "        text-align: right;\n",
       "    }\n",
       "</style>\n",
       "<table border=\"1\" class=\"dataframe\">\n",
       "  <thead>\n",
       "    <tr style=\"text-align: right;\">\n",
       "      <th></th>\n",
       "      <th>client_id</th>\n",
       "      <th>quantity</th>\n",
       "      <th>source</th>\n",
       "      <th>min_date_diff</th>\n",
       "      <th>max_date_diff</th>\n",
       "      <th>mean_date_diff</th>\n",
       "      <th>recency</th>\n",
       "      <th>frequency</th>\n",
       "      <th>monetary</th>\n",
       "      <th>cluster</th>\n",
       "      <th>target</th>\n",
       "    </tr>\n",
       "  </thead>\n",
       "  <tbody>\n",
       "    <tr>\n",
       "      <th>0</th>\n",
       "      <td>1515915625440099873</td>\n",
       "      <td>2</td>\n",
       "      <td>marketplace</td>\n",
       "      <td>24.0</td>\n",
       "      <td>24.0</td>\n",
       "      <td>24.0</td>\n",
       "      <td>102</td>\n",
       "      <td>1</td>\n",
       "      <td>33216.0</td>\n",
       "      <td>1</td>\n",
       "      <td>0</td>\n",
       "    </tr>\n",
       "    <tr>\n",
       "      <th>1</th>\n",
       "      <td>1515915625440944408</td>\n",
       "      <td>3</td>\n",
       "      <td>marketplace</td>\n",
       "      <td>50.0</td>\n",
       "      <td>62.0</td>\n",
       "      <td>56.0</td>\n",
       "      <td>177</td>\n",
       "      <td>2</td>\n",
       "      <td>81178.0</td>\n",
       "      <td>1</td>\n",
       "      <td>0</td>\n",
       "    </tr>\n",
       "    <tr>\n",
       "      <th>2</th>\n",
       "      <td>1515915625440947454</td>\n",
       "      <td>4</td>\n",
       "      <td>marketplace</td>\n",
       "      <td>48.0</td>\n",
       "      <td>48.0</td>\n",
       "      <td>48.0</td>\n",
       "      <td>354</td>\n",
       "      <td>1</td>\n",
       "      <td>4486.0</td>\n",
       "      <td>0</td>\n",
       "      <td>0</td>\n",
       "    </tr>\n",
       "    <tr>\n",
       "      <th>3</th>\n",
       "      <td>1515915625440966943</td>\n",
       "      <td>2</td>\n",
       "      <td>marketplace</td>\n",
       "      <td>27.0</td>\n",
       "      <td>27.0</td>\n",
       "      <td>27.0</td>\n",
       "      <td>334</td>\n",
       "      <td>1</td>\n",
       "      <td>18476.0</td>\n",
       "      <td>0</td>\n",
       "      <td>0</td>\n",
       "    </tr>\n",
       "    <tr>\n",
       "      <th>4</th>\n",
       "      <td>1515915625440978763</td>\n",
       "      <td>5</td>\n",
       "      <td>marketplace</td>\n",
       "      <td>110.0</td>\n",
       "      <td>110.0</td>\n",
       "      <td>110.0</td>\n",
       "      <td>307</td>\n",
       "      <td>1</td>\n",
       "      <td>134490.0</td>\n",
       "      <td>0</td>\n",
       "      <td>0</td>\n",
       "    </tr>\n",
       "  </tbody>\n",
       "</table>\n",
       "</div>"
      ],
      "text/plain": [
       "             client_id  quantity       source  min_date_diff  max_date_diff  \\\n",
       "0  1515915625440099873         2  marketplace           24.0           24.0   \n",
       "1  1515915625440944408         3  marketplace           50.0           62.0   \n",
       "2  1515915625440947454         4  marketplace           48.0           48.0   \n",
       "3  1515915625440966943         2  marketplace           27.0           27.0   \n",
       "4  1515915625440978763         5  marketplace          110.0          110.0   \n",
       "\n",
       "   mean_date_diff  recency  frequency  monetary  cluster  target  \n",
       "0            24.0      102          1   33216.0        1       0  \n",
       "1            56.0      177          2   81178.0        1       0  \n",
       "2            48.0      354          1    4486.0        0       0  \n",
       "3            27.0      334          1   18476.0        0       0  \n",
       "4           110.0      307          1  134490.0        0       0  "
      ]
     },
     "execution_count": 158,
     "metadata": {},
     "output_type": "execute_result"
    }
   ],
   "source": [
    "df_client.head()"
   ]
  },
  {
   "cell_type": "markdown",
   "id": "06912d98",
   "metadata": {},
   "source": [
    "## Разделение на выборки"
   ]
  },
  {
   "cell_type": "markdown",
   "id": "23d64fe0",
   "metadata": {},
   "source": [
    "Преобразуем признак source  в числовой формат"
   ]
  },
  {
   "cell_type": "code",
   "execution_count": 219,
   "id": "99c5c2c7",
   "metadata": {},
   "outputs": [],
   "source": [
    "le = LabelEncoder()"
   ]
  },
  {
   "cell_type": "code",
   "execution_count": 220,
   "id": "f5f77a89",
   "metadata": {},
   "outputs": [],
   "source": [
    "df_client['source_encoded'] = le.fit_transform(df_client['source'])"
   ]
  },
  {
   "cell_type": "code",
   "execution_count": 221,
   "id": "8ba4f8c0",
   "metadata": {},
   "outputs": [],
   "source": [
    "features = df_client.drop(['target', 'source'], axis=1)  # Исключаем исходный категориальный признак\n",
    "target = df_client['target']"
   ]
  },
  {
   "cell_type": "code",
   "execution_count": 222,
   "id": "ce009185",
   "metadata": {},
   "outputs": [
    {
     "data": {
      "text/plain": [
       "0    5702\n",
       "1     798\n",
       "Name: target, dtype: int64"
      ]
     },
     "execution_count": 222,
     "metadata": {},
     "output_type": "execute_result"
    }
   ],
   "source": [
    "target.value_counts()"
   ]
  },
  {
   "cell_type": "markdown",
   "id": "8c4bc7de",
   "metadata": {},
   "source": [
    "Целевой признак несбалансирован"
   ]
  },
  {
   "cell_type": "markdown",
   "id": "9d51016b",
   "metadata": {},
   "source": [
    "Используем SMOTE для балансировки"
   ]
  },
  {
   "cell_type": "code",
   "execution_count": 223,
   "id": "798cad00",
   "metadata": {},
   "outputs": [],
   "source": [
    "from imblearn.over_sampling import SMOTE"
   ]
  },
  {
   "cell_type": "code",
   "execution_count": 224,
   "id": "70960383",
   "metadata": {},
   "outputs": [],
   "source": [
    "features_train, features_test, target_train, target_test = train_test_split(\n",
    "    features,\n",
    "    target,\n",
    "    test_size=0.25,\n",
    "    stratify=target,\n",
    "    random_state=42)"
   ]
  },
  {
   "cell_type": "code",
   "execution_count": 225,
   "id": "0469463d",
   "metadata": {},
   "outputs": [],
   "source": [
    "smote = SMOTE(random_state=42)"
   ]
  },
  {
   "cell_type": "code",
   "execution_count": 226,
   "id": "95a785d5",
   "metadata": {},
   "outputs": [],
   "source": [
    "# Применяем SMOTE\n",
    "features_SMOTE, target_SMOTE = smote.fit_resample(features_train, target_train)"
   ]
  },
  {
   "cell_type": "markdown",
   "id": "0ce746c9",
   "metadata": {},
   "source": [
    "## Обучение модели"
   ]
  },
  {
   "cell_type": "code",
   "execution_count": 227,
   "id": "6c1b0f71",
   "metadata": {},
   "outputs": [],
   "source": [
    "from sklearn.model_selection import cross_val_score"
   ]
  },
  {
   "cell_type": "code",
   "execution_count": 233,
   "id": "ea2c0b6a",
   "metadata": {},
   "outputs": [],
   "source": [
    "# Инициализируем CatBoostClassifier\n",
    "model = CatBoostClassifier(iterations=1000, depth=6, learning_rate=0.1, loss_function='Logloss', verbose=False)"
   ]
  },
  {
   "cell_type": "code",
   "execution_count": 238,
   "id": "a6c46aa0",
   "metadata": {},
   "outputs": [],
   "source": [
    "cv_result = cross_val_score(model, features_SMOTE, target_SMOTE, cv = 5 , scoring = \"recall\")"
   ]
  },
  {
   "cell_type": "code",
   "execution_count": 239,
   "id": "34fb2a4a",
   "metadata": {},
   "outputs": [
    {
     "data": {
      "text/plain": [
       "array([0.96608187, 0.99299065, 0.99532164, 0.99415205, 0.99415205])"
      ]
     },
     "execution_count": 239,
     "metadata": {},
     "output_type": "execute_result"
    }
   ],
   "source": [
    "cv_result"
   ]
  },
  {
   "cell_type": "code",
   "execution_count": 237,
   "id": "480926e0",
   "metadata": {},
   "outputs": [
    {
     "name": "stdout",
     "output_type": "stream",
     "text": [
      "Лучшие параметры: {'depth': 10, 'iterations': 300, 'learning_rate': 0.2}\n",
      "Результаты кросс-валидации: [0.93538462 0.95384615 0.96615385 0.95076923 0.94461538]\n"
     ]
    }
   ],
   "source": [
    "# Определяем модель CatBoost\n",
    "model = CatBoostClassifier(loss_function=\"Logloss\", verbose=False)\n",
    "\n",
    "# Определяем сетку параметров для поиска\n",
    "param_grid = {\n",
    "    'iterations': [100, 200, 300],\n",
    "    'learning_rate': [0.01, 0.1, 0.2],\n",
    "    'depth': [6, 8, 10]\n",
    "}\n",
    "\n",
    "# Создаем объект GridSearchCV\n",
    "grid_catboost = GridSearchCV(estimator=model,\n",
    "                             param_grid=param_grid,\n",
    "                             scoring='accuracy',\n",
    "                             cv=5,\n",
    "                             n_jobs=-1)\n",
    "\n",
    "# Обучаем модель с помощью кросс-валидации и поиска по сетке параметров\n",
    "grid_catboost.fit(features_SMOTE, target_SMOTE)\n",
    "\n",
    "# Получаем лучшие параметры\n",
    "best_params = grid_catboost.best_params_\n",
    "print(\"Лучшие параметры:\", best_params)\n",
    "\n",
    "# Получаем лучшую модель\n",
    "best_model = grid_catboost.best_estimator_\n",
    "\n",
    "# Оцениваем модель на тестовых данных\n",
    "cv_result = cross_val_score(best_model, features_test, target_test, cv=5, scoring=\"accuracy\")\n",
    "print(\"Результаты кросс-валидации:\", cv_result)"
   ]
  },
  {
   "cell_type": "markdown",
   "id": "c95383ec",
   "metadata": {},
   "source": [
    "Узнаем метрики accuracy, precision, recall данной модели"
   ]
  },
  {
   "cell_type": "code",
   "execution_count": 240,
   "id": "66fd94c1",
   "metadata": {},
   "outputs": [],
   "source": [
    "predicted_labels = grid_catboost.predict(features_test)"
   ]
  },
  {
   "cell_type": "code",
   "execution_count": 241,
   "id": "963e24b7",
   "metadata": {},
   "outputs": [],
   "source": [
    "accuracy_catboost = accuracy_score(target_test, predicted_labels)\n",
    "precision_catboost = precision_score(target_test, predicted_labels)\n",
    "recall_catboost = recall_score(target_test, predicted_labels)"
   ]
  },
  {
   "cell_type": "code",
   "execution_count": 242,
   "id": "ece8f262",
   "metadata": {},
   "outputs": [
    {
     "name": "stdout",
     "output_type": "stream",
     "text": [
      "0.955076923076923\n",
      "0.7603305785123967\n",
      "0.9246231155778895\n"
     ]
    }
   ],
   "source": [
    "print(accuracy_catboost)\n",
    "print(precision_catboost)\n",
    "print(recall_catboost)"
   ]
  },
  {
   "cell_type": "markdown",
   "id": "648a2cf4",
   "metadata": {},
   "source": [
    "## Важность признаков"
   ]
  },
  {
   "cell_type": "code",
   "execution_count": 245,
   "id": "bae7f1a5",
   "metadata": {},
   "outputs": [],
   "source": [
    "feature_importances = best_model.get_feature_importance()"
   ]
  },
  {
   "cell_type": "code",
   "execution_count": 248,
   "id": "09f62fba",
   "metadata": {},
   "outputs": [],
   "source": [
    "feature_importances_df = pd.DataFrame({'feature': features.columns, 'importance': feature_importances})\n"
   ]
  },
  {
   "cell_type": "code",
   "execution_count": 250,
   "id": "32c9935f",
   "metadata": {},
   "outputs": [],
   "source": [
    "feature_importances_df = feature_importances_df.sort_values(by='importance', ascending=False)"
   ]
  },
  {
   "cell_type": "code",
   "execution_count": 251,
   "id": "08fdbf5c",
   "metadata": {},
   "outputs": [
    {
     "data": {
      "text/html": [
       "<div>\n",
       "<style scoped>\n",
       "    .dataframe tbody tr th:only-of-type {\n",
       "        vertical-align: middle;\n",
       "    }\n",
       "\n",
       "    .dataframe tbody tr th {\n",
       "        vertical-align: top;\n",
       "    }\n",
       "\n",
       "    .dataframe thead th {\n",
       "        text-align: right;\n",
       "    }\n",
       "</style>\n",
       "<table border=\"1\" class=\"dataframe\">\n",
       "  <thead>\n",
       "    <tr style=\"text-align: right;\">\n",
       "      <th></th>\n",
       "      <th>feature</th>\n",
       "      <th>importance</th>\n",
       "    </tr>\n",
       "  </thead>\n",
       "  <tbody>\n",
       "    <tr>\n",
       "      <th>5</th>\n",
       "      <td>recency</td>\n",
       "      <td>45.252172</td>\n",
       "    </tr>\n",
       "    <tr>\n",
       "      <th>3</th>\n",
       "      <td>max_date_diff</td>\n",
       "      <td>20.543593</td>\n",
       "    </tr>\n",
       "    <tr>\n",
       "      <th>4</th>\n",
       "      <td>mean_date_diff</td>\n",
       "      <td>9.360346</td>\n",
       "    </tr>\n",
       "    <tr>\n",
       "      <th>2</th>\n",
       "      <td>min_date_diff</td>\n",
       "      <td>7.817993</td>\n",
       "    </tr>\n",
       "    <tr>\n",
       "      <th>7</th>\n",
       "      <td>monetary</td>\n",
       "      <td>4.743666</td>\n",
       "    </tr>\n",
       "    <tr>\n",
       "      <th>8</th>\n",
       "      <td>cluster</td>\n",
       "      <td>3.445116</td>\n",
       "    </tr>\n",
       "    <tr>\n",
       "      <th>6</th>\n",
       "      <td>frequency</td>\n",
       "      <td>3.096208</td>\n",
       "    </tr>\n",
       "    <tr>\n",
       "      <th>1</th>\n",
       "      <td>quantity</td>\n",
       "      <td>3.002954</td>\n",
       "    </tr>\n",
       "    <tr>\n",
       "      <th>9</th>\n",
       "      <td>source_encoded</td>\n",
       "      <td>2.737952</td>\n",
       "    </tr>\n",
       "    <tr>\n",
       "      <th>0</th>\n",
       "      <td>client_id</td>\n",
       "      <td>0.000000</td>\n",
       "    </tr>\n",
       "  </tbody>\n",
       "</table>\n",
       "</div>"
      ],
      "text/plain": [
       "          feature  importance\n",
       "5         recency   45.252172\n",
       "3   max_date_diff   20.543593\n",
       "4  mean_date_diff    9.360346\n",
       "2   min_date_diff    7.817993\n",
       "7        monetary    4.743666\n",
       "8         cluster    3.445116\n",
       "6       frequency    3.096208\n",
       "1        quantity    3.002954\n",
       "9  source_encoded    2.737952\n",
       "0       client_id    0.000000"
      ]
     },
     "execution_count": 251,
     "metadata": {},
     "output_type": "execute_result"
    }
   ],
   "source": [
    "feature_importances_df"
   ]
  },
  {
   "cell_type": "markdown",
   "id": "971ef34f",
   "metadata": {},
   "source": [
    "Самый важный признак: 'recency'"
   ]
  },
  {
   "cell_type": "markdown",
   "id": "ae62fa6b",
   "metadata": {},
   "source": [
    "## Прогнозирование повторных покупок"
   ]
  },
  {
   "cell_type": "markdown",
   "id": "d6f97666",
   "metadata": {},
   "source": [
    "Найдем пользователей из нашего датасета df_clients, которые, вероятней всего, сделают повторную покупку в течении ближайших 30 дней"
   ]
  },
  {
   "cell_type": "code",
   "execution_count": 253,
   "id": "00541248",
   "metadata": {},
   "outputs": [],
   "source": [
    "features_to_use = [col for col in df_client.columns if col != 'target']"
   ]
  },
  {
   "cell_type": "code",
   "execution_count": 255,
   "id": "25e0e8ff",
   "metadata": {},
   "outputs": [],
   "source": [
    "predictions = best_model.predict(df_client[features_to_use])"
   ]
  },
  {
   "cell_type": "code",
   "execution_count": 256,
   "id": "f4df480a",
   "metadata": {},
   "outputs": [],
   "source": [
    "df_client['future_purchase_prediction'] = predictions"
   ]
  },
  {
   "cell_type": "code",
   "execution_count": 260,
   "id": "e66e751a",
   "metadata": {},
   "outputs": [],
   "source": [
    "potential_buyers = df_client[df_client['future_purchase_prediction'] == 1]"
   ]
  },
  {
   "cell_type": "code",
   "execution_count": 261,
   "id": "3b3d2e7f",
   "metadata": {},
   "outputs": [
    {
     "name": "stdout",
     "output_type": "stream",
     "text": [
      "                client_id  future_purchase_prediction\n",
      "5     1515915625440988920                           1\n",
      "7     1515915625440995965                           1\n",
      "8     1515915625440996406                           1\n",
      "9     1515915625441007350                           1\n",
      "16    1515915625441084418                           1\n",
      "...                   ...                         ...\n",
      "6435  1515915625952926667                           1\n",
      "6439  1515915625956783429                           1\n",
      "6476  1515915625977606982                           1\n",
      "6498  1515915625994223181                           1\n",
      "6499  1515915625997391318                           1\n",
      "\n",
      "[841 rows x 2 columns]\n"
     ]
    }
   ],
   "source": [
    "print(potential_buyers[['client_id', 'future_purchase_prediction']])"
   ]
  },
  {
   "cell_type": "code",
   "execution_count": null,
   "id": "ffdd5202",
   "metadata": {},
   "outputs": [],
   "source": []
  },
  {
   "cell_type": "code",
   "execution_count": null,
   "id": "2060999b",
   "metadata": {},
   "outputs": [],
   "source": []
  },
  {
   "cell_type": "code",
   "execution_count": null,
   "id": "58121dd6",
   "metadata": {},
   "outputs": [],
   "source": []
  },
  {
   "cell_type": "code",
   "execution_count": null,
   "id": "604b7934",
   "metadata": {},
   "outputs": [],
   "source": []
  },
  {
   "cell_type": "code",
   "execution_count": null,
   "id": "c69035b8",
   "metadata": {},
   "outputs": [],
   "source": []
  },
  {
   "cell_type": "code",
   "execution_count": null,
   "id": "1b5ce29e",
   "metadata": {},
   "outputs": [],
   "source": []
  },
  {
   "cell_type": "code",
   "execution_count": null,
   "id": "7930463d",
   "metadata": {},
   "outputs": [],
   "source": []
  }
 ],
 "metadata": {
  "kernelspec": {
   "display_name": "Python 3 (ipykernel)",
   "language": "python",
   "name": "python3"
  },
  "language_info": {
   "codemirror_mode": {
    "name": "ipython",
    "version": 3
   },
   "file_extension": ".py",
   "mimetype": "text/x-python",
   "name": "python",
   "nbconvert_exporter": "python",
   "pygments_lexer": "ipython3",
   "version": "3.9.13"
  },
  "toc": {
   "base_numbering": 1,
   "nav_menu": {},
   "number_sections": true,
   "sideBar": true,
   "skip_h1_title": false,
   "title_cell": "Table of Contents",
   "title_sidebar": "Contents",
   "toc_cell": false,
   "toc_position": {
    "height": "calc(100% - 180px)",
    "left": "10px",
    "top": "150px",
    "width": "285.99px"
   },
   "toc_section_display": true,
   "toc_window_display": true
  },
  "vp": {
   "vp_config_version": "1.0.0",
   "vp_menu_width": 273,
   "vp_note_display": false,
   "vp_note_width": 0,
   "vp_position": {
    "width": 278
   },
   "vp_section_display": false,
   "vp_signature": "VisualPython"
  }
 },
 "nbformat": 4,
 "nbformat_minor": 5
}
