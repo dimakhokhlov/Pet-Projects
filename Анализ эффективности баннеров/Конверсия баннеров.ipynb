{
 "cells": [
  {
   "cell_type": "markdown",
   "id": "e6f83ab6",
   "metadata": {},
   "source": [
    "# Описание"
   ]
  },
  {
   "cell_type": "markdown",
   "id": "919d763f",
   "metadata": {},
   "source": [
    "Мы - онлайн магазин спортивных товаров: одежды, обуви, аксессуаров и спорт-питания. На главной странице магазина мы показываем пользователям баннеры с целью стимулирования своих продаж. Сейчас там случайно показывается один из 5 баннеров. Каждый баннер рекламирует конкретный продукт или всю компанию. Наши маркетологи считают, что опыт взаимодействия с баннерами может различаться по сегментам, а их эффективность - зависеть от особенностей пользовательского поведения.\n",
    "\n",
    "У менеджера компании появилось предложение от партнеров: продать это место для баннера и рекламировать там другой сервис (оплата предполагается по CPC-модели, т.е. стоимость за клик).\n",
    "\n",
    "Помогите менеджеру принять решение - нужно ли продавать это место для рекламы другого сервиса.\n"
   ]
  },
  {
   "cell_type": "markdown",
   "id": "e609e439",
   "metadata": {},
   "source": [
    "Описание данных:\n",
    "\n",
    "- `title` - тип события (показ, клик или покупка)\n",
    "- `user` - уникальный идентификатор клиента\n",
    "- `product` - продукт баннера/покупки\n",
    "- `page_id` - уникальный номер страницы для связки событий (NA для покупок)\n",
    "- `order_id` - уникальный номер покупки (NA для кликов и показов баннера)\n",
    "- `time` - время совершения действия\n",
    "- `site_version` - версия сайта (мобильная или десктопная)\n"
   ]
  },
  {
   "cell_type": "markdown",
   "id": "b53e8bf5",
   "metadata": {},
   "source": [
    "### Импорт библиотек"
   ]
  },
  {
   "cell_type": "code",
   "execution_count": 267,
   "id": "3753088a",
   "metadata": {},
   "outputs": [
    {
     "data": {
      "text/html": [
       "<style>.container { width:70% !important; }</style>"
      ],
      "text/plain": [
       "<IPython.core.display.HTML object>"
      ]
     },
     "metadata": {},
     "output_type": "display_data"
    }
   ],
   "source": [
    "import pandas as pd\n",
    "import numpy as np\n",
    "\n",
    "import matplotlib.pyplot as plt\n",
    "import seaborn as sns\n",
    "\n",
    "from datetime import datetime\n",
    "\n",
    "pd.set_option('display.max_columns', None)\n",
    "\n",
    "from IPython.display import HTML, display\n",
    "display(HTML(\"<style>.container { width:70% !important; }</style>\"))\n",
    "\n",
    "import warnings\n",
    "warnings.filterwarnings(\"ignore\")"
   ]
  },
  {
   "cell_type": "markdown",
   "id": "38301f9b",
   "metadata": {},
   "source": [
    "### EDA"
   ]
  },
  {
   "cell_type": "code",
   "execution_count": 268,
   "id": "50b7aec0",
   "metadata": {},
   "outputs": [],
   "source": [
    "df = pd.read_csv('ha_data.csv', sep=';')"
   ]
  },
  {
   "cell_type": "code",
   "execution_count": 269,
   "id": "21289435",
   "metadata": {},
   "outputs": [
    {
     "name": "stdout",
     "output_type": "stream",
     "text": [
      "<class 'pandas.core.frame.DataFrame'>\n",
      "RangeIndex: 8471226 entries, 0 to 8471225\n",
      "Data columns (total 7 columns):\n",
      " #   Column        Dtype  \n",
      "---  ------        -----  \n",
      " 0   order_id      float64\n",
      " 1   page_id       float64\n",
      " 2   product       object \n",
      " 3   site_version  object \n",
      " 4   time          object \n",
      " 5   title         object \n",
      " 6   user          object \n",
      "dtypes: float64(2), object(5)\n",
      "memory usage: 452.4+ MB\n"
     ]
    }
   ],
   "source": [
    "df.info()"
   ]
  },
  {
   "cell_type": "code",
   "execution_count": 270,
   "id": "fe4224f6",
   "metadata": {},
   "outputs": [
    {
     "data": {
      "text/html": [
       "<div>\n",
       "<style scoped>\n",
       "    .dataframe tbody tr th:only-of-type {\n",
       "        vertical-align: middle;\n",
       "    }\n",
       "\n",
       "    .dataframe tbody tr th {\n",
       "        vertical-align: top;\n",
       "    }\n",
       "\n",
       "    .dataframe thead th {\n",
       "        text-align: right;\n",
       "    }\n",
       "</style>\n",
       "<table border=\"1\" class=\"dataframe\">\n",
       "  <thead>\n",
       "    <tr style=\"text-align: right;\">\n",
       "      <th></th>\n",
       "      <th>order_id</th>\n",
       "      <th>page_id</th>\n",
       "      <th>product</th>\n",
       "      <th>site_version</th>\n",
       "      <th>time</th>\n",
       "      <th>title</th>\n",
       "      <th>user</th>\n",
       "    </tr>\n",
       "  </thead>\n",
       "  <tbody>\n",
       "    <tr>\n",
       "      <th>0</th>\n",
       "      <td>NaN</td>\n",
       "      <td>3.0</td>\n",
       "      <td>company</td>\n",
       "      <td>mobile</td>\n",
       "      <td>2017-02-09 20:24:04</td>\n",
       "      <td>banner_show</td>\n",
       "      <td>user_0</td>\n",
       "    </tr>\n",
       "    <tr>\n",
       "      <th>1</th>\n",
       "      <td>NaN</td>\n",
       "      <td>3699687.0</td>\n",
       "      <td>company</td>\n",
       "      <td>mobile</td>\n",
       "      <td>2017-02-07 10:03:07</td>\n",
       "      <td>banner_show</td>\n",
       "      <td>user_0</td>\n",
       "    </tr>\n",
       "    <tr>\n",
       "      <th>2</th>\n",
       "      <td>NaN</td>\n",
       "      <td>14.0</td>\n",
       "      <td>sneakers</td>\n",
       "      <td>mobile</td>\n",
       "      <td>2017-01-29 13:02:23</td>\n",
       "      <td>banner_show</td>\n",
       "      <td>user_1</td>\n",
       "    </tr>\n",
       "    <tr>\n",
       "      <th>3</th>\n",
       "      <td>NaN</td>\n",
       "      <td>10362176.0</td>\n",
       "      <td>company</td>\n",
       "      <td>mobile</td>\n",
       "      <td>2017-04-12 15:39:19</td>\n",
       "      <td>banner_show</td>\n",
       "      <td>user_1</td>\n",
       "    </tr>\n",
       "    <tr>\n",
       "      <th>4</th>\n",
       "      <td>NaN</td>\n",
       "      <td>14.0</td>\n",
       "      <td>sneakers</td>\n",
       "      <td>mobile</td>\n",
       "      <td>2017-01-29 13:04:42</td>\n",
       "      <td>banner_click</td>\n",
       "      <td>user_1</td>\n",
       "    </tr>\n",
       "  </tbody>\n",
       "</table>\n",
       "</div>"
      ],
      "text/plain": [
       "   order_id     page_id   product site_version                 time  \\\n",
       "0       NaN         3.0   company       mobile  2017-02-09 20:24:04   \n",
       "1       NaN   3699687.0   company       mobile  2017-02-07 10:03:07   \n",
       "2       NaN        14.0  sneakers       mobile  2017-01-29 13:02:23   \n",
       "3       NaN  10362176.0   company       mobile  2017-04-12 15:39:19   \n",
       "4       NaN        14.0  sneakers       mobile  2017-01-29 13:04:42   \n",
       "\n",
       "          title    user  \n",
       "0   banner_show  user_0  \n",
       "1   banner_show  user_0  \n",
       "2   banner_show  user_1  \n",
       "3   banner_show  user_1  \n",
       "4  banner_click  user_1  "
      ]
     },
     "execution_count": 270,
     "metadata": {},
     "output_type": "execute_result"
    }
   ],
   "source": [
    "df.head()"
   ]
  },
  {
   "cell_type": "markdown",
   "id": "2f5f794d",
   "metadata": {},
   "source": [
    "Нужно оптимизировать такой тяжелый датасет."
   ]
  },
  {
   "cell_type": "markdown",
   "id": "eac3c41e",
   "metadata": {},
   "source": [
    "`order_id` удалим. Данный признак нам не понадобятся, т.к. он дублируется значением **order** в столбце `title`"
   ]
  },
  {
   "cell_type": "code",
   "execution_count": 271,
   "id": "b4ea99a5",
   "metadata": {},
   "outputs": [],
   "source": [
    "df = df.drop(['order_id'], axis=1)"
   ]
  },
  {
   "cell_type": "markdown",
   "id": "39a1b0cf",
   "metadata": {},
   "source": [
    "Тип данных object (кроме столбца user - в категорийном формате он больше весит) приведем к category, float64 - к float32"
   ]
  },
  {
   "cell_type": "code",
   "execution_count": 272,
   "id": "f424fe4f",
   "metadata": {},
   "outputs": [],
   "source": [
    "obj_col = df.select_dtypes(include=['object']).columns[:-1]\n",
    "float_col = df.select_dtypes(include=['float64']).columns"
   ]
  },
  {
   "cell_type": "code",
   "execution_count": 273,
   "id": "71416248",
   "metadata": {},
   "outputs": [
    {
     "data": {
      "text/plain": [
       "Index(['product', 'site_version', 'time', 'title'], dtype='object')"
      ]
     },
     "execution_count": 273,
     "metadata": {},
     "output_type": "execute_result"
    }
   ],
   "source": [
    "obj_col"
   ]
  },
  {
   "cell_type": "code",
   "execution_count": 274,
   "id": "39a93cdc",
   "metadata": {},
   "outputs": [],
   "source": [
    "df[obj_col] = df[obj_col].astype('category')\n",
    "df[float_col] = df[float_col].astype('float32')"
   ]
  },
  {
   "cell_type": "code",
   "execution_count": 275,
   "id": "7160ee13",
   "metadata": {},
   "outputs": [
    {
     "name": "stdout",
     "output_type": "stream",
     "text": [
      "<class 'pandas.core.frame.DataFrame'>\n",
      "RangeIndex: 8471226 entries, 0 to 8471225\n",
      "Data columns (total 6 columns):\n",
      " #   Column        Dtype   \n",
      "---  ------        -----   \n",
      " 0   page_id       float32 \n",
      " 1   product       category\n",
      " 2   site_version  category\n",
      " 3   time          category\n",
      " 4   title         category\n",
      " 5   user          object  \n",
      "dtypes: category(4), float32(1), object(1)\n",
      "memory usage: 326.7+ MB\n"
     ]
    }
   ],
   "source": [
    "df.info()"
   ]
  },
  {
   "cell_type": "markdown",
   "id": "68c07f92",
   "metadata": {},
   "source": [
    "Было 450 Мб, стало 320. Продолжаем EDA."
   ]
  },
  {
   "cell_type": "code",
   "execution_count": 276,
   "id": "b1e8541d",
   "metadata": {},
   "outputs": [],
   "source": [
    "def print_dataset_info(df):\n",
    "\n",
    "    print(\"\\nКоличество дубликатов:\")\n",
    "    display(df.duplicated().sum())\n",
    "    print(\"\\nКоличество пропусков:\")\n",
    "    display(df.isna().sum())"
   ]
  },
  {
   "cell_type": "code",
   "execution_count": 277,
   "id": "95de4c0a",
   "metadata": {},
   "outputs": [
    {
     "name": "stdout",
     "output_type": "stream",
     "text": [
      "\n",
      "Количество дубликатов:\n"
     ]
    },
    {
     "data": {
      "text/plain": [
       "0"
      ]
     },
     "metadata": {},
     "output_type": "display_data"
    },
    {
     "name": "stdout",
     "output_type": "stream",
     "text": [
      "\n",
      "Количество пропусков:\n"
     ]
    },
    {
     "data": {
      "text/plain": [
       "page_id         248722\n",
       "product              0\n",
       "site_version         0\n",
       "time                 0\n",
       "title                0\n",
       "user                 0\n",
       "dtype: int64"
      ]
     },
     "metadata": {},
     "output_type": "display_data"
    }
   ],
   "source": [
    "print_dataset_info(df)"
   ]
  },
  {
   "cell_type": "markdown",
   "id": "fef36ccf",
   "metadata": {},
   "source": [
    "Посмотрим на соотношения значений в столбцах"
   ]
  },
  {
   "cell_type": "code",
   "execution_count": 278,
   "id": "d97451cf",
   "metadata": {},
   "outputs": [],
   "source": [
    "def display_unique_values(df, column_name):\n",
    "    ratios = df[column_name].value_counts(normalize=True) * 100\n",
    "    \n",
    "    print(\"Соотношения значений:\")\n",
    "    print(round(ratios, 3))"
   ]
  },
  {
   "cell_type": "code",
   "execution_count": 279,
   "id": "d95136fa",
   "metadata": {},
   "outputs": [
    {
     "name": "stdout",
     "output_type": "stream",
     "text": [
      "Соотношения значений:\n",
      "clothes             21.088\n",
      "company             20.364\n",
      "sneakers            20.107\n",
      "sports_nutrition    19.296\n",
      "accessories         19.144\n",
      "Name: product, dtype: float64\n"
     ]
    }
   ],
   "source": [
    "display_unique_values(df, 'product')"
   ]
  },
  {
   "cell_type": "code",
   "execution_count": 280,
   "id": "e1482d5c",
   "metadata": {},
   "outputs": [
    {
     "name": "stdout",
     "output_type": "stream",
     "text": [
      "Соотношения значений:\n",
      "mobile     71.871\n",
      "desktop    28.129\n",
      "Name: site_version, dtype: float64\n"
     ]
    }
   ],
   "source": [
    "display_unique_values(df, 'site_version')"
   ]
  },
  {
   "cell_type": "code",
   "execution_count": 281,
   "id": "5572867f",
   "metadata": {},
   "outputs": [
    {
     "name": "stdout",
     "output_type": "stream",
     "text": [
      "Соотношения значений:\n",
      "banner_show     87.276\n",
      "banner_click     9.788\n",
      "order            2.936\n",
      "Name: title, dtype: float64\n"
     ]
    }
   ],
   "source": [
    "display_unique_values(df, 'title')"
   ]
  },
  {
   "cell_type": "markdown",
   "id": "36a2182c",
   "metadata": {},
   "source": [
    "`time` удалим. Этот признак никак не поможет нам определить конверсии"
   ]
  },
  {
   "cell_type": "code",
   "execution_count": 282,
   "id": "8421cb44",
   "metadata": {},
   "outputs": [],
   "source": [
    "df = df.drop(['time'], axis=1)"
   ]
  },
  {
   "cell_type": "code",
   "execution_count": 283,
   "id": "efeb3bb0",
   "metadata": {},
   "outputs": [
    {
     "name": "stdout",
     "output_type": "stream",
     "text": [
      "<class 'pandas.core.frame.DataFrame'>\n",
      "RangeIndex: 8471226 entries, 0 to 8471225\n",
      "Data columns (total 5 columns):\n",
      " #   Column        Dtype   \n",
      "---  ------        -----   \n",
      " 0   page_id       float32 \n",
      " 1   product       category\n",
      " 2   site_version  category\n",
      " 3   title         category\n",
      " 4   user          object  \n",
      "dtypes: category(3), float32(1), object(1)\n",
      "memory usage: 121.2+ MB\n"
     ]
    }
   ],
   "source": [
    "df.info()"
   ]
  },
  {
   "cell_type": "markdown",
   "id": "10398cd4",
   "metadata": {},
   "source": [
    "- Продукты рекламируются практически в одинаковых объемах\n",
    "- Пользователи чаще пользуются мобильной версией (приложением), чем заходят с сайта\n",
    "- Сократили объем датасета с 450 Мб до 120 Мб"
   ]
  },
  {
   "cell_type": "markdown",
   "id": "56daf43b",
   "metadata": {},
   "source": [
    "### Агрегация данных"
   ]
  },
  {
   "cell_type": "markdown",
   "id": "e0fe653d",
   "metadata": {},
   "source": [
    "Посчитаем показы баннера, количество кликов на баннер, количество покупок в каждой из категорий рекламы и в каждой версии приложения"
   ]
  },
  {
   "cell_type": "code",
   "execution_count": 284,
   "id": "81c86fe7",
   "metadata": {},
   "outputs": [],
   "source": [
    "impressions = df[df['title'] == 'banner_show'].groupby(['product', 'site_version'])['user'].count() # Показы\n",
    "clicks = df[df['title'] == 'banner_click'].groupby(['product', 'site_version'])['user'].count() # Клики\n",
    "purchases = df[df['title'] == 'order'].groupby(['product', 'site_version'])['user'].count() # Покупки"
   ]
  },
  {
   "cell_type": "code",
   "execution_count": 285,
   "id": "935052d2",
   "metadata": {},
   "outputs": [
    {
     "data": {
      "text/plain": [
       "product           site_version\n",
       "accessories       desktop          410003\n",
       "                  mobile          1030951\n",
       "clothes           desktop          418070\n",
       "                  mobile          1035058\n",
       "company           desktop          477374\n",
       "                  mobile          1102864\n",
       "sneakers          desktop          411598\n",
       "                  mobile          1041431\n",
       "sports_nutrition  desktop          417595\n",
       "                  mobile          1048375\n",
       "Name: user, dtype: int64"
      ]
     },
     "execution_count": 285,
     "metadata": {},
     "output_type": "execute_result"
    }
   ],
   "source": [
    "impressions"
   ]
  },
  {
   "cell_type": "code",
   "execution_count": 286,
   "id": "5e631a26",
   "metadata": {},
   "outputs": [
    {
     "data": {
      "text/plain": [
       "product           site_version\n",
       "accessories       desktop          18531\n",
       "                  mobile          117723\n",
       "clothes           desktop          32781\n",
       "                  mobile          187814\n",
       "company           desktop          28464\n",
       "                  mobile          116357\n",
       "sneakers          desktop          21419\n",
       "                  mobile          161178\n",
       "sports_nutrition  desktop          13870\n",
       "                  mobile          131048\n",
       "Name: user, dtype: int64"
      ]
     },
     "execution_count": 286,
     "metadata": {},
     "output_type": "execute_result"
    }
   ],
   "source": [
    "clicks"
   ]
  },
  {
   "cell_type": "code",
   "execution_count": 287,
   "id": "d2dfd85d",
   "metadata": {},
   "outputs": [
    {
     "data": {
      "text/plain": [
       "product           site_version\n",
       "accessories       desktop         22121\n",
       "                  mobile          22430\n",
       "clothes           desktop         66977\n",
       "                  mobile          45738\n",
       "company           desktop             0\n",
       "                  mobile              0\n",
       "sneakers          desktop         32565\n",
       "                  mobile          35154\n",
       "sports_nutrition  desktop         11518\n",
       "                  mobile          12219\n",
       "Name: user, dtype: int64"
      ]
     },
     "execution_count": 287,
     "metadata": {},
     "output_type": "execute_result"
    }
   ],
   "source": [
    "purchases"
   ]
  },
  {
   "cell_type": "markdown",
   "id": "242375ae",
   "metadata": {},
   "source": [
    "### CTR"
   ]
  },
  {
   "cell_type": "markdown",
   "id": "5e5e1fa1",
   "metadata": {},
   "source": [
    "Метрика **CTR** (Click-Through Rate) позволяет рассчитать коэффициент кликабельности для каждого баннера. Чтобы рассчитать данный коэффициент, нужно клики разделить на показы."
   ]
  },
  {
   "cell_type": "code",
   "execution_count": 288,
   "id": "46e608a5",
   "metadata": {},
   "outputs": [],
   "source": [
    "ctr = ((clicks / impressions) * 100).reset_index()\n",
    "ctr = ctr.rename(columns={\"user\": \"ratio\"})"
   ]
  },
  {
   "cell_type": "code",
   "execution_count": 289,
   "id": "9fa45b69",
   "metadata": {},
   "outputs": [],
   "source": [
    "ctr_total_platf = ctr.groupby('product')['ratio'].sum().reset_index()"
   ]
  },
  {
   "cell_type": "code",
   "execution_count": 290,
   "id": "ff009d74",
   "metadata": {},
   "outputs": [
    {
     "data": {
      "image/png": "[encoded data removed]",
      "text/plain": [
       "<Figure size 1200x400 with 1 Axes>"
      ]
     },
     "metadata": {},
     "output_type": "display_data"
    },
    {
     "data": {
      "image/png": "[encoded data removed]",
      "text/plain": [
       "<Figure size 1200x400 with 1 Axes>"
      ]
     },
     "metadata": {},
     "output_type": "display_data"
    }
   ],
   "source": [
    "plt.figure(figsize=(12, 4))\n",
    "ax = sns.barplot(data=ctr, x='product', y='ratio', hue='site_version')\n",
    "\n",
    "plt.title('CTR по продуктам и версиям сайта')\n",
    "plt.xlabel('Product')\n",
    "plt.ylabel('CTR')\n",
    "\n",
    "ax.bar_label(ax.containers[0], fontsize=10)\n",
    "ax.bar_label(ax.containers[1], fontsize=10)\n",
    "\n",
    "plt.show()\n",
    "\n",
    "plt.figure(figsize=(12, 4))\n",
    "ax = sns.barplot(data=ctr_total_platf, x='product', y='ratio')\n",
    "\n",
    "plt.title('CTR по продуктам')\n",
    "plt.xlabel('Product')\n",
    "plt.ylabel('CTR')\n",
    "\n",
    "ax.bar_label(ax.containers[0], fontsize=10)\n",
    "\n",
    "plt.show()"
   ]
  },
  {
   "cell_type": "markdown",
   "id": "213f9d6c",
   "metadata": {},
   "source": [
    "- Самый высокий CTR у \"clothes\" - 25%. Почти каждый четвертый кликает по баннеру с рекламой одежды.\n",
    "- Самые некликабельные баннеры - \"accessories\", \"company\", \"sports_nutrition\" - примерно 15%.\n",
    "- CTR мобильной версии заметно выше, чем десктопной.\n",
    "- На мобилках чаще кликают на баннер с одеждой.\n",
    "- На мобилках реже кликают на баннер со спортивным питанием.\n",
    "___"
   ]
  },
  {
   "cell_type": "markdown",
   "id": "0794fba6",
   "metadata": {},
   "source": [
    "### CR"
   ]
  },
  {
   "cell_type": "markdown",
   "id": "ade38a7c",
   "metadata": {},
   "source": [
    "#### Первый расчет метрики"
   ]
  },
  {
   "cell_type": "markdown",
   "id": "4a490b5e",
   "metadata": {},
   "source": [
    "Метрика **CR** (Conversion Rate) позволяет оценить конверсию с кликов на покупки. Чтобы рассчитать данную конверсию, нужно покупки разделить на клики."
   ]
  },
  {
   "cell_type": "code",
   "execution_count": 291,
   "id": "5d413135",
   "metadata": {},
   "outputs": [],
   "source": [
    "cr = ((purchases / clicks) * 100).reset_index()\n",
    "cr = cr.rename(columns={\"user\": \"ratio\"})\n",
    "cr_total_platf = cr.groupby('product')['ratio'].sum().reset_index()"
   ]
  },
  {
   "cell_type": "code",
   "execution_count": 292,
   "id": "8f2aeec0",
   "metadata": {},
   "outputs": [
    {
     "data": {
      "text/html": [
       "<div>\n",
       "<style scoped>\n",
       "    .dataframe tbody tr th:only-of-type {\n",
       "        vertical-align: middle;\n",
       "    }\n",
       "\n",
       "    .dataframe tbody tr th {\n",
       "        vertical-align: top;\n",
       "    }\n",
       "\n",
       "    .dataframe thead th {\n",
       "        text-align: right;\n",
       "    }\n",
       "</style>\n",
       "<table border=\"1\" class=\"dataframe\">\n",
       "  <thead>\n",
       "    <tr style=\"text-align: right;\">\n",
       "      <th></th>\n",
       "      <th>product</th>\n",
       "      <th>site_version</th>\n",
       "      <th>ratio</th>\n",
       "    </tr>\n",
       "  </thead>\n",
       "  <tbody>\n",
       "    <tr>\n",
       "      <th>0</th>\n",
       "      <td>accessories</td>\n",
       "      <td>desktop</td>\n",
       "      <td>119.372943</td>\n",
       "    </tr>\n",
       "    <tr>\n",
       "      <th>1</th>\n",
       "      <td>accessories</td>\n",
       "      <td>mobile</td>\n",
       "      <td>19.053201</td>\n",
       "    </tr>\n",
       "    <tr>\n",
       "      <th>2</th>\n",
       "      <td>clothes</td>\n",
       "      <td>desktop</td>\n",
       "      <td>204.316525</td>\n",
       "    </tr>\n",
       "    <tr>\n",
       "      <th>3</th>\n",
       "      <td>clothes</td>\n",
       "      <td>mobile</td>\n",
       "      <td>24.352817</td>\n",
       "    </tr>\n",
       "    <tr>\n",
       "      <th>4</th>\n",
       "      <td>company</td>\n",
       "      <td>desktop</td>\n",
       "      <td>0.000000</td>\n",
       "    </tr>\n",
       "    <tr>\n",
       "      <th>5</th>\n",
       "      <td>company</td>\n",
       "      <td>mobile</td>\n",
       "      <td>0.000000</td>\n",
       "    </tr>\n",
       "    <tr>\n",
       "      <th>6</th>\n",
       "      <td>sneakers</td>\n",
       "      <td>desktop</td>\n",
       "      <td>152.037910</td>\n",
       "    </tr>\n",
       "    <tr>\n",
       "      <th>7</th>\n",
       "      <td>sneakers</td>\n",
       "      <td>mobile</td>\n",
       "      <td>21.810669</td>\n",
       "    </tr>\n",
       "    <tr>\n",
       "      <th>8</th>\n",
       "      <td>sports_nutrition</td>\n",
       "      <td>desktop</td>\n",
       "      <td>83.042538</td>\n",
       "    </tr>\n",
       "    <tr>\n",
       "      <th>9</th>\n",
       "      <td>sports_nutrition</td>\n",
       "      <td>mobile</td>\n",
       "      <td>9.324064</td>\n",
       "    </tr>\n",
       "  </tbody>\n",
       "</table>\n",
       "</div>"
      ],
      "text/plain": [
       "            product site_version       ratio\n",
       "0       accessories      desktop  119.372943\n",
       "1       accessories       mobile   19.053201\n",
       "2           clothes      desktop  204.316525\n",
       "3           clothes       mobile   24.352817\n",
       "4           company      desktop    0.000000\n",
       "5           company       mobile    0.000000\n",
       "6          sneakers      desktop  152.037910\n",
       "7          sneakers       mobile   21.810669\n",
       "8  sports_nutrition      desktop   83.042538\n",
       "9  sports_nutrition       mobile    9.324064"
      ]
     },
     "execution_count": 292,
     "metadata": {},
     "output_type": "execute_result"
    }
   ],
   "source": [
    "cr"
   ]
  },
  {
   "cell_type": "markdown",
   "id": "b21bf7d0",
   "metadata": {},
   "source": [
    "На десктопе получили аномальные значения - они больше 100%. Есть версия, что некоторые покупки были сделаны без предварительного клика на баннер. Стоит ее проверить\n",
    "___"
   ]
  },
  {
   "cell_type": "markdown",
   "id": "42c4747a",
   "metadata": {},
   "source": [
    "#### Поиск \"небаннерных\" покупок"
   ]
  },
  {
   "cell_type": "markdown",
   "id": "8c6bc6e8",
   "metadata": {},
   "source": [
    "Удаляем 'site_version', т.к. платформа не имеет значения в данном случае"
   ]
  },
  {
   "cell_type": "code",
   "execution_count": 293,
   "id": "6580f223",
   "metadata": {},
   "outputs": [],
   "source": [
    "df_copy = df.drop('site_version', axis=1).reset_index()"
   ]
  },
  {
   "cell_type": "markdown",
   "id": "91fcf09e",
   "metadata": {},
   "source": [
    "Создадим отдельные датафреймы со статусами order и banner_click"
   ]
  },
  {
   "cell_type": "code",
   "execution_count": 294,
   "id": "e46ed940",
   "metadata": {},
   "outputs": [],
   "source": [
    "order_filtered = df_copy[df_copy['title'] == 'order']"
   ]
  },
  {
   "cell_type": "code",
   "execution_count": 295,
   "id": "04913a18",
   "metadata": {},
   "outputs": [],
   "source": [
    "banner_click_filtered = df_copy[df_copy['title'] == 'banner_click']"
   ]
  },
  {
   "cell_type": "markdown",
   "id": "a4337d34",
   "metadata": {},
   "source": [
    "Смерджим к данным с покупками данные с кликами в разрезе пользователя и продукта - это поможет понять, был ли клик на баннер перед покупкой определенного товара покупателем или нет."
   ]
  },
  {
   "cell_type": "code",
   "execution_count": 296,
   "id": "03d13d7d",
   "metadata": {},
   "outputs": [],
   "source": [
    "merged = order_filtered.merge(banner_click_filtered, on=['user', 'product'], suffixes=('_order', '_click'), how='left')"
   ]
  },
  {
   "cell_type": "code",
   "execution_count": 297,
   "id": "a3895715",
   "metadata": {},
   "outputs": [
    {
     "data": {
      "text/html": [
       "<div>\n",
       "<style scoped>\n",
       "    .dataframe tbody tr th:only-of-type {\n",
       "        vertical-align: middle;\n",
       "    }\n",
       "\n",
       "    .dataframe tbody tr th {\n",
       "        vertical-align: top;\n",
       "    }\n",
       "\n",
       "    .dataframe thead th {\n",
       "        text-align: right;\n",
       "    }\n",
       "</style>\n",
       "<table border=\"1\" class=\"dataframe\">\n",
       "  <thead>\n",
       "    <tr style=\"text-align: right;\">\n",
       "      <th></th>\n",
       "      <th>index_order</th>\n",
       "      <th>page_id_order</th>\n",
       "      <th>product</th>\n",
       "      <th>title_order</th>\n",
       "      <th>user</th>\n",
       "      <th>index_click</th>\n",
       "      <th>page_id_click</th>\n",
       "      <th>title_click</th>\n",
       "    </tr>\n",
       "  </thead>\n",
       "  <tbody>\n",
       "    <tr>\n",
       "      <th>0</th>\n",
       "      <td>66</td>\n",
       "      <td>NaN</td>\n",
       "      <td>sports_nutrition</td>\n",
       "      <td>order</td>\n",
       "      <td>user_21</td>\n",
       "      <td>NaN</td>\n",
       "      <td>NaN</td>\n",
       "      <td>NaN</td>\n",
       "    </tr>\n",
       "    <tr>\n",
       "      <th>1</th>\n",
       "      <td>112</td>\n",
       "      <td>NaN</td>\n",
       "      <td>sneakers</td>\n",
       "      <td>order</td>\n",
       "      <td>user_35</td>\n",
       "      <td>NaN</td>\n",
       "      <td>NaN</td>\n",
       "      <td>NaN</td>\n",
       "    </tr>\n",
       "    <tr>\n",
       "      <th>2</th>\n",
       "      <td>113</td>\n",
       "      <td>NaN</td>\n",
       "      <td>clothes</td>\n",
       "      <td>order</td>\n",
       "      <td>user_35</td>\n",
       "      <td>110.0</td>\n",
       "      <td>1687.0</td>\n",
       "      <td>banner_click</td>\n",
       "    </tr>\n",
       "    <tr>\n",
       "      <th>3</th>\n",
       "      <td>171</td>\n",
       "      <td>NaN</td>\n",
       "      <td>sports_nutrition</td>\n",
       "      <td>order</td>\n",
       "      <td>user_53</td>\n",
       "      <td>NaN</td>\n",
       "      <td>NaN</td>\n",
       "      <td>NaN</td>\n",
       "    </tr>\n",
       "    <tr>\n",
       "      <th>4</th>\n",
       "      <td>185</td>\n",
       "      <td>NaN</td>\n",
       "      <td>accessories</td>\n",
       "      <td>order</td>\n",
       "      <td>user_55</td>\n",
       "      <td>NaN</td>\n",
       "      <td>NaN</td>\n",
       "      <td>NaN</td>\n",
       "    </tr>\n",
       "  </tbody>\n",
       "</table>\n",
       "</div>"
      ],
      "text/plain": [
       "   index_order  page_id_order           product title_order     user  \\\n",
       "0           66            NaN  sports_nutrition       order  user_21   \n",
       "1          112            NaN          sneakers       order  user_35   \n",
       "2          113            NaN           clothes       order  user_35   \n",
       "3          171            NaN  sports_nutrition       order  user_53   \n",
       "4          185            NaN       accessories       order  user_55   \n",
       "\n",
       "   index_click  page_id_click   title_click  \n",
       "0          NaN            NaN           NaN  \n",
       "1          NaN            NaN           NaN  \n",
       "2        110.0         1687.0  banner_click  \n",
       "3          NaN            NaN           NaN  \n",
       "4          NaN            NaN           NaN  "
      ]
     },
     "execution_count": 297,
     "metadata": {},
     "output_type": "execute_result"
    }
   ],
   "source": [
    "merged.head(5)"
   ]
  },
  {
   "cell_type": "markdown",
   "id": "28d04923",
   "metadata": {},
   "source": [
    "Наличие пустых значений в столбцах `_click` говорит о том, что товар был куплен пользователем не через клик по баннеру.\n",
    "\n",
    "**Теория оказалась верна**\n",
    "___\n",
    "Оставим в таблице **merged** только \"небаннерные\" покупки"
   ]
  },
  {
   "cell_type": "code",
   "execution_count": 298,
   "id": "8fd611a3",
   "metadata": {},
   "outputs": [],
   "source": [
    "merged_clear = merged.query('title_click.isna()')"
   ]
  },
  {
   "cell_type": "markdown",
   "id": "78290be2",
   "metadata": {},
   "source": [
    "Составим список индексов \"небаннерных\" покупок"
   ]
  },
  {
   "cell_type": "code",
   "execution_count": 299,
   "id": "72f588f5",
   "metadata": {},
   "outputs": [],
   "source": [
    "index_list = merged_clear['index_order'].to_list()"
   ]
  },
  {
   "cell_type": "code",
   "execution_count": 300,
   "id": "49a0460e",
   "metadata": {},
   "outputs": [
    {
     "data": {
      "text/plain": [
       "220084"
      ]
     },
     "execution_count": 300,
     "metadata": {},
     "output_type": "execute_result"
    }
   ],
   "source": [
    "len(index_list)"
   ]
  },
  {
   "cell_type": "markdown",
   "id": "0de3a472",
   "metadata": {},
   "source": [
    "Удалим их из общего датасета"
   ]
  },
  {
   "cell_type": "code",
   "execution_count": 301,
   "id": "9261eee9",
   "metadata": {},
   "outputs": [
    {
     "data": {
      "text/plain": [
       "(8471226, 5)"
      ]
     },
     "execution_count": 301,
     "metadata": {},
     "output_type": "execute_result"
    }
   ],
   "source": [
    "df.shape"
   ]
  },
  {
   "cell_type": "code",
   "execution_count": 302,
   "id": "5656ac2e",
   "metadata": {},
   "outputs": [],
   "source": [
    "df = df.drop(index=index_list)"
   ]
  },
  {
   "cell_type": "code",
   "execution_count": 303,
   "id": "a8e56d18",
   "metadata": {},
   "outputs": [
    {
     "data": {
      "text/plain": [
       "(8251142, 5)"
      ]
     },
     "execution_count": 303,
     "metadata": {},
     "output_type": "execute_result"
    }
   ],
   "source": [
    "df.shape"
   ]
  },
  {
   "cell_type": "markdown",
   "id": "1c61d4ac",
   "metadata": {},
   "source": [
    "#### Финальный расчет метрики"
   ]
  },
  {
   "cell_type": "code",
   "execution_count": 304,
   "id": "a3f29bd1",
   "metadata": {},
   "outputs": [],
   "source": [
    "purchases = df[df['title'] == 'order'].groupby(['product', 'site_version'])['user'].count() # Покупки"
   ]
  },
  {
   "cell_type": "code",
   "execution_count": 305,
   "id": "9c68ecd9",
   "metadata": {},
   "outputs": [],
   "source": [
    "cr = ((purchases / clicks) * 100).reset_index()\n",
    "cr = cr.rename(columns={\"user\": \"ratio\"})\n",
    "cr_total_platf = cr.groupby('product')['ratio'].sum().reset_index()"
   ]
  },
  {
   "cell_type": "code",
   "execution_count": 306,
   "id": "491a63d1",
   "metadata": {},
   "outputs": [
    {
     "data": {
      "text/html": [
       "<div>\n",
       "<style scoped>\n",
       "    .dataframe tbody tr th:only-of-type {\n",
       "        vertical-align: middle;\n",
       "    }\n",
       "\n",
       "    .dataframe tbody tr th {\n",
       "        vertical-align: top;\n",
       "    }\n",
       "\n",
       "    .dataframe thead th {\n",
       "        text-align: right;\n",
       "    }\n",
       "</style>\n",
       "<table border=\"1\" class=\"dataframe\">\n",
       "  <thead>\n",
       "    <tr style=\"text-align: right;\">\n",
       "      <th></th>\n",
       "      <th>product</th>\n",
       "      <th>site_version</th>\n",
       "      <th>ratio</th>\n",
       "    </tr>\n",
       "  </thead>\n",
       "  <tbody>\n",
       "    <tr>\n",
       "      <th>0</th>\n",
       "      <td>accessories</td>\n",
       "      <td>desktop</td>\n",
       "      <td>7.797744</td>\n",
       "    </tr>\n",
       "    <tr>\n",
       "      <th>1</th>\n",
       "      <td>accessories</td>\n",
       "      <td>mobile</td>\n",
       "      <td>2.508431</td>\n",
       "    </tr>\n",
       "    <tr>\n",
       "      <th>2</th>\n",
       "      <td>clothes</td>\n",
       "      <td>desktop</td>\n",
       "      <td>17.796895</td>\n",
       "    </tr>\n",
       "    <tr>\n",
       "      <th>3</th>\n",
       "      <td>clothes</td>\n",
       "      <td>mobile</td>\n",
       "      <td>4.341529</td>\n",
       "    </tr>\n",
       "    <tr>\n",
       "      <th>4</th>\n",
       "      <td>company</td>\n",
       "      <td>desktop</td>\n",
       "      <td>0.000000</td>\n",
       "    </tr>\n",
       "    <tr>\n",
       "      <th>5</th>\n",
       "      <td>company</td>\n",
       "      <td>mobile</td>\n",
       "      <td>0.000000</td>\n",
       "    </tr>\n",
       "    <tr>\n",
       "      <th>6</th>\n",
       "      <td>sneakers</td>\n",
       "      <td>desktop</td>\n",
       "      <td>10.429992</td>\n",
       "    </tr>\n",
       "    <tr>\n",
       "      <th>7</th>\n",
       "      <td>sneakers</td>\n",
       "      <td>mobile</td>\n",
       "      <td>3.538324</td>\n",
       "    </tr>\n",
       "    <tr>\n",
       "      <th>8</th>\n",
       "      <td>sports_nutrition</td>\n",
       "      <td>desktop</td>\n",
       "      <td>4.361932</td>\n",
       "    </tr>\n",
       "    <tr>\n",
       "      <th>9</th>\n",
       "      <td>sports_nutrition</td>\n",
       "      <td>mobile</td>\n",
       "      <td>1.304865</td>\n",
       "    </tr>\n",
       "  </tbody>\n",
       "</table>\n",
       "</div>"
      ],
      "text/plain": [
       "            product site_version      ratio\n",
       "0       accessories      desktop   7.797744\n",
       "1       accessories       mobile   2.508431\n",
       "2           clothes      desktop  17.796895\n",
       "3           clothes       mobile   4.341529\n",
       "4           company      desktop   0.000000\n",
       "5           company       mobile   0.000000\n",
       "6          sneakers      desktop  10.429992\n",
       "7          sneakers       mobile   3.538324\n",
       "8  sports_nutrition      desktop   4.361932\n",
       "9  sports_nutrition       mobile   1.304865"
      ]
     },
     "execution_count": 306,
     "metadata": {},
     "output_type": "execute_result"
    }
   ],
   "source": [
    "cr"
   ]
  },
  {
   "cell_type": "code",
   "execution_count": 307,
   "id": "c21ca683",
   "metadata": {},
   "outputs": [
    {
     "data": {
      "text/html": [
       "<div>\n",
       "<style scoped>\n",
       "    .dataframe tbody tr th:only-of-type {\n",
       "        vertical-align: middle;\n",
       "    }\n",
       "\n",
       "    .dataframe tbody tr th {\n",
       "        vertical-align: top;\n",
       "    }\n",
       "\n",
       "    .dataframe thead th {\n",
       "        text-align: right;\n",
       "    }\n",
       "</style>\n",
       "<table border=\"1\" class=\"dataframe\">\n",
       "  <thead>\n",
       "    <tr style=\"text-align: right;\">\n",
       "      <th></th>\n",
       "      <th>product</th>\n",
       "      <th>ratio</th>\n",
       "    </tr>\n",
       "  </thead>\n",
       "  <tbody>\n",
       "    <tr>\n",
       "      <th>0</th>\n",
       "      <td>accessories</td>\n",
       "      <td>10.306175</td>\n",
       "    </tr>\n",
       "    <tr>\n",
       "      <th>1</th>\n",
       "      <td>clothes</td>\n",
       "      <td>22.138424</td>\n",
       "    </tr>\n",
       "    <tr>\n",
       "      <th>2</th>\n",
       "      <td>company</td>\n",
       "      <td>0.000000</td>\n",
       "    </tr>\n",
       "    <tr>\n",
       "      <th>3</th>\n",
       "      <td>sneakers</td>\n",
       "      <td>13.968316</td>\n",
       "    </tr>\n",
       "    <tr>\n",
       "      <th>4</th>\n",
       "      <td>sports_nutrition</td>\n",
       "      <td>5.666798</td>\n",
       "    </tr>\n",
       "  </tbody>\n",
       "</table>\n",
       "</div>"
      ],
      "text/plain": [
       "            product      ratio\n",
       "0       accessories  10.306175\n",
       "1           clothes  22.138424\n",
       "2           company   0.000000\n",
       "3          sneakers  13.968316\n",
       "4  sports_nutrition   5.666798"
      ]
     },
     "execution_count": 307,
     "metadata": {},
     "output_type": "execute_result"
    }
   ],
   "source": [
    "cr_total_platf"
   ]
  },
  {
   "cell_type": "markdown",
   "id": "23386a9d",
   "metadata": {},
   "source": [
    "Получили намного более адекватные значения"
   ]
  },
  {
   "cell_type": "code",
   "execution_count": 308,
   "id": "32a203d0",
   "metadata": {},
   "outputs": [
    {
     "data": {
      "image/png": "[encoded data removed]",
      "text/plain": [
       "<Figure size 1200x400 with 1 Axes>"
      ]
     },
     "metadata": {},
     "output_type": "display_data"
    },
    {
     "data": {
      "image/png": "[encoded data removed]",
      "text/plain": [
       "<Figure size 1200x400 with 1 Axes>"
      ]
     },
     "metadata": {},
     "output_type": "display_data"
    }
   ],
   "source": [
    "plt.figure(figsize=(12, 4))\n",
    "ax = sns.barplot(data=cr, x='product', y='ratio', hue='site_version')\n",
    "\n",
    "plt.title('CR по продуктам и версиям сайта')\n",
    "plt.xlabel('Product')\n",
    "plt.ylabel('CR')\n",
    "\n",
    "ax.bar_label(ax.containers[0], fontsize=10)\n",
    "ax.bar_label(ax.containers[1], fontsize=10)\n",
    "\n",
    "plt.show()\n",
    "\n",
    "plt.figure(figsize=(12, 4))\n",
    "ax = sns.barplot(data=cr_total_platf, x='product', y='ratio')\n",
    "\n",
    "plt.title('CR по продуктам')\n",
    "plt.xlabel('Product')\n",
    "plt.ylabel('CR')\n",
    "\n",
    "ax.bar_label(ax.containers[0], fontsize=10)\n",
    "\n",
    "plt.show()"
   ]
  },
  {
   "cell_type": "markdown",
   "id": "b6b4d93b",
   "metadata": {},
   "source": [
    "- Самый высокий CR у \"clothes\" - 22%.\n",
    "- У \"sports_nutrition\" самая маленькая конверсия в покупки - чуть больше 5%.\n",
    "- В то время, как CTR мобильной версии заметно выше, чем десктопной, то с CR картина противоположная: конверсия в покупки выше с десктопа.\n",
    "- Конверсия в покупку у моблильной версии крайне низок\n",
    "___"
   ]
  },
  {
   "cell_type": "markdown",
   "id": "36b2b7a0",
   "metadata": {},
   "source": [
    "### Итог"
   ]
  },
  {
   "cell_type": "markdown",
   "id": "57074f35",
   "metadata": {},
   "source": [
    "По условию задачи у менеджера компании появилось предложение от партнеров: продать это место для баннера и рекламировать там другой сервис (оплата предполагается по CPC-модели, т.е. стоимость за клик). Посмотрим на полученные CTR и CR"
   ]
  },
  {
   "cell_type": "code",
   "execution_count": 309,
   "id": "cc4bab37",
   "metadata": {},
   "outputs": [],
   "source": [
    "def plot(data, name):\n",
    "    plt.figure(figsize=(12, 4))\n",
    "    ax = sns.barplot(data=data, x='product', y='ratio', hue='site_version')\n",
    "\n",
    "    plt.title(f'{name} по продуктам и версиям сайта')\n",
    "    plt.xlabel('Product')\n",
    "    plt.ylabel(f'{name}')\n",
    "\n",
    "    ax.bar_label(ax.containers[0], fontsize=10)\n",
    "    ax.bar_label(ax.containers[1], fontsize=10)\n",
    "\n",
    "    plt.show()"
   ]
  },
  {
   "cell_type": "code",
   "execution_count": 310,
   "id": "ac11be97",
   "metadata": {},
   "outputs": [
    {
     "data": {
      "image/png": "[encoded data removed]",
      "text/plain": [
       "<Figure size 1200x400 with 1 Axes>"
      ]
     },
     "metadata": {},
     "output_type": "display_data"
    }
   ],
   "source": [
    "plot(ctr, 'CTR')"
   ]
  },
  {
   "cell_type": "code",
   "execution_count": 311,
   "id": "c1eea4fc",
   "metadata": {},
   "outputs": [
    {
     "data": {
      "image/png": "[encoded data removed]",
      "text/plain": [
       "<Figure size 1200x400 with 1 Axes>"
      ]
     },
     "metadata": {},
     "output_type": "display_data"
    }
   ],
   "source": [
    "plot(cr, 'CR')"
   ]
  },
  {
   "cell_type": "markdown",
   "id": "cded89e3",
   "metadata": {},
   "source": [
    "- Мобильная версия сайта демонстрирует высокий CTR, но низкий CR. Это означает, что пользователи кликают на баннеры, но менее склонны делать покупки.\n",
    "- Десктопная версия имеет более низкий CTR, но высокий CR по основным категориям товаров, особенно для clothes и sneakers. Это говорит о том, что баннеры на десктопе более склонны стимулировать покупки, несмотря на меньший объем кликов. Уверен, сказывается более удобный опыт пользования именно десктопом, а не мобильным приложением.\n",
    "- Недостаточно информации о баннерах с компанией. Возможно, вообще стоит отказаться от них, т.к. данная реклама не генерирует прибыли (по крайней мере, в данных нет об этом информации).\n",
    "___\n",
    "Рекомендации менеджеру:\n",
    "- Т.к. мобильная версия сайта демонстрирует высокий CTR, есть смысл продать место для компании-партнера. Для моделей оплаты за клик (CPC) высокая кликабельность - это ключевой показатель, так как основной доход будет генерироваться через количество кликов.\n",
    "- В продаже на десктопной версии смысла не вижу: CTR и так небольшой, появление баннеров другой компании могут повлиять на прибыль, ведь именно с десктопной версии больше всего кликов конвертируется в покупки."
   ]
  }
 ],
 "metadata": {
  "kernelspec": {
   "display_name": "Python 3 (ipykernel)",
   "language": "python",
   "name": "python3"
  },
  "language_info": {
   "codemirror_mode": {
    "name": "ipython",
    "version": 3
   },
   "file_extension": ".py",
   "mimetype": "text/x-python",
   "name": "python",
   "nbconvert_exporter": "python",
   "pygments_lexer": "ipython3",
   "version": "3.9.13"
  },
  "toc": {
   "base_numbering": 1,
   "nav_menu": {},
   "number_sections": true,
   "sideBar": true,
   "skip_h1_title": true,
   "title_cell": "Table of Contents",
   "title_sidebar": "Contents",
   "toc_cell": false,
   "toc_position": {
    "height": "calc(100% - 180px)",
    "left": "10px",
    "top": "150px",
    "width": "426.667px"
   },
   "toc_section_display": true,
   "toc_window_display": true
  },
  "vp": {
   "vp_config_version": "1.0.0",
   "vp_menu_width": 273,
   "vp_note_display": false,
   "vp_note_width": 0,
   "vp_position": {
    "width": 278
   },
   "vp_section_display": false,
   "vp_signature": "VisualPython"
  }
 },
 "nbformat": 4,
 "nbformat_minor": 5
}
