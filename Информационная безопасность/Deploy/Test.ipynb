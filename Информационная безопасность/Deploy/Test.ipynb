{
 "cells": [
  {
   "cell_type": "code",
   "execution_count": 26,
   "id": "17a3323b",
   "metadata": {
    "scrolled": true
   },
   "outputs": [],
   "source": [
    "import requests\n",
    "\n",
    "application = {'destination_port': 53,\n",
    " 'flow_duration': 22326,\n",
    " 'total_fwd_packets': 2,\n",
    " 'total_backward_packets': 2,\n",
    " 'total_length_of_fwd_packets': 80,\n",
    " 'total_length_of_bwd_packets': 224,\n",
    " 'fwd_packet_length_max': 40,\n",
    " 'fwd_packet_length_min': 40,\n",
    " 'fwd_packet_length_mean': 40.0,\n",
    " 'fwd_packet_length_std': 0.0,\n",
    " 'bwd_packet_length_max': 112,\n",
    " 'bwd_packet_length_min': 112,\n",
    " 'bwd_packet_length_mean': 112.0,\n",
    " 'bwd_packet_length_std': 0.0,\n",
    " 'flow_bytes/s': 1982.0,\n",
    " 'flow_packets/s': 26.078125,\n",
    " 'flow_iat_mean': 51136.0,\n",
    " 'flow_iat_std': 65504.0,\n",
    " 'flow_iat_max': 22319,\n",
    " 'flow_iat_min': 3,\n",
    " 'fwd_iat_total': 3,\n",
    " 'fwd_iat_mean': 3.0,\n",
    " 'fwd_iat_std': 0.0,\n",
    " 'fwd_iat_max': 3,\n",
    " 'fwd_iat_min': 3,\n",
    " 'bwd_iat_total': 4,\n",
    " 'bwd_iat_mean': 4.0,\n",
    " 'bwd_iat_std': 0.0,\n",
    " 'bwd_iat_max': 4,\n",
    " 'bwd_iat_min': 4,\n",
    " 'fwd_psh_flags': 0,\n",
    " 'bwd_psh_flags': 0,\n",
    " 'fwd_urg_flags': 0,\n",
    " 'bwd_urg_flags': 0,\n",
    " 'fwd_header_length': 40,\n",
    " 'bwd_header_length': 40,\n",
    " 'fwd_packets/s': 13.0390625,\n",
    " 'bwd_packets/s': 13.0390625,\n",
    " 'min_packet_length': 40,\n",
    " 'max_packet_length': 112,\n",
    " 'packet_length_mean': 68.8125,\n",
    " 'packet_length_std': 39.4375,\n",
    " 'packet_length_variance': 1555.0,\n",
    " 'fin_flag_count': 0,\n",
    " 'syn_flag_count': 0,\n",
    " 'rst_flag_count': 0,\n",
    " 'psh_flag_count': 0,\n",
    " 'ack_flag_count': 0,\n",
    " 'urg_flag_count': 0,\n",
    " 'cwe_flag_count': 0,\n",
    " 'ece_flag_count': 0,\n",
    " 'down/up_ratio': 1,\n",
    " 'average_packet_size': 86.0,\n",
    " 'avg_fwd_segment_size': 40.0,\n",
    " 'avg_bwd_segment_size': 112.0,\n",
    " 'fwd_header_length.1': 40,\n",
    " 'fwd_avg_bytes/bulk': 0,\n",
    " 'fwd_avg_packets/bulk': 0,\n",
    " 'fwd_avg_bulk_rate': 0,\n",
    " 'bwd_avg_bytes/bulk': 0,\n",
    " 'bwd_avg_packets/bulk': 0,\n",
    " 'bwd_avg_bulk_rate': 0,\n",
    " 'subflow_fwd_packets': 2,\n",
    " 'subflow_fwd_bytes': 80,\n",
    " 'subflow_bwd_packets': 2,\n",
    " 'subflow_bwd_bytes': 224,\n",
    " 'init_win_bytes_forward': -1,\n",
    " 'init_win_bytes_backward': -1,\n",
    " 'act_data_pkt_fwd': 1,\n",
    " 'min_seg_size_forward': 20,\n",
    " 'active_mean': 0.0,\n",
    " 'active_std': 0.0,\n",
    " 'active_max': 0,\n",
    " 'active_min': 0,\n",
    " 'idle_mean': 0.0,\n",
    " 'idle_std': 0.0,\n",
    " 'idle_max': 0,\n",
    " 'idle_min': 0}\n",
    "\n",
    "url = \"http://127.0.0.1:8989/predict\"\n",
    "resp = requests.post(url, json=application)\n",
    "#print(resp.json())"
   ]
  },
  {
   "cell_type": "code",
   "execution_count": 27,
   "id": "1c0feb37",
   "metadata": {},
   "outputs": [
    {
     "name": "stdout",
     "output_type": "stream",
     "text": [
      "{\n",
      "  \"predicted_class\": 8,\n",
      "  \"probabilities\": [\n",
      "    [\n",
      "      0.27121269702911377,\n",
      "      5.5520089517813176e-05,\n",
      "      7.124172896055825e-08,\n",
      "      2.8549271746669547e-07,\n",
      "      9.83049176284112e-07,\n",
      "      5.880364142285543e-07,\n",
      "      6.445604867622023e-07,\n",
      "      3.771013439290982e-07,\n",
      "      0.7286872863769531,\n",
      "      3.930209913960425e-06,\n",
      "      3.677182394312695e-05,\n",
      "      9.121989563709576e-08,\n",
      "      3.2152610174307483e-07,\n",
      "      1.720222542189731e-07,\n",
      "      2.8386921258061193e-07\n",
      "    ]\n",
      "  ]\n",
      "}\n",
      "\n"
     ]
    }
   ],
   "source": [
    "print(resp.text)"
   ]
  },
  {
   "cell_type": "markdown",
   "id": "65b0818b",
   "metadata": {},
   "source": [
    "docker build -t default-service:v01 .\n",
    "\n",
    "docker run -it --rm -p 8989:8989 default-service:v01\n",
    "\n",
    "docker stop $(docker ps -a -q)"
   ]
  }
 ],
 "metadata": {
  "kernelspec": {
   "display_name": "Python 3 (ipykernel)",
   "language": "python",
   "name": "python3"
  },
  "language_info": {
   "codemirror_mode": {
    "name": "ipython",
    "version": 3
   },
   "file_extension": ".py",
   "mimetype": "text/x-python",
   "name": "python",
   "nbconvert_exporter": "python",
   "pygments_lexer": "ipython3",
   "version": "3.9.13"
  },
  "toc": {
   "base_numbering": 1,
   "nav_menu": {},
   "number_sections": true,
   "sideBar": true,
   "skip_h1_title": false,
   "title_cell": "Table of Contents",
   "title_sidebar": "Contents",
   "toc_cell": false,
   "toc_position": {},
   "toc_section_display": true,
   "toc_window_display": false
  },
  "vp": {
   "vp_config_version": "1.0.0",
   "vp_menu_width": 273,
   "vp_note_display": false,
   "vp_note_width": 0,
   "vp_position": {
    "width": 278
   },
   "vp_section_display": false,
   "vp_signature": "VisualPython"
  }
 },
 "nbformat": 4,
 "nbformat_minor": 5
}
